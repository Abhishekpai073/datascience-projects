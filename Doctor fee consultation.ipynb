{
 "cells": [
  {
   "cell_type": "markdown",
   "metadata": {},
   "source": [
    "# Doctor's Consultation Fees Prediction"
   ]
  },
  {
   "cell_type": "markdown",
   "metadata": {},
   "source": [
    "Predict A Doctor's Consultation Fee \n",
    "\n",
    "\n",
    "\n",
    "We have all been in situation where we go to a doctor in emergency and find that the consultation fees are too high. As a data scientist we all should do better. What if you have data that records important details about a doctor and you get to build a model to predict the doctor’s consulting fee.? This is the use case that let's you do that. \n",
    "\n",
    "Size of training set: 5961 records\n",
    "\n",
    "Size of test set: 1987 records\n",
    "\n",
    "\n",
    "\n",
    "FEATURES:\n",
    "\n",
    "Qualification: Qualification and degrees held by the doctor\n",
    "\n",
    "Experience: Experience of the doctor in number of years\n",
    "\n",
    "Rating: Rating given by patients\n",
    "\n",
    "Profile: Type of the doctor\n",
    "\n",
    "Miscellaneous_Info: Extra information about the doctor\n",
    "\n",
    "Fees: Fees charged by the doctor (Target Variable)\n",
    "\n",
    "Place: Area and the city where the doctor is located."
   ]
  },
  {
   "cell_type": "markdown",
   "metadata": {},
   "source": [
    "# Target"
   ]
  },
  {
   "cell_type": "markdown",
   "metadata": {},
   "source": [
    "Consultation Fee"
   ]
  },
  {
   "cell_type": "markdown",
   "metadata": {},
   "source": [
    "# Importing Libraries"
   ]
  },
  {
   "cell_type": "code",
   "execution_count": 1544,
   "metadata": {},
   "outputs": [],
   "source": [
    "import numpy as np\n",
    "import pandas as pd\n",
    "import seaborn as sns\n",
    "import matplotlib\n",
    "import matplotlib.pyplot as plt\n",
    "import plotly.express as px\n",
    "from sklearn.metrics import classification_report\n",
    "from scipy.stats import skew\n",
    "from sklearn.preprocessing import power_transform\n",
    "from sklearn import metrics\n",
    "from sklearn.impute import SimpleImputer\n",
    "import xgboost as xgb\n",
    "from xgboost.sklearn import XGBRegressor\n",
    "from sklearn.preprocessing import LabelEncoder,StandardScaler,OneHotEncoder,MinMaxScaler\n",
    "from sklearn.model_selection import train_test_split,cross_val_score,cross_val_predict,GridSearchCV\n",
    "from sklearn.metrics import accuracy_score,confusion_matrix,f1_score,mean_squared_error,roc_curve,precision_recall_curve\n",
    "from sklearn.linear_model import LinearRegression,Ridge,Lasso\n",
    "from sklearn.tree import DecisionTreeRegressor\n",
    "from sklearn.svm import SVR\n",
    "from sklearn.ensemble import RandomForestRegressor,AdaBoostRegressor,ExtraTreesRegressor,GradientBoostingRegressor\n",
    "from sklearn.metrics import r2_score\n",
    "\n",
    "import warnings\n",
    "warnings.filterwarnings(\"ignore\")"
   ]
  },
  {
   "cell_type": "markdown",
   "metadata": {},
   "source": [
    "# Importing datasets i.e Train and Test"
   ]
  },
  {
   "cell_type": "code",
   "execution_count": 1545,
   "metadata": {},
   "outputs": [],
   "source": [
    "tr=pd.read_excel(\"Final_Train.xlsx\")"
   ]
  },
  {
   "cell_type": "code",
   "execution_count": 1546,
   "metadata": {},
   "outputs": [],
   "source": [
    "ts=pd.read_excel(\"Final_Test.xlsx\")"
   ]
  },
  {
   "cell_type": "code",
   "execution_count": 1547,
   "metadata": {},
   "outputs": [
    {
     "data": {
      "text/html": [
       "<div>\n",
       "<style scoped>\n",
       "    .dataframe tbody tr th:only-of-type {\n",
       "        vertical-align: middle;\n",
       "    }\n",
       "\n",
       "    .dataframe tbody tr th {\n",
       "        vertical-align: top;\n",
       "    }\n",
       "\n",
       "    .dataframe thead th {\n",
       "        text-align: right;\n",
       "    }\n",
       "</style>\n",
       "<table border=\"1\" class=\"dataframe\">\n",
       "  <thead>\n",
       "    <tr style=\"text-align: right;\">\n",
       "      <th></th>\n",
       "      <th>Qualification</th>\n",
       "      <th>Experience</th>\n",
       "      <th>Rating</th>\n",
       "      <th>Place</th>\n",
       "      <th>Profile</th>\n",
       "      <th>Miscellaneous_Info</th>\n",
       "      <th>Fees</th>\n",
       "    </tr>\n",
       "  </thead>\n",
       "  <tbody>\n",
       "    <tr>\n",
       "      <th>0</th>\n",
       "      <td>BHMS, MD - Homeopathy</td>\n",
       "      <td>24 years experience</td>\n",
       "      <td>100%</td>\n",
       "      <td>Kakkanad, Ernakulam</td>\n",
       "      <td>Homeopath</td>\n",
       "      <td>100% 16 Feedback Kakkanad, Ernakulam</td>\n",
       "      <td>100</td>\n",
       "    </tr>\n",
       "    <tr>\n",
       "      <th>1</th>\n",
       "      <td>BAMS, MD - Ayurveda Medicine</td>\n",
       "      <td>12 years experience</td>\n",
       "      <td>98%</td>\n",
       "      <td>Whitefield, Bangalore</td>\n",
       "      <td>Ayurveda</td>\n",
       "      <td>98% 76 Feedback Whitefield, Bangalore</td>\n",
       "      <td>350</td>\n",
       "    </tr>\n",
       "    <tr>\n",
       "      <th>2</th>\n",
       "      <td>MBBS, MS - Otorhinolaryngology</td>\n",
       "      <td>9 years experience</td>\n",
       "      <td>NaN</td>\n",
       "      <td>Mathikere - BEL, Bangalore</td>\n",
       "      <td>ENT Specialist</td>\n",
       "      <td>NaN</td>\n",
       "      <td>300</td>\n",
       "    </tr>\n",
       "    <tr>\n",
       "      <th>3</th>\n",
       "      <td>BSc - Zoology, BAMS</td>\n",
       "      <td>12 years experience</td>\n",
       "      <td>NaN</td>\n",
       "      <td>Bannerghatta Road, Bangalore</td>\n",
       "      <td>Ayurveda</td>\n",
       "      <td>Bannerghatta Road, Bangalore ₹250 Available on...</td>\n",
       "      <td>250</td>\n",
       "    </tr>\n",
       "    <tr>\n",
       "      <th>4</th>\n",
       "      <td>BAMS</td>\n",
       "      <td>20 years experience</td>\n",
       "      <td>100%</td>\n",
       "      <td>Keelkattalai, Chennai</td>\n",
       "      <td>Ayurveda</td>\n",
       "      <td>100% 4 Feedback Keelkattalai, Chennai</td>\n",
       "      <td>250</td>\n",
       "    </tr>\n",
       "  </tbody>\n",
       "</table>\n",
       "</div>"
      ],
      "text/plain": [
       "                    Qualification           Experience Rating  \\\n",
       "0           BHMS, MD - Homeopathy  24 years experience   100%   \n",
       "1    BAMS, MD - Ayurveda Medicine  12 years experience    98%   \n",
       "2  MBBS, MS - Otorhinolaryngology   9 years experience    NaN   \n",
       "3             BSc - Zoology, BAMS  12 years experience    NaN   \n",
       "4                            BAMS  20 years experience   100%   \n",
       "\n",
       "                          Place         Profile  \\\n",
       "0           Kakkanad, Ernakulam       Homeopath   \n",
       "1         Whitefield, Bangalore        Ayurveda   \n",
       "2    Mathikere - BEL, Bangalore  ENT Specialist   \n",
       "3  Bannerghatta Road, Bangalore        Ayurveda   \n",
       "4         Keelkattalai, Chennai        Ayurveda   \n",
       "\n",
       "                                  Miscellaneous_Info  Fees  \n",
       "0               100% 16 Feedback Kakkanad, Ernakulam   100  \n",
       "1              98% 76 Feedback Whitefield, Bangalore   350  \n",
       "2                                                NaN   300  \n",
       "3  Bannerghatta Road, Bangalore ₹250 Available on...   250  \n",
       "4              100% 4 Feedback Keelkattalai, Chennai   250  "
      ]
     },
     "execution_count": 1547,
     "metadata": {},
     "output_type": "execute_result"
    }
   ],
   "source": [
    "tr.head()"
   ]
  },
  {
   "cell_type": "code",
   "execution_count": 1548,
   "metadata": {},
   "outputs": [
    {
     "data": {
      "text/html": [
       "<div>\n",
       "<style scoped>\n",
       "    .dataframe tbody tr th:only-of-type {\n",
       "        vertical-align: middle;\n",
       "    }\n",
       "\n",
       "    .dataframe tbody tr th {\n",
       "        vertical-align: top;\n",
       "    }\n",
       "\n",
       "    .dataframe thead th {\n",
       "        text-align: right;\n",
       "    }\n",
       "</style>\n",
       "<table border=\"1\" class=\"dataframe\">\n",
       "  <thead>\n",
       "    <tr style=\"text-align: right;\">\n",
       "      <th></th>\n",
       "      <th>Qualification</th>\n",
       "      <th>Experience</th>\n",
       "      <th>Rating</th>\n",
       "      <th>Place</th>\n",
       "      <th>Profile</th>\n",
       "      <th>Miscellaneous_Info</th>\n",
       "    </tr>\n",
       "  </thead>\n",
       "  <tbody>\n",
       "    <tr>\n",
       "      <th>0</th>\n",
       "      <td>MBBS</td>\n",
       "      <td>35 years experience</td>\n",
       "      <td>NaN</td>\n",
       "      <td>Ghatkopar East, Mumbai</td>\n",
       "      <td>General Medicine</td>\n",
       "      <td>NaN</td>\n",
       "    </tr>\n",
       "    <tr>\n",
       "      <th>1</th>\n",
       "      <td>MBBS, Diploma in Otorhinolaryngology (DLO)</td>\n",
       "      <td>31 years experience</td>\n",
       "      <td>NaN</td>\n",
       "      <td>West Marredpally, Hyderabad</td>\n",
       "      <td>ENT Specialist</td>\n",
       "      <td>NaN</td>\n",
       "    </tr>\n",
       "    <tr>\n",
       "      <th>2</th>\n",
       "      <td>MBBS, DDVL</td>\n",
       "      <td>40 years experience</td>\n",
       "      <td>70%</td>\n",
       "      <td>KK Nagar, Chennai</td>\n",
       "      <td>Dermatologists</td>\n",
       "      <td>70% 4 Feedback KK Nagar, Chennai</td>\n",
       "    </tr>\n",
       "    <tr>\n",
       "      <th>3</th>\n",
       "      <td>BAMS</td>\n",
       "      <td>0 years experience</td>\n",
       "      <td>NaN</td>\n",
       "      <td>New Ashok Nagar, Delhi</td>\n",
       "      <td>Ayurveda</td>\n",
       "      <td>NaN</td>\n",
       "    </tr>\n",
       "    <tr>\n",
       "      <th>4</th>\n",
       "      <td>BDS, MDS - Conservative Dentistry &amp; Endodontics</td>\n",
       "      <td>16 years experience</td>\n",
       "      <td>100%</td>\n",
       "      <td>Kanakpura Road, Bangalore</td>\n",
       "      <td>Dentist</td>\n",
       "      <td>General Dentistry Conservative Dentistry Cosme...</td>\n",
       "    </tr>\n",
       "  </tbody>\n",
       "</table>\n",
       "</div>"
      ],
      "text/plain": [
       "                                     Qualification           Experience  \\\n",
       "0                                             MBBS  35 years experience   \n",
       "1       MBBS, Diploma in Otorhinolaryngology (DLO)  31 years experience   \n",
       "2                                       MBBS, DDVL  40 years experience   \n",
       "3                                             BAMS   0 years experience   \n",
       "4  BDS, MDS - Conservative Dentistry & Endodontics  16 years experience   \n",
       "\n",
       "  Rating                        Place           Profile  \\\n",
       "0    NaN       Ghatkopar East, Mumbai  General Medicine   \n",
       "1    NaN  West Marredpally, Hyderabad    ENT Specialist   \n",
       "2    70%            KK Nagar, Chennai    Dermatologists   \n",
       "3    NaN       New Ashok Nagar, Delhi          Ayurveda   \n",
       "4   100%    Kanakpura Road, Bangalore           Dentist   \n",
       "\n",
       "                                  Miscellaneous_Info  \n",
       "0                                                NaN  \n",
       "1                                                NaN  \n",
       "2                   70% 4 Feedback KK Nagar, Chennai  \n",
       "3                                                NaN  \n",
       "4  General Dentistry Conservative Dentistry Cosme...  "
      ]
     },
     "execution_count": 1548,
     "metadata": {},
     "output_type": "execute_result"
    }
   ],
   "source": [
    "ts.head()"
   ]
  },
  {
   "cell_type": "markdown",
   "metadata": {},
   "source": [
    "loading first 5 rows for tain and test data"
   ]
  },
  {
   "cell_type": "code",
   "execution_count": 1549,
   "metadata": {},
   "outputs": [
    {
     "data": {
      "text/plain": [
       "((5961, 7), (1987, 6))"
      ]
     },
     "execution_count": 1549,
     "metadata": {},
     "output_type": "execute_result"
    }
   ],
   "source": [
    "tr.shape, ts.shape"
   ]
  },
  {
   "cell_type": "code",
   "execution_count": 1550,
   "metadata": {},
   "outputs": [
    {
     "name": "stdout",
     "output_type": "stream",
     "text": [
      "<class 'pandas.core.frame.DataFrame'>\n",
      "RangeIndex: 5961 entries, 0 to 5960\n",
      "Data columns (total 7 columns):\n",
      " #   Column              Non-Null Count  Dtype \n",
      "---  ------              --------------  ----- \n",
      " 0   Qualification       5961 non-null   object\n",
      " 1   Experience          5961 non-null   object\n",
      " 2   Rating              2659 non-null   object\n",
      " 3   Place               5936 non-null   object\n",
      " 4   Profile             5961 non-null   object\n",
      " 5   Miscellaneous_Info  3341 non-null   object\n",
      " 6   Fees                5961 non-null   int64 \n",
      "dtypes: int64(1), object(6)\n",
      "memory usage: 326.1+ KB\n"
     ]
    }
   ],
   "source": [
    "tr.info()"
   ]
  },
  {
   "cell_type": "markdown",
   "metadata": {},
   "source": [
    "The train data has  5961 rows and 7 columns"
   ]
  },
  {
   "cell_type": "code",
   "execution_count": 1551,
   "metadata": {},
   "outputs": [
    {
     "name": "stdout",
     "output_type": "stream",
     "text": [
      "<class 'pandas.core.frame.DataFrame'>\n",
      "RangeIndex: 1987 entries, 0 to 1986\n",
      "Data columns (total 6 columns):\n",
      " #   Column              Non-Null Count  Dtype \n",
      "---  ------              --------------  ----- \n",
      " 0   Qualification       1987 non-null   object\n",
      " 1   Experience          1987 non-null   object\n",
      " 2   Rating              897 non-null    object\n",
      " 3   Place               1981 non-null   object\n",
      " 4   Profile             1987 non-null   object\n",
      " 5   Miscellaneous_Info  1153 non-null   object\n",
      "dtypes: object(6)\n",
      "memory usage: 93.3+ KB\n"
     ]
    }
   ],
   "source": [
    "ts.info()"
   ]
  },
  {
   "cell_type": "markdown",
   "metadata": {},
   "source": [
    "The train data has 1987  rows and 6 columns"
   ]
  },
  {
   "cell_type": "code",
   "execution_count": 1552,
   "metadata": {
    "scrolled": true
   },
   "outputs": [
    {
     "data": {
      "text/html": [
       "<div>\n",
       "<style scoped>\n",
       "    .dataframe tbody tr th:only-of-type {\n",
       "        vertical-align: middle;\n",
       "    }\n",
       "\n",
       "    .dataframe tbody tr th {\n",
       "        vertical-align: top;\n",
       "    }\n",
       "\n",
       "    .dataframe thead th {\n",
       "        text-align: right;\n",
       "    }\n",
       "</style>\n",
       "<table border=\"1\" class=\"dataframe\">\n",
       "  <thead>\n",
       "    <tr style=\"text-align: right;\">\n",
       "      <th></th>\n",
       "      <th>Qualification</th>\n",
       "      <th>Experience</th>\n",
       "      <th>Rating</th>\n",
       "      <th>Place</th>\n",
       "      <th>Profile</th>\n",
       "      <th>Miscellaneous_Info</th>\n",
       "      <th>Fees</th>\n",
       "    </tr>\n",
       "  </thead>\n",
       "  <tbody>\n",
       "    <tr>\n",
       "      <th>count</th>\n",
       "      <td>5961</td>\n",
       "      <td>5961</td>\n",
       "      <td>2659</td>\n",
       "      <td>5936</td>\n",
       "      <td>5961</td>\n",
       "      <td>3341</td>\n",
       "      <td>5961.000000</td>\n",
       "    </tr>\n",
       "    <tr>\n",
       "      <th>unique</th>\n",
       "      <td>1420</td>\n",
       "      <td>64</td>\n",
       "      <td>51</td>\n",
       "      <td>877</td>\n",
       "      <td>6</td>\n",
       "      <td>2998</td>\n",
       "      <td>NaN</td>\n",
       "    </tr>\n",
       "    <tr>\n",
       "      <th>top</th>\n",
       "      <td>BDS</td>\n",
       "      <td>9 years experience</td>\n",
       "      <td>100%</td>\n",
       "      <td>HSR Layout, Bangalore</td>\n",
       "      <td>Dentist</td>\n",
       "      <td>Acrylic Partial Denture Crowns and Bridges Fix...</td>\n",
       "      <td>NaN</td>\n",
       "    </tr>\n",
       "    <tr>\n",
       "      <th>freq</th>\n",
       "      <td>488</td>\n",
       "      <td>323</td>\n",
       "      <td>684</td>\n",
       "      <td>75</td>\n",
       "      <td>1397</td>\n",
       "      <td>40</td>\n",
       "      <td>NaN</td>\n",
       "    </tr>\n",
       "    <tr>\n",
       "      <th>mean</th>\n",
       "      <td>NaN</td>\n",
       "      <td>NaN</td>\n",
       "      <td>NaN</td>\n",
       "      <td>NaN</td>\n",
       "      <td>NaN</td>\n",
       "      <td>NaN</td>\n",
       "      <td>307.944640</td>\n",
       "    </tr>\n",
       "    <tr>\n",
       "      <th>std</th>\n",
       "      <td>NaN</td>\n",
       "      <td>NaN</td>\n",
       "      <td>NaN</td>\n",
       "      <td>NaN</td>\n",
       "      <td>NaN</td>\n",
       "      <td>NaN</td>\n",
       "      <td>190.920373</td>\n",
       "    </tr>\n",
       "    <tr>\n",
       "      <th>min</th>\n",
       "      <td>NaN</td>\n",
       "      <td>NaN</td>\n",
       "      <td>NaN</td>\n",
       "      <td>NaN</td>\n",
       "      <td>NaN</td>\n",
       "      <td>NaN</td>\n",
       "      <td>5.000000</td>\n",
       "    </tr>\n",
       "    <tr>\n",
       "      <th>25%</th>\n",
       "      <td>NaN</td>\n",
       "      <td>NaN</td>\n",
       "      <td>NaN</td>\n",
       "      <td>NaN</td>\n",
       "      <td>NaN</td>\n",
       "      <td>NaN</td>\n",
       "      <td>150.000000</td>\n",
       "    </tr>\n",
       "    <tr>\n",
       "      <th>50%</th>\n",
       "      <td>NaN</td>\n",
       "      <td>NaN</td>\n",
       "      <td>NaN</td>\n",
       "      <td>NaN</td>\n",
       "      <td>NaN</td>\n",
       "      <td>NaN</td>\n",
       "      <td>300.000000</td>\n",
       "    </tr>\n",
       "    <tr>\n",
       "      <th>75%</th>\n",
       "      <td>NaN</td>\n",
       "      <td>NaN</td>\n",
       "      <td>NaN</td>\n",
       "      <td>NaN</td>\n",
       "      <td>NaN</td>\n",
       "      <td>NaN</td>\n",
       "      <td>500.000000</td>\n",
       "    </tr>\n",
       "    <tr>\n",
       "      <th>max</th>\n",
       "      <td>NaN</td>\n",
       "      <td>NaN</td>\n",
       "      <td>NaN</td>\n",
       "      <td>NaN</td>\n",
       "      <td>NaN</td>\n",
       "      <td>NaN</td>\n",
       "      <td>950.000000</td>\n",
       "    </tr>\n",
       "  </tbody>\n",
       "</table>\n",
       "</div>"
      ],
      "text/plain": [
       "       Qualification          Experience Rating                  Place  \\\n",
       "count           5961                5961   2659                   5936   \n",
       "unique          1420                  64     51                    877   \n",
       "top              BDS  9 years experience   100%  HSR Layout, Bangalore   \n",
       "freq             488                 323    684                     75   \n",
       "mean             NaN                 NaN    NaN                    NaN   \n",
       "std              NaN                 NaN    NaN                    NaN   \n",
       "min              NaN                 NaN    NaN                    NaN   \n",
       "25%              NaN                 NaN    NaN                    NaN   \n",
       "50%              NaN                 NaN    NaN                    NaN   \n",
       "75%              NaN                 NaN    NaN                    NaN   \n",
       "max              NaN                 NaN    NaN                    NaN   \n",
       "\n",
       "        Profile                                 Miscellaneous_Info  \\\n",
       "count      5961                                               3341   \n",
       "unique        6                                               2998   \n",
       "top     Dentist  Acrylic Partial Denture Crowns and Bridges Fix...   \n",
       "freq       1397                                                 40   \n",
       "mean        NaN                                                NaN   \n",
       "std         NaN                                                NaN   \n",
       "min         NaN                                                NaN   \n",
       "25%         NaN                                                NaN   \n",
       "50%         NaN                                                NaN   \n",
       "75%         NaN                                                NaN   \n",
       "max         NaN                                                NaN   \n",
       "\n",
       "               Fees  \n",
       "count   5961.000000  \n",
       "unique          NaN  \n",
       "top             NaN  \n",
       "freq            NaN  \n",
       "mean     307.944640  \n",
       "std      190.920373  \n",
       "min        5.000000  \n",
       "25%      150.000000  \n",
       "50%      300.000000  \n",
       "75%      500.000000  \n",
       "max      950.000000  "
      ]
     },
     "execution_count": 1552,
     "metadata": {},
     "output_type": "execute_result"
    }
   ],
   "source": [
    "tr.describe(include='all')"
   ]
  },
  {
   "cell_type": "code",
   "execution_count": 1553,
   "metadata": {
    "scrolled": false
   },
   "outputs": [
    {
     "data": {
      "text/html": [
       "<div>\n",
       "<style scoped>\n",
       "    .dataframe tbody tr th:only-of-type {\n",
       "        vertical-align: middle;\n",
       "    }\n",
       "\n",
       "    .dataframe tbody tr th {\n",
       "        vertical-align: top;\n",
       "    }\n",
       "\n",
       "    .dataframe thead th {\n",
       "        text-align: right;\n",
       "    }\n",
       "</style>\n",
       "<table border=\"1\" class=\"dataframe\">\n",
       "  <thead>\n",
       "    <tr style=\"text-align: right;\">\n",
       "      <th></th>\n",
       "      <th>Qualification</th>\n",
       "      <th>Experience</th>\n",
       "      <th>Rating</th>\n",
       "      <th>Place</th>\n",
       "      <th>Profile</th>\n",
       "      <th>Miscellaneous_Info</th>\n",
       "    </tr>\n",
       "  </thead>\n",
       "  <tbody>\n",
       "    <tr>\n",
       "      <th>count</th>\n",
       "      <td>1987</td>\n",
       "      <td>1987</td>\n",
       "      <td>897</td>\n",
       "      <td>1981</td>\n",
       "      <td>1987</td>\n",
       "      <td>1153</td>\n",
       "    </tr>\n",
       "    <tr>\n",
       "      <th>unique</th>\n",
       "      <td>630</td>\n",
       "      <td>57</td>\n",
       "      <td>36</td>\n",
       "      <td>592</td>\n",
       "      <td>6</td>\n",
       "      <td>1084</td>\n",
       "    </tr>\n",
       "    <tr>\n",
       "      <th>top</th>\n",
       "      <td>BAMS</td>\n",
       "      <td>10 years experience</td>\n",
       "      <td>100%</td>\n",
       "      <td>Andheri West, Mumbai</td>\n",
       "      <td>General Medicine</td>\n",
       "      <td>Acrylic Partial Denture Crowns and Bridges Fix...</td>\n",
       "    </tr>\n",
       "    <tr>\n",
       "      <th>freq</th>\n",
       "      <td>153</td>\n",
       "      <td>110</td>\n",
       "      <td>223</td>\n",
       "      <td>27</td>\n",
       "      <td>444</td>\n",
       "      <td>10</td>\n",
       "    </tr>\n",
       "  </tbody>\n",
       "</table>\n",
       "</div>"
      ],
      "text/plain": [
       "       Qualification           Experience Rating                 Place  \\\n",
       "count           1987                 1987    897                  1981   \n",
       "unique           630                   57     36                   592   \n",
       "top             BAMS  10 years experience   100%  Andheri West, Mumbai   \n",
       "freq             153                  110    223                    27   \n",
       "\n",
       "                 Profile                                 Miscellaneous_Info  \n",
       "count               1987                                               1153  \n",
       "unique                 6                                               1084  \n",
       "top     General Medicine  Acrylic Partial Denture Crowns and Bridges Fix...  \n",
       "freq                 444                                                 10  "
      ]
     },
     "execution_count": 1553,
     "metadata": {},
     "output_type": "execute_result"
    }
   ],
   "source": [
    "ts.describe(include='all')"
   ]
  },
  {
   "cell_type": "code",
   "execution_count": 1554,
   "metadata": {
    "scrolled": false
   },
   "outputs": [
    {
     "data": {
      "text/plain": [
       "Qualification            0\n",
       "Experience               0\n",
       "Rating                3302\n",
       "Place                   25\n",
       "Profile                  0\n",
       "Miscellaneous_Info    2620\n",
       "Fees                     0\n",
       "dtype: int64"
      ]
     },
     "execution_count": 1554,
     "metadata": {},
     "output_type": "execute_result"
    }
   ],
   "source": [
    "tr.isnull().sum()"
   ]
  },
  {
   "cell_type": "code",
   "execution_count": 1555,
   "metadata": {
    "scrolled": true
   },
   "outputs": [
    {
     "data": {
      "text/plain": [
       "Qualification            0\n",
       "Experience               0\n",
       "Rating                1090\n",
       "Place                    6\n",
       "Profile                  0\n",
       "Miscellaneous_Info     834\n",
       "dtype: int64"
      ]
     },
     "execution_count": 1555,
     "metadata": {},
     "output_type": "execute_result"
    }
   ],
   "source": [
    "ts.isnull().sum()"
   ]
  },
  {
   "cell_type": "markdown",
   "metadata": {},
   "source": [
    "There are null values present in both train and test data"
   ]
  },
  {
   "cell_type": "code",
   "execution_count": 1556,
   "metadata": {},
   "outputs": [],
   "source": [
    "tr['Rating'].replace('(%)','',regex=True,inplace=True)\n",
    "ts['Rating'].replace('(%)','',regex=True,inplace=True)\n",
    "tr.Rating=tr.Rating.astype('float32')\n",
    "ts.Rating=ts.Rating.astype('float32')"
   ]
  },
  {
   "cell_type": "markdown",
   "metadata": {},
   "source": [
    "removing % symbol from rating column and converting it to Float column"
   ]
  },
  {
   "cell_type": "code",
   "execution_count": 1557,
   "metadata": {},
   "outputs": [
    {
     "data": {
      "text/html": [
       "<div>\n",
       "<style scoped>\n",
       "    .dataframe tbody tr th:only-of-type {\n",
       "        vertical-align: middle;\n",
       "    }\n",
       "\n",
       "    .dataframe tbody tr th {\n",
       "        vertical-align: top;\n",
       "    }\n",
       "\n",
       "    .dataframe thead th {\n",
       "        text-align: right;\n",
       "    }\n",
       "</style>\n",
       "<table border=\"1\" class=\"dataframe\">\n",
       "  <thead>\n",
       "    <tr style=\"text-align: right;\">\n",
       "      <th></th>\n",
       "      <th>Qualification</th>\n",
       "      <th>Experience</th>\n",
       "      <th>Rating</th>\n",
       "      <th>Place</th>\n",
       "      <th>Profile</th>\n",
       "      <th>Miscellaneous_Info</th>\n",
       "      <th>Fees</th>\n",
       "    </tr>\n",
       "  </thead>\n",
       "  <tbody>\n",
       "    <tr>\n",
       "      <th>0</th>\n",
       "      <td>BHMS, MD - Homeopathy</td>\n",
       "      <td>24 years experience</td>\n",
       "      <td>100.0</td>\n",
       "      <td>Kakkanad, Ernakulam</td>\n",
       "      <td>Homeopath</td>\n",
       "      <td>100% 16 Feedback Kakkanad, Ernakulam</td>\n",
       "      <td>100</td>\n",
       "    </tr>\n",
       "    <tr>\n",
       "      <th>1</th>\n",
       "      <td>BAMS, MD - Ayurveda Medicine</td>\n",
       "      <td>12 years experience</td>\n",
       "      <td>98.0</td>\n",
       "      <td>Whitefield, Bangalore</td>\n",
       "      <td>Ayurveda</td>\n",
       "      <td>98% 76 Feedback Whitefield, Bangalore</td>\n",
       "      <td>350</td>\n",
       "    </tr>\n",
       "    <tr>\n",
       "      <th>2</th>\n",
       "      <td>MBBS, MS - Otorhinolaryngology</td>\n",
       "      <td>9 years experience</td>\n",
       "      <td>NaN</td>\n",
       "      <td>Mathikere - BEL, Bangalore</td>\n",
       "      <td>ENT Specialist</td>\n",
       "      <td>NaN</td>\n",
       "      <td>300</td>\n",
       "    </tr>\n",
       "    <tr>\n",
       "      <th>3</th>\n",
       "      <td>BSc - Zoology, BAMS</td>\n",
       "      <td>12 years experience</td>\n",
       "      <td>NaN</td>\n",
       "      <td>Bannerghatta Road, Bangalore</td>\n",
       "      <td>Ayurveda</td>\n",
       "      <td>Bannerghatta Road, Bangalore ₹250 Available on...</td>\n",
       "      <td>250</td>\n",
       "    </tr>\n",
       "    <tr>\n",
       "      <th>4</th>\n",
       "      <td>BAMS</td>\n",
       "      <td>20 years experience</td>\n",
       "      <td>100.0</td>\n",
       "      <td>Keelkattalai, Chennai</td>\n",
       "      <td>Ayurveda</td>\n",
       "      <td>100% 4 Feedback Keelkattalai, Chennai</td>\n",
       "      <td>250</td>\n",
       "    </tr>\n",
       "  </tbody>\n",
       "</table>\n",
       "</div>"
      ],
      "text/plain": [
       "                    Qualification           Experience  Rating  \\\n",
       "0           BHMS, MD - Homeopathy  24 years experience   100.0   \n",
       "1    BAMS, MD - Ayurveda Medicine  12 years experience    98.0   \n",
       "2  MBBS, MS - Otorhinolaryngology   9 years experience     NaN   \n",
       "3             BSc - Zoology, BAMS  12 years experience     NaN   \n",
       "4                            BAMS  20 years experience   100.0   \n",
       "\n",
       "                          Place         Profile  \\\n",
       "0           Kakkanad, Ernakulam       Homeopath   \n",
       "1         Whitefield, Bangalore        Ayurveda   \n",
       "2    Mathikere - BEL, Bangalore  ENT Specialist   \n",
       "3  Bannerghatta Road, Bangalore        Ayurveda   \n",
       "4         Keelkattalai, Chennai        Ayurveda   \n",
       "\n",
       "                                  Miscellaneous_Info  Fees  \n",
       "0               100% 16 Feedback Kakkanad, Ernakulam   100  \n",
       "1              98% 76 Feedback Whitefield, Bangalore   350  \n",
       "2                                                NaN   300  \n",
       "3  Bannerghatta Road, Bangalore ₹250 Available on...   250  \n",
       "4              100% 4 Feedback Keelkattalai, Chennai   250  "
      ]
     },
     "execution_count": 1557,
     "metadata": {},
     "output_type": "execute_result"
    }
   ],
   "source": [
    "tr.head()"
   ]
  },
  {
   "cell_type": "code",
   "execution_count": 1558,
   "metadata": {},
   "outputs": [],
   "source": [
    "tr['Place']=tr['Place'].str.extract(r'.* (.*)')\n",
    "ts['Place']=ts['Place'].str.extract(r'.* (.*)')"
   ]
  },
  {
   "cell_type": "markdown",
   "metadata": {},
   "source": [
    "Extracting values from place columns for future analysis"
   ]
  },
  {
   "cell_type": "code",
   "execution_count": 1559,
   "metadata": {},
   "outputs": [
    {
     "data": {
      "text/html": [
       "<div>\n",
       "<style scoped>\n",
       "    .dataframe tbody tr th:only-of-type {\n",
       "        vertical-align: middle;\n",
       "    }\n",
       "\n",
       "    .dataframe tbody tr th {\n",
       "        vertical-align: top;\n",
       "    }\n",
       "\n",
       "    .dataframe thead th {\n",
       "        text-align: right;\n",
       "    }\n",
       "</style>\n",
       "<table border=\"1\" class=\"dataframe\">\n",
       "  <thead>\n",
       "    <tr style=\"text-align: right;\">\n",
       "      <th></th>\n",
       "      <th>Qualification</th>\n",
       "      <th>Experience</th>\n",
       "      <th>Rating</th>\n",
       "      <th>Place</th>\n",
       "      <th>Profile</th>\n",
       "      <th>Miscellaneous_Info</th>\n",
       "      <th>Fees</th>\n",
       "    </tr>\n",
       "  </thead>\n",
       "  <tbody>\n",
       "    <tr>\n",
       "      <th>0</th>\n",
       "      <td>BHMS, MD - Homeopathy</td>\n",
       "      <td>24 years experience</td>\n",
       "      <td>100.0</td>\n",
       "      <td>Ernakulam</td>\n",
       "      <td>Homeopath</td>\n",
       "      <td>100% 16 Feedback Kakkanad, Ernakulam</td>\n",
       "      <td>100</td>\n",
       "    </tr>\n",
       "    <tr>\n",
       "      <th>1</th>\n",
       "      <td>BAMS, MD - Ayurveda Medicine</td>\n",
       "      <td>12 years experience</td>\n",
       "      <td>98.0</td>\n",
       "      <td>Bangalore</td>\n",
       "      <td>Ayurveda</td>\n",
       "      <td>98% 76 Feedback Whitefield, Bangalore</td>\n",
       "      <td>350</td>\n",
       "    </tr>\n",
       "    <tr>\n",
       "      <th>2</th>\n",
       "      <td>MBBS, MS - Otorhinolaryngology</td>\n",
       "      <td>9 years experience</td>\n",
       "      <td>NaN</td>\n",
       "      <td>Bangalore</td>\n",
       "      <td>ENT Specialist</td>\n",
       "      <td>NaN</td>\n",
       "      <td>300</td>\n",
       "    </tr>\n",
       "    <tr>\n",
       "      <th>3</th>\n",
       "      <td>BSc - Zoology, BAMS</td>\n",
       "      <td>12 years experience</td>\n",
       "      <td>NaN</td>\n",
       "      <td>Bangalore</td>\n",
       "      <td>Ayurveda</td>\n",
       "      <td>Bannerghatta Road, Bangalore ₹250 Available on...</td>\n",
       "      <td>250</td>\n",
       "    </tr>\n",
       "    <tr>\n",
       "      <th>4</th>\n",
       "      <td>BAMS</td>\n",
       "      <td>20 years experience</td>\n",
       "      <td>100.0</td>\n",
       "      <td>Chennai</td>\n",
       "      <td>Ayurveda</td>\n",
       "      <td>100% 4 Feedback Keelkattalai, Chennai</td>\n",
       "      <td>250</td>\n",
       "    </tr>\n",
       "  </tbody>\n",
       "</table>\n",
       "</div>"
      ],
      "text/plain": [
       "                    Qualification           Experience  Rating      Place  \\\n",
       "0           BHMS, MD - Homeopathy  24 years experience   100.0  Ernakulam   \n",
       "1    BAMS, MD - Ayurveda Medicine  12 years experience    98.0  Bangalore   \n",
       "2  MBBS, MS - Otorhinolaryngology   9 years experience     NaN  Bangalore   \n",
       "3             BSc - Zoology, BAMS  12 years experience     NaN  Bangalore   \n",
       "4                            BAMS  20 years experience   100.0    Chennai   \n",
       "\n",
       "          Profile                                 Miscellaneous_Info  Fees  \n",
       "0       Homeopath               100% 16 Feedback Kakkanad, Ernakulam   100  \n",
       "1        Ayurveda              98% 76 Feedback Whitefield, Bangalore   350  \n",
       "2  ENT Specialist                                                NaN   300  \n",
       "3        Ayurveda  Bannerghatta Road, Bangalore ₹250 Available on...   250  \n",
       "4        Ayurveda              100% 4 Feedback Keelkattalai, Chennai   250  "
      ]
     },
     "execution_count": 1559,
     "metadata": {},
     "output_type": "execute_result"
    }
   ],
   "source": [
    "tr.head()"
   ]
  },
  {
   "cell_type": "code",
   "execution_count": 1560,
   "metadata": {},
   "outputs": [],
   "source": [
    "tr['Experience']=tr['Experience'].str.extract(r'(^\\d{1,2}) .*')\n",
    "ts['Experience']=ts['Experience'].str.extract(r'(^\\d{1,2}) .*')\n",
    "tr.Experience=tr.Experience.astype('int64')\n",
    "ts.Experience=ts.Experience.astype('int64')"
   ]
  },
  {
   "cell_type": "markdown",
   "metadata": {},
   "source": [
    "Extracting values from Experience columns and converting them to int values"
   ]
  },
  {
   "cell_type": "code",
   "execution_count": 1561,
   "metadata": {},
   "outputs": [
    {
     "data": {
      "text/plain": [
       "array(['Ernakulam', 'Bangalore', 'Chennai', 'Delhi', 'Hyderabad',\n",
       "       'Coimbatore', 'Mumbai', 'Thiruvananthapuram', nan], dtype=object)"
      ]
     },
     "execution_count": 1561,
     "metadata": {},
     "output_type": "execute_result"
    }
   ],
   "source": [
    "tr['Place'].unique()"
   ]
  },
  {
   "cell_type": "markdown",
   "metadata": {},
   "source": [
    "Looking for unique columns in Place column "
   ]
  },
  {
   "cell_type": "code",
   "execution_count": 1562,
   "metadata": {},
   "outputs": [
    {
     "data": {
      "text/plain": [
       "0"
      ]
     },
     "execution_count": 1562,
     "metadata": {},
     "output_type": "execute_result"
    }
   ],
   "source": [
    "tr['Place'].fillna('Ernakulam',inplace=True)\n",
    "ts['Place'].fillna('Bangalore',inplace=True)\n",
    "tr.Place.isnull().sum()\n",
    "ts.Place.isnull().sum()"
   ]
  },
  {
   "cell_type": "markdown",
   "metadata": {},
   "source": [
    "replacing null values for Place column in both the datasets"
   ]
  },
  {
   "cell_type": "code",
   "execution_count": 1563,
   "metadata": {},
   "outputs": [
    {
     "data": {
      "text/html": [
       "<div>\n",
       "<style scoped>\n",
       "    .dataframe tbody tr th:only-of-type {\n",
       "        vertical-align: middle;\n",
       "    }\n",
       "\n",
       "    .dataframe tbody tr th {\n",
       "        vertical-align: top;\n",
       "    }\n",
       "\n",
       "    .dataframe thead th {\n",
       "        text-align: right;\n",
       "    }\n",
       "</style>\n",
       "<table border=\"1\" class=\"dataframe\">\n",
       "  <thead>\n",
       "    <tr style=\"text-align: right;\">\n",
       "      <th></th>\n",
       "      <th>Qualification</th>\n",
       "      <th>Experience</th>\n",
       "      <th>Rating</th>\n",
       "      <th>Place</th>\n",
       "      <th>Profile</th>\n",
       "      <th>Miscellaneous_Info</th>\n",
       "      <th>Fees</th>\n",
       "    </tr>\n",
       "  </thead>\n",
       "  <tbody>\n",
       "    <tr>\n",
       "      <th>0</th>\n",
       "      <td>BHMS, MD - Homeopathy</td>\n",
       "      <td>24</td>\n",
       "      <td>100.0</td>\n",
       "      <td>Ernakulam</td>\n",
       "      <td>Homeopath</td>\n",
       "      <td>100% 16 Feedback Kakkanad, Ernakulam</td>\n",
       "      <td>100</td>\n",
       "    </tr>\n",
       "    <tr>\n",
       "      <th>1</th>\n",
       "      <td>BAMS, MD - Ayurveda Medicine</td>\n",
       "      <td>12</td>\n",
       "      <td>98.0</td>\n",
       "      <td>Bangalore</td>\n",
       "      <td>Ayurveda</td>\n",
       "      <td>98% 76 Feedback Whitefield, Bangalore</td>\n",
       "      <td>350</td>\n",
       "    </tr>\n",
       "    <tr>\n",
       "      <th>2</th>\n",
       "      <td>MBBS, MS - Otorhinolaryngology</td>\n",
       "      <td>9</td>\n",
       "      <td>NaN</td>\n",
       "      <td>Bangalore</td>\n",
       "      <td>ENT Specialist</td>\n",
       "      <td>NaN</td>\n",
       "      <td>300</td>\n",
       "    </tr>\n",
       "    <tr>\n",
       "      <th>3</th>\n",
       "      <td>BSc - Zoology, BAMS</td>\n",
       "      <td>12</td>\n",
       "      <td>NaN</td>\n",
       "      <td>Bangalore</td>\n",
       "      <td>Ayurveda</td>\n",
       "      <td>Bannerghatta Road, Bangalore ₹250 Available on...</td>\n",
       "      <td>250</td>\n",
       "    </tr>\n",
       "    <tr>\n",
       "      <th>4</th>\n",
       "      <td>BAMS</td>\n",
       "      <td>20</td>\n",
       "      <td>100.0</td>\n",
       "      <td>Chennai</td>\n",
       "      <td>Ayurveda</td>\n",
       "      <td>100% 4 Feedback Keelkattalai, Chennai</td>\n",
       "      <td>250</td>\n",
       "    </tr>\n",
       "  </tbody>\n",
       "</table>\n",
       "</div>"
      ],
      "text/plain": [
       "                    Qualification  Experience  Rating      Place  \\\n",
       "0           BHMS, MD - Homeopathy          24   100.0  Ernakulam   \n",
       "1    BAMS, MD - Ayurveda Medicine          12    98.0  Bangalore   \n",
       "2  MBBS, MS - Otorhinolaryngology           9     NaN  Bangalore   \n",
       "3             BSc - Zoology, BAMS          12     NaN  Bangalore   \n",
       "4                            BAMS          20   100.0    Chennai   \n",
       "\n",
       "          Profile                                 Miscellaneous_Info  Fees  \n",
       "0       Homeopath               100% 16 Feedback Kakkanad, Ernakulam   100  \n",
       "1        Ayurveda              98% 76 Feedback Whitefield, Bangalore   350  \n",
       "2  ENT Specialist                                                NaN   300  \n",
       "3        Ayurveda  Bannerghatta Road, Bangalore ₹250 Available on...   250  \n",
       "4        Ayurveda              100% 4 Feedback Keelkattalai, Chennai   250  "
      ]
     },
     "execution_count": 1563,
     "metadata": {},
     "output_type": "execute_result"
    }
   ],
   "source": [
    "tr.head()"
   ]
  },
  {
   "cell_type": "code",
   "execution_count": 1564,
   "metadata": {},
   "outputs": [],
   "source": [
    "\n",
    "tr['Miscellaneous_Info'].fillna('Unknown',inplace=True)\n",
    "ts['Miscellaneous_Info'].fillna('Unknown',inplace=True)\n"
   ]
  },
  {
   "cell_type": "markdown",
   "metadata": {},
   "source": [
    "Filling null values in profile column with median"
   ]
  },
  {
   "cell_type": "code",
   "execution_count": 1565,
   "metadata": {
    "scrolled": true
   },
   "outputs": [
    {
     "data": {
      "text/html": [
       "<div>\n",
       "<style scoped>\n",
       "    .dataframe tbody tr th:only-of-type {\n",
       "        vertical-align: middle;\n",
       "    }\n",
       "\n",
       "    .dataframe tbody tr th {\n",
       "        vertical-align: top;\n",
       "    }\n",
       "\n",
       "    .dataframe thead th {\n",
       "        text-align: right;\n",
       "    }\n",
       "</style>\n",
       "<table border=\"1\" class=\"dataframe\">\n",
       "  <thead>\n",
       "    <tr style=\"text-align: right;\">\n",
       "      <th></th>\n",
       "      <th>Qualification</th>\n",
       "      <th>Experience</th>\n",
       "      <th>Rating</th>\n",
       "      <th>Place</th>\n",
       "      <th>Profile</th>\n",
       "      <th>Miscellaneous_Info</th>\n",
       "      <th>Fees</th>\n",
       "    </tr>\n",
       "  </thead>\n",
       "  <tbody>\n",
       "    <tr>\n",
       "      <th>0</th>\n",
       "      <td>BHMS, MD - Homeopathy</td>\n",
       "      <td>24</td>\n",
       "      <td>100.0</td>\n",
       "      <td>Ernakulam</td>\n",
       "      <td>Homeopath</td>\n",
       "      <td>100% 16 Feedback Kakkanad, Ernakulam</td>\n",
       "      <td>100</td>\n",
       "    </tr>\n",
       "    <tr>\n",
       "      <th>1</th>\n",
       "      <td>BAMS, MD - Ayurveda Medicine</td>\n",
       "      <td>12</td>\n",
       "      <td>98.0</td>\n",
       "      <td>Bangalore</td>\n",
       "      <td>Ayurveda</td>\n",
       "      <td>98% 76 Feedback Whitefield, Bangalore</td>\n",
       "      <td>350</td>\n",
       "    </tr>\n",
       "    <tr>\n",
       "      <th>2</th>\n",
       "      <td>MBBS, MS - Otorhinolaryngology</td>\n",
       "      <td>9</td>\n",
       "      <td>NaN</td>\n",
       "      <td>Bangalore</td>\n",
       "      <td>ENT Specialist</td>\n",
       "      <td>Unknown</td>\n",
       "      <td>300</td>\n",
       "    </tr>\n",
       "    <tr>\n",
       "      <th>3</th>\n",
       "      <td>BSc - Zoology, BAMS</td>\n",
       "      <td>12</td>\n",
       "      <td>NaN</td>\n",
       "      <td>Bangalore</td>\n",
       "      <td>Ayurveda</td>\n",
       "      <td>Bannerghatta Road, Bangalore ₹250 Available on...</td>\n",
       "      <td>250</td>\n",
       "    </tr>\n",
       "    <tr>\n",
       "      <th>4</th>\n",
       "      <td>BAMS</td>\n",
       "      <td>20</td>\n",
       "      <td>100.0</td>\n",
       "      <td>Chennai</td>\n",
       "      <td>Ayurveda</td>\n",
       "      <td>100% 4 Feedback Keelkattalai, Chennai</td>\n",
       "      <td>250</td>\n",
       "    </tr>\n",
       "  </tbody>\n",
       "</table>\n",
       "</div>"
      ],
      "text/plain": [
       "                    Qualification  Experience  Rating      Place  \\\n",
       "0           BHMS, MD - Homeopathy          24   100.0  Ernakulam   \n",
       "1    BAMS, MD - Ayurveda Medicine          12    98.0  Bangalore   \n",
       "2  MBBS, MS - Otorhinolaryngology           9     NaN  Bangalore   \n",
       "3             BSc - Zoology, BAMS          12     NaN  Bangalore   \n",
       "4                            BAMS          20   100.0    Chennai   \n",
       "\n",
       "          Profile                                 Miscellaneous_Info  Fees  \n",
       "0       Homeopath               100% 16 Feedback Kakkanad, Ernakulam   100  \n",
       "1        Ayurveda              98% 76 Feedback Whitefield, Bangalore   350  \n",
       "2  ENT Specialist                                            Unknown   300  \n",
       "3        Ayurveda  Bannerghatta Road, Bangalore ₹250 Available on...   250  \n",
       "4        Ayurveda              100% 4 Feedback Keelkattalai, Chennai   250  "
      ]
     },
     "execution_count": 1565,
     "metadata": {},
     "output_type": "execute_result"
    }
   ],
   "source": [
    "tr.head()"
   ]
  },
  {
   "cell_type": "code",
   "execution_count": 1566,
   "metadata": {},
   "outputs": [],
   "source": [
    "tr.Rating.fillna(tr['Rating'].mean(),inplace=True)\n",
    "ts.Rating.fillna(tr['Rating'].mean(),inplace=True)"
   ]
  },
  {
   "cell_type": "markdown",
   "metadata": {},
   "source": [
    "replacing null values in Miscellaneous_Info column with mean"
   ]
  },
  {
   "cell_type": "code",
   "execution_count": 1567,
   "metadata": {},
   "outputs": [
    {
     "data": {
      "text/html": [
       "<div>\n",
       "<style scoped>\n",
       "    .dataframe tbody tr th:only-of-type {\n",
       "        vertical-align: middle;\n",
       "    }\n",
       "\n",
       "    .dataframe tbody tr th {\n",
       "        vertical-align: top;\n",
       "    }\n",
       "\n",
       "    .dataframe thead th {\n",
       "        text-align: right;\n",
       "    }\n",
       "</style>\n",
       "<table border=\"1\" class=\"dataframe\">\n",
       "  <thead>\n",
       "    <tr style=\"text-align: right;\">\n",
       "      <th></th>\n",
       "      <th>Qualification</th>\n",
       "      <th>Experience</th>\n",
       "      <th>Rating</th>\n",
       "      <th>Place</th>\n",
       "      <th>Profile</th>\n",
       "      <th>Miscellaneous_Info</th>\n",
       "      <th>Fees</th>\n",
       "    </tr>\n",
       "  </thead>\n",
       "  <tbody>\n",
       "    <tr>\n",
       "      <th>0</th>\n",
       "      <td>BHMS, MD - Homeopathy</td>\n",
       "      <td>24</td>\n",
       "      <td>100.000000</td>\n",
       "      <td>Ernakulam</td>\n",
       "      <td>Homeopath</td>\n",
       "      <td>100% 16 Feedback Kakkanad, Ernakulam</td>\n",
       "      <td>100</td>\n",
       "    </tr>\n",
       "    <tr>\n",
       "      <th>1</th>\n",
       "      <td>BAMS, MD - Ayurveda Medicine</td>\n",
       "      <td>12</td>\n",
       "      <td>98.000000</td>\n",
       "      <td>Bangalore</td>\n",
       "      <td>Ayurveda</td>\n",
       "      <td>98% 76 Feedback Whitefield, Bangalore</td>\n",
       "      <td>350</td>\n",
       "    </tr>\n",
       "    <tr>\n",
       "      <th>2</th>\n",
       "      <td>MBBS, MS - Otorhinolaryngology</td>\n",
       "      <td>9</td>\n",
       "      <td>94.643478</td>\n",
       "      <td>Bangalore</td>\n",
       "      <td>ENT Specialist</td>\n",
       "      <td>Unknown</td>\n",
       "      <td>300</td>\n",
       "    </tr>\n",
       "    <tr>\n",
       "      <th>3</th>\n",
       "      <td>BSc - Zoology, BAMS</td>\n",
       "      <td>12</td>\n",
       "      <td>94.643478</td>\n",
       "      <td>Bangalore</td>\n",
       "      <td>Ayurveda</td>\n",
       "      <td>Bannerghatta Road, Bangalore ₹250 Available on...</td>\n",
       "      <td>250</td>\n",
       "    </tr>\n",
       "    <tr>\n",
       "      <th>4</th>\n",
       "      <td>BAMS</td>\n",
       "      <td>20</td>\n",
       "      <td>100.000000</td>\n",
       "      <td>Chennai</td>\n",
       "      <td>Ayurveda</td>\n",
       "      <td>100% 4 Feedback Keelkattalai, Chennai</td>\n",
       "      <td>250</td>\n",
       "    </tr>\n",
       "  </tbody>\n",
       "</table>\n",
       "</div>"
      ],
      "text/plain": [
       "                    Qualification  Experience      Rating      Place  \\\n",
       "0           BHMS, MD - Homeopathy          24  100.000000  Ernakulam   \n",
       "1    BAMS, MD - Ayurveda Medicine          12   98.000000  Bangalore   \n",
       "2  MBBS, MS - Otorhinolaryngology           9   94.643478  Bangalore   \n",
       "3             BSc - Zoology, BAMS          12   94.643478  Bangalore   \n",
       "4                            BAMS          20  100.000000    Chennai   \n",
       "\n",
       "          Profile                                 Miscellaneous_Info  Fees  \n",
       "0       Homeopath               100% 16 Feedback Kakkanad, Ernakulam   100  \n",
       "1        Ayurveda              98% 76 Feedback Whitefield, Bangalore   350  \n",
       "2  ENT Specialist                                            Unknown   300  \n",
       "3        Ayurveda  Bannerghatta Road, Bangalore ₹250 Available on...   250  \n",
       "4        Ayurveda              100% 4 Feedback Keelkattalai, Chennai   250  "
      ]
     },
     "execution_count": 1567,
     "metadata": {},
     "output_type": "execute_result"
    }
   ],
   "source": [
    "tr.head()"
   ]
  },
  {
   "cell_type": "code",
   "execution_count": 1568,
   "metadata": {},
   "outputs": [
    {
     "data": {
      "image/png": "[encoded data removed]",
      "text/plain": [
       "<Figure size 1080x504 with 1 Axes>"
      ]
     },
     "metadata": {
      "needs_background": "light"
     },
     "output_type": "display_data"
    }
   ],
   "source": [
    "fig, ax = plt.subplots(figsize=(15, 7))\n",
    "sns.countplot(tr['Fees'].sort_values(), ax=ax, color='purple', alpha=0.5)\n",
    "plt.show()"
   ]
  },
  {
   "cell_type": "markdown",
   "metadata": {},
   "source": [
    "The above plot shows the distribution of fees"
   ]
  },
  {
   "cell_type": "code",
   "execution_count": 1569,
   "metadata": {},
   "outputs": [
    {
     "data": {
      "image/png": "[encoded data removed]",
      "text/plain": [
       "<Figure size 1080x504 with 1 Axes>"
      ]
     },
     "metadata": {
      "needs_background": "light"
     },
     "output_type": "display_data"
    }
   ],
   "source": [
    "\n",
    "fig, ax = plt.subplots(figsize=(15,7))\n",
    "sns.countplot(tr['Experience'], ax=ax, color='blue', alpha=0.5)\n",
    "ax.set(title='Distribution of Experience')\n",
    "plt.show()"
   ]
  },
  {
   "cell_type": "markdown",
   "metadata": {},
   "source": [
    "The above plot shows the distribution of Experience"
   ]
  },
  {
   "cell_type": "code",
   "execution_count": 1570,
   "metadata": {
    "scrolled": false
   },
   "outputs": [
    {
     "data": {
      "image/png": "[encoded data removed]",
      "text/plain": [
       "<Figure size 3600x2160 with 1 Axes>"
      ]
     },
     "metadata": {
      "needs_background": "light"
     },
     "output_type": "display_data"
    }
   ],
   "source": [
    "plt.figure(1)\n",
    "plt.subplot(555)\n",
    "tr['Place'].value_counts(normalize=True).plot.bar(figsize=(50,30),title= 'Place',color=['gold', 'purple','orange','blue'])\n",
    "\n",
    "plt.show()"
   ]
  },
  {
   "cell_type": "markdown",
   "metadata": {},
   "source": [
    "The above plot shows that the City Bangalore has the highest number of feedbacks followed by  Mumbai and other cities"
   ]
  },
  {
   "cell_type": "code",
   "execution_count": 1571,
   "metadata": {
    "scrolled": false
   },
   "outputs": [
    {
     "data": {
      "image/png": "[encoded data removed]",
      "text/plain": [
       "<Figure size 3600x2160 with 1 Axes>"
      ]
     },
     "metadata": {
      "needs_background": "light"
     },
     "output_type": "display_data"
    }
   ],
   "source": [
    "plt.figure(1)\n",
    "plt.subplot(555)\n",
    "tr['Profile'].value_counts(normalize=True).plot.bar(figsize=(50,30),title= 'Profile',color=['gold', 'purple','orange','blue'])\n",
    "\n",
    "plt.show()"
   ]
  },
  {
   "cell_type": "markdown",
   "metadata": {},
   "source": [
    "The above plot shows that Dentist has the highest number of feedbacks followed by  General Medicine and other Profiles"
   ]
  },
  {
   "cell_type": "code",
   "execution_count": 1572,
   "metadata": {},
   "outputs": [
    {
     "data": {
      "image/png": "[encoded data removed]",
      "text/plain": [
       "<Figure size 432x432 with 3 Axes>"
      ]
     },
     "metadata": {
      "needs_background": "light"
     },
     "output_type": "display_data"
    }
   ],
   "source": [
    "\n",
    "sns.jointplot(tr['Experience'], tr['Rating'], color='orange', kind=\"reg\", fit_reg=True, joint_kws={'scatter_kws':{\"alpha\": 0.2}})\n",
    "plt.show()"
   ]
  },
  {
   "cell_type": "markdown",
   "metadata": {},
   "source": [
    "The above visualization shows the relation between Rating and Experience"
   ]
  },
  {
   "cell_type": "code",
   "execution_count": 1573,
   "metadata": {},
   "outputs": [
    {
     "data": {
      "image/png": "[encoded data removed]",
      "text/plain": [
       "<Figure size 432x432 with 3 Axes>"
      ]
     },
     "metadata": {
      "needs_background": "light"
     },
     "output_type": "display_data"
    }
   ],
   "source": [
    "sns.jointplot(tr['Experience'], tr['Fees'], color='red', kind=\"reg\", fit_reg=True,joint_kws={'scatter_kws':{\"alpha\": 0.2}})\n",
    "plt.show()\n"
   ]
  },
  {
   "cell_type": "markdown",
   "metadata": {},
   "source": [
    "The above visualization shows the relation between Esperience and Fees"
   ]
  },
  {
   "cell_type": "code",
   "execution_count": 1574,
   "metadata": {},
   "outputs": [
    {
     "data": {
      "image/png": "[encoded data removed]",
      "text/plain": [
       "<Figure size 432x432 with 3 Axes>"
      ]
     },
     "metadata": {
      "needs_background": "light"
     },
     "output_type": "display_data"
    }
   ],
   "source": [
    "\n",
    "sns.jointplot(tr['Rating'], tr['Fees'], color='purple', kind=\"reg\", fit_reg=True,joint_kws={'scatter_kws':{\"alpha\": 0.2}})\n",
    "plt.show()"
   ]
  },
  {
   "cell_type": "markdown",
   "metadata": {},
   "source": [
    "The above visualization shows the relation between Rating and Fees"
   ]
  },
  {
   "cell_type": "code",
   "execution_count": 1575,
   "metadata": {},
   "outputs": [
    {
     "data": {
      "image/png": "[encoded data removed]",
      "text/plain": [
       "<Figure size 483.5x360 with 6 Axes>"
      ]
     },
     "metadata": {
      "needs_background": "light"
     },
     "output_type": "display_data"
    }
   ],
   "source": [
    "\n",
    "sns.pairplot(tr.dropna().drop(['Rating','Place'], axis=1), kind=\"scatter\", hue=\"Profile\", plot_kws=dict(s=50, edgecolor=\"white\", linewidth=1))\n",
    "plt.show()\n"
   ]
  },
  {
   "cell_type": "markdown",
   "metadata": {},
   "source": [
    "The above visualization shows the relation of Profile with place and rating"
   ]
  },
  {
   "cell_type": "code",
   "execution_count": 1576,
   "metadata": {},
   "outputs": [
    {
     "data": {
      "image/png": "[encoded data removed]",
      "text/plain": [
       "<Figure size 648x432 with 2 Axes>"
      ]
     },
     "metadata": {
      "needs_background": "light"
     },
     "output_type": "display_data"
    }
   ],
   "source": [
    "corr_matrix = tr.corr()\n",
    "f, ax = plt.subplots(figsize=(9, 6))\n",
    "sns.heatmap(corr_matrix, vmax=.8, annot=True, square=True, cmap=\"gist_stern\");"
   ]
  },
  {
   "cell_type": "markdown",
   "metadata": {},
   "source": []
  },
  {
   "cell_type": "code",
   "execution_count": 1577,
   "metadata": {},
   "outputs": [
    {
     "data": {
      "text/plain": [
       "<AxesSubplot:>"
      ]
     },
     "execution_count": 1577,
     "metadata": {},
     "output_type": "execute_result"
    },
    {
     "data": {
      "image/png": "[encoded data removed]",
      "text/plain": [
       "<Figure size 1440x576 with 1 Axes>"
      ]
     },
     "metadata": {
      "needs_background": "light"
     },
     "output_type": "display_data"
    }
   ],
   "source": [
    "tr.boxplot( rot = 90, figsize=(20,8))"
   ]
  },
  {
   "cell_type": "code",
   "execution_count": 1578,
   "metadata": {},
   "outputs": [
    {
     "data": {
      "text/plain": [
       "<AxesSubplot:>"
      ]
     },
     "execution_count": 1578,
     "metadata": {},
     "output_type": "execute_result"
    },
    {
     "data": {
      "image/png": "[encoded data removed]",
      "text/plain": [
       "<Figure size 1440x576 with 1 Axes>"
      ]
     },
     "metadata": {
      "needs_background": "light"
     },
     "output_type": "display_data"
    }
   ],
   "source": [
    "ts.boxplot( rot = 90, figsize=(20,8))"
   ]
  },
  {
   "cell_type": "code",
   "execution_count": 1579,
   "metadata": {},
   "outputs": [
    {
     "data": {
      "text/html": [
       "<div>\n",
       "<style scoped>\n",
       "    .dataframe tbody tr th:only-of-type {\n",
       "        vertical-align: middle;\n",
       "    }\n",
       "\n",
       "    .dataframe tbody tr th {\n",
       "        vertical-align: top;\n",
       "    }\n",
       "\n",
       "    .dataframe thead th {\n",
       "        text-align: right;\n",
       "    }\n",
       "</style>\n",
       "<table border=\"1\" class=\"dataframe\">\n",
       "  <thead>\n",
       "    <tr style=\"text-align: right;\">\n",
       "      <th></th>\n",
       "      <th>Qualification</th>\n",
       "      <th>Experience</th>\n",
       "      <th>Rating</th>\n",
       "      <th>Place</th>\n",
       "      <th>Profile</th>\n",
       "      <th>Miscellaneous_Info</th>\n",
       "      <th>Fees</th>\n",
       "    </tr>\n",
       "  </thead>\n",
       "  <tbody>\n",
       "    <tr>\n",
       "      <th>0</th>\n",
       "      <td>BHMS, MD - Homeopathy</td>\n",
       "      <td>24</td>\n",
       "      <td>100.000000</td>\n",
       "      <td>Ernakulam</td>\n",
       "      <td>Homeopath</td>\n",
       "      <td>100% 16 Feedback Kakkanad, Ernakulam</td>\n",
       "      <td>100</td>\n",
       "    </tr>\n",
       "    <tr>\n",
       "      <th>1</th>\n",
       "      <td>BAMS, MD - Ayurveda Medicine</td>\n",
       "      <td>12</td>\n",
       "      <td>98.000000</td>\n",
       "      <td>Bangalore</td>\n",
       "      <td>Ayurveda</td>\n",
       "      <td>98% 76 Feedback Whitefield, Bangalore</td>\n",
       "      <td>350</td>\n",
       "    </tr>\n",
       "    <tr>\n",
       "      <th>2</th>\n",
       "      <td>MBBS, MS - Otorhinolaryngology</td>\n",
       "      <td>9</td>\n",
       "      <td>94.643478</td>\n",
       "      <td>Bangalore</td>\n",
       "      <td>ENT Specialist</td>\n",
       "      <td>Unknown</td>\n",
       "      <td>300</td>\n",
       "    </tr>\n",
       "    <tr>\n",
       "      <th>3</th>\n",
       "      <td>BSc - Zoology, BAMS</td>\n",
       "      <td>12</td>\n",
       "      <td>94.643478</td>\n",
       "      <td>Bangalore</td>\n",
       "      <td>Ayurveda</td>\n",
       "      <td>Bannerghatta Road, Bangalore ₹250 Available on...</td>\n",
       "      <td>250</td>\n",
       "    </tr>\n",
       "    <tr>\n",
       "      <th>4</th>\n",
       "      <td>BAMS</td>\n",
       "      <td>20</td>\n",
       "      <td>100.000000</td>\n",
       "      <td>Chennai</td>\n",
       "      <td>Ayurveda</td>\n",
       "      <td>100% 4 Feedback Keelkattalai, Chennai</td>\n",
       "      <td>250</td>\n",
       "    </tr>\n",
       "  </tbody>\n",
       "</table>\n",
       "</div>"
      ],
      "text/plain": [
       "                    Qualification  Experience      Rating      Place  \\\n",
       "0           BHMS, MD - Homeopathy          24  100.000000  Ernakulam   \n",
       "1    BAMS, MD - Ayurveda Medicine          12   98.000000  Bangalore   \n",
       "2  MBBS, MS - Otorhinolaryngology           9   94.643478  Bangalore   \n",
       "3             BSc - Zoology, BAMS          12   94.643478  Bangalore   \n",
       "4                            BAMS          20  100.000000    Chennai   \n",
       "\n",
       "          Profile                                 Miscellaneous_Info  Fees  \n",
       "0       Homeopath               100% 16 Feedback Kakkanad, Ernakulam   100  \n",
       "1        Ayurveda              98% 76 Feedback Whitefield, Bangalore   350  \n",
       "2  ENT Specialist                                            Unknown   300  \n",
       "3        Ayurveda  Bannerghatta Road, Bangalore ₹250 Available on...   250  \n",
       "4        Ayurveda              100% 4 Feedback Keelkattalai, Chennai   250  "
      ]
     },
     "execution_count": 1579,
     "metadata": {},
     "output_type": "execute_result"
    }
   ],
   "source": [
    "tr.head()"
   ]
  },
  {
   "cell_type": "code",
   "execution_count": 1580,
   "metadata": {},
   "outputs": [
    {
     "name": "stdout",
     "output_type": "stream",
     "text": [
      "\n",
      " Train (5961, 7)\n",
      "\n",
      " Test (1987, 6)\n",
      "\n",
      " Train new (5800, 7)\n",
      "\n",
      " Test new (1934, 6)\n"
     ]
    }
   ],
   "source": [
    "f=['Rating','Experience']\n",
    "from scipy.stats import zscore\n",
    "z=np.abs(zscore(tr[f]))\n",
    "z1=np.abs(zscore(ts[f]))\n",
    "tr_new=tr[(z<3).all(axis=1)]\n",
    "ts_new=ts[(z1<3).all(axis=1)]\n",
    "print('\\n Train',tr.shape)\n",
    "print('\\n Test',ts.shape)\n",
    "print('\\n Train new',tr_new.shape)\n",
    "print('\\n Test new',ts_new.shape)\n",
    "tr=tr_new\n",
    "ts=ts_new"
   ]
  },
  {
   "cell_type": "code",
   "execution_count": null,
   "metadata": {},
   "outputs": [],
   "source": []
  },
  {
   "cell_type": "code",
   "execution_count": 1581,
   "metadata": {
    "scrolled": true
   },
   "outputs": [
    {
     "data": {
      "text/plain": [
       "Experience    0.887877\n",
       "Rating       -1.398633\n",
       "dtype: float64"
      ]
     },
     "execution_count": 1581,
     "metadata": {},
     "output_type": "execute_result"
    }
   ],
   "source": [
    "ts.skew()"
   ]
  },
  {
   "cell_type": "code",
   "execution_count": 1582,
   "metadata": {},
   "outputs": [
    {
     "data": {
      "text/plain": [
       "<AxesSubplot:ylabel='Frequency'>"
      ]
     },
     "execution_count": 1582,
     "metadata": {},
     "output_type": "execute_result"
    },
    {
     "data": {
      "image/png": "[encoded data removed]",
      "text/plain": [
       "<Figure size 432x288 with 1 Axes>"
      ]
     },
     "metadata": {
      "needs_background": "light"
     },
     "output_type": "display_data"
    }
   ],
   "source": [
    "tr['Experience'].plot.hist()"
   ]
  },
  {
   "cell_type": "code",
   "execution_count": 1583,
   "metadata": {},
   "outputs": [
    {
     "name": "stdout",
     "output_type": "stream",
     "text": [
      "-0.003200130848213014\n"
     ]
    },
    {
     "data": {
      "image/png": "[encoded data removed]",
      "text/plain": [
       "<Figure size 432x288 with 1 Axes>"
      ]
     },
     "metadata": {
      "needs_background": "light"
     },
     "output_type": "display_data"
    }
   ],
   "source": [
    "tr['Experience']=power_transform(tr[['Experience']], method='yeo-johnson')\n",
    "tr['Experience'].plot.hist()\n",
    "print(skew(tr['Experience']))"
   ]
  },
  {
   "cell_type": "code",
   "execution_count": 1584,
   "metadata": {},
   "outputs": [
    {
     "data": {
      "text/plain": [
       "<AxesSubplot:ylabel='Frequency'>"
      ]
     },
     "execution_count": 1584,
     "metadata": {},
     "output_type": "execute_result"
    },
    {
     "data": {
      "image/png": "[encoded data removed]",
      "text/plain": [
       "<Figure size 432x288 with 1 Axes>"
      ]
     },
     "metadata": {
      "needs_background": "light"
     },
     "output_type": "display_data"
    }
   ],
   "source": [
    "tr['Rating'].plot.hist()"
   ]
  },
  {
   "cell_type": "code",
   "execution_count": 1585,
   "metadata": {},
   "outputs": [
    {
     "name": "stdout",
     "output_type": "stream",
     "text": [
      "0.12033062428236008\n"
     ]
    },
    {
     "data": {
      "image/png": "[encoded data removed]",
      "text/plain": [
       "<Figure size 432x288 with 1 Axes>"
      ]
     },
     "metadata": {
      "needs_background": "light"
     },
     "output_type": "display_data"
    }
   ],
   "source": [
    "tr['Rating']=power_transform(tr[['Rating']], method='yeo-johnson')\n",
    "tr['Rating'].plot.hist()\n",
    "print(skew(tr['Rating']))"
   ]
  },
  {
   "cell_type": "code",
   "execution_count": 1586,
   "metadata": {},
   "outputs": [
    {
     "data": {
      "text/plain": [
       "<AxesSubplot:ylabel='Frequency'>"
      ]
     },
     "execution_count": 1586,
     "metadata": {},
     "output_type": "execute_result"
    },
    {
     "data": {
      "image/png": "[encoded data removed]",
      "text/plain": [
       "<Figure size 432x288 with 1 Axes>"
      ]
     },
     "metadata": {
      "needs_background": "light"
     },
     "output_type": "display_data"
    }
   ],
   "source": [
    "ts['Experience'].plot.hist()"
   ]
  },
  {
   "cell_type": "code",
   "execution_count": 1587,
   "metadata": {},
   "outputs": [
    {
     "name": "stdout",
     "output_type": "stream",
     "text": [
      "-0.003640850611287517\n"
     ]
    },
    {
     "data": {
      "image/png": "[encoded data removed]",
      "text/plain": [
       "<Figure size 432x288 with 1 Axes>"
      ]
     },
     "metadata": {
      "needs_background": "light"
     },
     "output_type": "display_data"
    }
   ],
   "source": [
    "ts['Experience']=power_transform(ts[['Experience']], method='yeo-johnson')\n",
    "ts['Experience'].plot.hist()\n",
    "print(skew(ts['Experience']))"
   ]
  },
  {
   "cell_type": "code",
   "execution_count": 1588,
   "metadata": {},
   "outputs": [
    {
     "data": {
      "text/plain": [
       "<AxesSubplot:ylabel='Frequency'>"
      ]
     },
     "execution_count": 1588,
     "metadata": {},
     "output_type": "execute_result"
    },
    {
     "data": {
      "image/png": "[encoded data removed]",
      "text/plain": [
       "<Figure size 432x288 with 1 Axes>"
      ]
     },
     "metadata": {
      "needs_background": "light"
     },
     "output_type": "display_data"
    }
   ],
   "source": [
    "ts['Rating'].plot.hist()"
   ]
  },
  {
   "cell_type": "code",
   "execution_count": 1589,
   "metadata": {},
   "outputs": [
    {
     "name": "stdout",
     "output_type": "stream",
     "text": [
      "0.11296724528074265\n"
     ]
    },
    {
     "data": {
      "image/png": "[encoded data removed]",
      "text/plain": [
       "<Figure size 432x288 with 1 Axes>"
      ]
     },
     "metadata": {
      "needs_background": "light"
     },
     "output_type": "display_data"
    }
   ],
   "source": [
    "ts['Rating']=power_transform(ts[['Rating']], method='yeo-johnson')\n",
    "ts['Rating'].plot.hist()\n",
    "print(skew(ts['Rating']))"
   ]
  },
  {
   "cell_type": "markdown",
   "metadata": {},
   "source": [
    "Skewness has been removed form Traning as well as testing columns"
   ]
  },
  {
   "cell_type": "code",
   "execution_count": null,
   "metadata": {},
   "outputs": [],
   "source": []
  },
  {
   "cell_type": "code",
   "execution_count": 1590,
   "metadata": {},
   "outputs": [],
   "source": [
    "tr['Qualification_No.'] = tr.Qualification.apply(lambda x: len((str(x).split(','))))\n",
    "ts['Qualification_No.'] = ts.Qualification.apply(lambda x: len((str(x).split(','))))"
   ]
  },
  {
   "cell_type": "markdown",
   "metadata": {},
   "source": [
    "Splitting data in Qualification_No column"
   ]
  },
  {
   "cell_type": "code",
   "execution_count": 1591,
   "metadata": {},
   "outputs": [],
   "source": [
    "tr['ExpperQual']=pd.Series(np.sqrt((((tr['Experience'])**2)/((tr['Qualification_No.'])**2))))\n",
    "ts['ExpperQual']=pd.Series(np.sqrt((((ts['Experience'])**2)/((ts['Qualification_No.'])**2))))"
   ]
  },
  {
   "cell_type": "markdown",
   "metadata": {},
   "source": [
    "Creating new column based on experience per qualification"
   ]
  },
  {
   "cell_type": "code",
   "execution_count": 1592,
   "metadata": {},
   "outputs": [],
   "source": [
    "tr['Miscinfo']=tr['Miscellaneous_Info'].apply(lambda x:len(str(x).split(',')))\n",
    "ts['Miscinfo']=ts['Miscellaneous_Info'].apply(lambda x:len(str(x).split(',')))"
   ]
  },
  {
   "cell_type": "markdown",
   "metadata": {},
   "source": [
    "creating new column by splitting Miscellaneous_Info column"
   ]
  },
  {
   "cell_type": "code",
   "execution_count": 1593,
   "metadata": {},
   "outputs": [],
   "source": [
    "tr.drop(columns=['Qualification','Miscellaneous_Info'],inplace=True)\n",
    "ts.drop(columns=['Qualification','Miscellaneous_Info'],inplace=True)"
   ]
  },
  {
   "cell_type": "markdown",
   "metadata": {},
   "source": [
    "Dropping Qualification and Miscellaneous_Info column from the dataset"
   ]
  },
  {
   "cell_type": "code",
   "execution_count": 1594,
   "metadata": {},
   "outputs": [],
   "source": [
    "tr['RatingperQual']=((tr['Rating']*0.01)/tr['Qualification_No.'])\n",
    "ts['RatingperQual']=((ts['Rating']*0.01)/ts['Qualification_No.'])"
   ]
  },
  {
   "cell_type": "markdown",
   "metadata": {},
   "source": [
    "creating new column based on rating per quolification of doctors"
   ]
  },
  {
   "cell_type": "code",
   "execution_count": 1595,
   "metadata": {},
   "outputs": [],
   "source": [
    "le=LabelEncoder()\n",
    "tr['Place']=le.fit_transform(tr['Place'])\n",
    "tr['Profile']=le.fit_transform(tr['Profile'])\n",
    "ts['Place']=le.fit_transform(ts['Place'])\n",
    "ts['Profile']=le.fit_transform(ts['Profile'])"
   ]
  },
  {
   "cell_type": "markdown",
   "metadata": {},
   "source": [
    "Using label encoding to convert string values to numeric values"
   ]
  },
  {
   "cell_type": "code",
   "execution_count": 1596,
   "metadata": {},
   "outputs": [],
   "source": [
    "y=tr['Fees']\n",
    "x=tr.drop(columns=['Fees'])\n"
   ]
  },
  {
   "cell_type": "markdown",
   "metadata": {},
   "source": [
    "Splitting data in x and y variables for ML"
   ]
  },
  {
   "cell_type": "code",
   "execution_count": 1597,
   "metadata": {},
   "outputs": [],
   "source": [
    "stsc=StandardScaler()\n",
    "tr['Experience']=stsc.fit_transform(tr['Experience'].values.reshape(-1,1))\n",
    "ts['Experience']=stsc.fit_transform(ts['Experience'].values.reshape(-1,1))\n",
    "tr['Rating']=stsc.fit_transform(tr['Rating'].values.reshape(-1,1))\n",
    "ts['Rating']=stsc.fit_transform(ts['Rating'].values.reshape(-1,1))\n",
    "tr['Qualification_No.']=stsc.fit_transform(tr['Qualification_No.'].values.reshape(-1,1))\n",
    "ts['Qualification_No.']=stsc.fit_transform(ts['Qualification_No.'].values.reshape(-1,1))\n",
    "tr['ExpperQual']=stsc.fit_transform(tr['ExpperQual'].values.reshape(-1,1))\n",
    "ts['ExpperQual']=stsc.fit_transform(ts['ExpperQual'].values.reshape(-1,1))\n",
    "tr['RatingperQual']=stsc.fit_transform(tr['RatingperQual'].values.reshape(-1,1))\n",
    "tr['Miscinfo']=stsc.fit_transform(tr['Miscinfo'].values.reshape(-1,1))\n"
   ]
  },
  {
   "cell_type": "markdown",
   "metadata": {},
   "source": [
    "Scaling and reshaping data in metrics"
   ]
  },
  {
   "cell_type": "code",
   "execution_count": 1598,
   "metadata": {},
   "outputs": [],
   "source": [
    "x_train,x_test,y_train,y_test=train_test_split(x,y,test_size=0.2,random_state=45)"
   ]
  },
  {
   "cell_type": "markdown",
   "metadata": {},
   "source": [
    "\n",
    "\n",
    "from sklearn.decomposition import PCA\n",
    "\n",
    "pca = PCA(.95)\n",
    "pca.fit(x_train)\n",
    "x_train = pca.transform(x_train)\n",
    "x_test = pca.transform(x_test)"
   ]
  },
  {
   "cell_type": "code",
   "execution_count": 1599,
   "metadata": {},
   "outputs": [],
   "source": [
    "\n",
    "\n",
    "def met(y_act, y_pred):\n",
    "    return(1-(np.sqrt(np.mean((np.log10(y_act) - np.log10(y_pred))**2))))\n",
    "\n",
    "from sklearn.metrics import make_scorer\n",
    "my_met= make_scorer(met, greater_is_better=False)"
   ]
  },
  {
   "cell_type": "markdown",
   "metadata": {},
   "source": [
    "Defining a function for to perform future analysis"
   ]
  },
  {
   "cell_type": "code",
   "execution_count": 1600,
   "metadata": {
    "scrolled": false
   },
   "outputs": [
    {
     "name": "stdout",
     "output_type": "stream",
     "text": [
      "xgr: \n",
      " Train: 0.625318 \n",
      "Test: 0.016296 \n",
      "MSE: 37130.330958 \n",
      "\n",
      "\n",
      "cross val score :  -0.7078907205314351\n",
      "-cval:   0.7078907205314351\n",
      "\n",
      "-------------------------------------------------------------------------------------------------------------\n",
      "gbr: \n",
      " Train: 0.272045 \n",
      "Test: 0.145014 \n",
      "MSE: 32271.843365 \n",
      "\n",
      "\n",
      "cross val score :  -0.7274062592627949\n",
      "-cval:   0.7275262447817806\n",
      "\n",
      "-------------------------------------------------------------------------------------------------------------\n",
      "forest: \n",
      " Train: 0.765963 \n",
      "Test: 0.014191 \n",
      "MSE: 37209.810907 \n",
      "\n",
      "\n",
      "cross val score :  -0.7122910209874936\n",
      "-cval:   0.7129883255641405\n",
      "\n",
      "-------------------------------------------------------------------------------------------------------------\n",
      "tree: \n",
      " Train: 0.850219 \n",
      "Test: -0.560047 \n",
      "MSE: 58884.666544 \n",
      "\n",
      "\n",
      "cross val score :  -0.6447692253615381\n",
      "-cval:   0.6457365339471581\n",
      "\n",
      "-------------------------------------------------------------------------------------------------------------\n",
      "ridge: \n",
      " Train: 0.107129 \n",
      "Test: 0.065545 \n",
      "MSE: 35271.421401 \n",
      "\n",
      "\n",
      "cross val score :  -0.7091378007961121\n",
      "-cval:   0.7091378007961121\n",
      "\n",
      "-------------------------------------------------------------------------------------------------------------\n",
      "lin: \n",
      " Train: 0.108075 \n",
      "Test: 0.066331 \n",
      "MSE: 35241.752407 \n",
      "\n",
      "\n",
      "cross val score :  -0.7094078481103484\n",
      "-cval:   0.7094078481103484\n",
      "\n",
      "-------------------------------------------------------------------------------------------------------------\n",
      "lasso: \n",
      " Train: 0.106369 \n",
      "Test: 0.068427 \n",
      "MSE: 35162.638872 \n",
      "\n",
      "\n",
      "cross val score :  -0.7086586428205262\n",
      "-cval:   0.7086586428205262\n",
      "\n",
      "-------------------------------------------------------------------------------------------------------------\n",
      "Extra Tree: \n",
      " Train: 0.850151 \n",
      "Test: -0.086572 \n",
      "MSE: 41013.135647 \n",
      "\n",
      "\n",
      "cross val score :  -0.6967927687393549\n",
      "-cval:   0.6966561319329113\n",
      "\n",
      "-------------------------------------------------------------------------------------------------------------\n",
      "Adaboost: \n",
      " Train: 0.136366 \n",
      "Test: 0.079227 \n",
      "MSE: 34754.994916 \n",
      "\n",
      "\n",
      "cross val score :  -0.7004543888386903\n",
      "-cval:   0.7011616616169387\n",
      "\n",
      "-------------------------------------------------------------------------------------------------------------\n",
      "Svr: \n",
      " Train: 0.052371 \n",
      "Test: 0.034778 \n",
      "MSE: 36432.718878 \n",
      "\n",
      "\n",
      "cross val score :  -0.7158002947271752\n",
      "-cval:   0.7158002947271752\n",
      "\n",
      "-------------------------------------------------------------------------------------------------------------\n"
     ]
    }
   ],
   "source": [
    "\n",
    "\n",
    "\n",
    "\n",
    "models = []\n",
    "models.append(('xgr', XGBRegressor()))\n",
    "models.append(('gbr', GradientBoostingRegressor()))\n",
    "models.append(('forest', RandomForestRegressor()))\n",
    "models.append(('tree', DecisionTreeRegressor()))\n",
    "models.append(('ridge', Ridge(alpha=1.5)))\n",
    "models.append(('lin', LinearRegression()))\n",
    "models.append(('lasso', Lasso(alpha=1.5)))\n",
    "models.append(('Extra Tree', ExtraTreesRegressor()))\n",
    "models.append(('Adaboost', AdaBoostRegressor()))\n",
    "models.append(('Svr', SVR()))\n",
    "\n",
    "\n",
    "# evaluate each model in turn\n",
    "\n",
    "\n",
    "for name, model in models:\n",
    "    model.fit(x_train, y_train)\n",
    "\n",
    "    y_pred = model.predict(x_test)\n",
    "\n",
    "    a=model.score(x_train, y_train)\n",
    "\n",
    "\n",
    "\n",
    "    b=model.score(x_test, y_test)\n",
    "\n",
    "\n",
    "\n",
    "\n",
    "    c=metrics.mean_squared_error(y_test, y_pred)\n",
    "\n",
    "    sc = cross_val_score(model,x_train,y_train,scoring=my_met,cv=5).mean()\n",
    "    \n",
    "  \n",
    "\n",
    "    msg = \"%s: \\n Train: %f \\nTest: %f \\nMSE: %f \" % (name,a,b,c)\n",
    "    print(msg)\n",
    "    print('\\n')\n",
    "    print('cross val score : ',sc)\n",
    "    print('-cval:  ',(-cross_val_score(model,x_train,y_train,scoring=my_met,cv=5)).mean())\n",
    "    print('\\n-------------------------------------------------------------------------------------------------------------')\n",
    "    #print(y_pred)\n",
    "    \n"
   ]
  },
  {
   "cell_type": "markdown",
   "metadata": {},
   "source": [
    "Using For loop to run multiple models\n",
    "to find cross val score and mean MSE\n",
    "\n",
    "Gradient Boost Regressor gives that best score of 72%"
   ]
  },
  {
   "cell_type": "code",
   "execution_count": null,
   "metadata": {},
   "outputs": [],
   "source": []
  },
  {
   "cell_type": "code",
   "execution_count": 1601,
   "metadata": {},
   "outputs": [],
   "source": [
    "\n",
    "gbc = GradientBoostingRegressor()\n",
    "parameters = {\n",
    "    \"n_estimators\":[5,50,250],\n",
    "    \"max_depth\":[1,3,5,7,9],\n",
    "    \"learning_rate\":[0.01,0.1,1,10]\n",
    "}\n",
    "\n",
    "\n",
    "cv = GridSearchCV(gbc,parameters,cv=5)\n",
    "grid_result=cv.fit(x_train,y_train.values.ravel())\n",
    "\n",
    "\n",
    "# summarize results\n",
    "\n",
    "testx=cv.best_estimator_\n",
    "te=testx.predict(x_test)"
   ]
  },
  {
   "cell_type": "code",
   "execution_count": 1602,
   "metadata": {},
   "outputs": [
    {
     "name": "stdout",
     "output_type": "stream",
     "text": [
      "-cval:   0.7259552338779017\n"
     ]
    }
   ],
   "source": [
    " print('-cval:  ',(-cross_val_score(testx,x_train,y_train,scoring=my_met,cv=5)).mean())"
   ]
  },
  {
   "cell_type": "markdown",
   "metadata": {},
   "source": [
    "the model doesnt perform better with cross val score of 0.72 after tuning so we consider model without tuning"
   ]
  },
  {
   "cell_type": "markdown",
   "metadata": {},
   "source": [
    "# Saving model"
   ]
  },
  {
   "cell_type": "code",
   "execution_count": 1603,
   "metadata": {},
   "outputs": [
    {
     "data": {
      "text/plain": [
       "GradientBoostingRegressor()"
      ]
     },
     "execution_count": 1603,
     "metadata": {},
     "output_type": "execute_result"
    }
   ],
   "source": [
    "gbr= GradientBoostingRegressor()\n",
    "gbr.fit(x_train, y_train)"
   ]
  },
  {
   "cell_type": "code",
   "execution_count": 1604,
   "metadata": {},
   "outputs": [
    {
     "data": {
      "text/plain": [
       "['Dr_Fee_Pred.obj']"
      ]
     },
     "execution_count": 1604,
     "metadata": {},
     "output_type": "execute_result"
    }
   ],
   "source": [
    "import joblib\n",
    "joblib.dump(gbr,\"Dr_Fee_Pred.obj\")"
   ]
  },
  {
   "cell_type": "code",
   "execution_count": null,
   "metadata": {},
   "outputs": [],
   "source": []
  },
  {
   "cell_type": "code",
   "execution_count": 1605,
   "metadata": {},
   "outputs": [],
   "source": [
    "tst=joblib.load(\"Dr_Fee_Pred.obj\")\n",
    "pred=tst.predict(ts)\n",
    "te=list(pred)\n",
    "te=pd.DataFrame(te)\n",
    "te.rename(columns={0:'Fees'},inplace=True)\n",
    "te.to_excel('St.xlsx')"
   ]
  },
  {
   "cell_type": "code",
   "execution_count": null,
   "metadata": {},
   "outputs": [],
   "source": [
    "\n"
   ]
  },
  {
   "cell_type": "code",
   "execution_count": null,
   "metadata": {},
   "outputs": [],
   "source": []
  }
 ],
 "metadata": {
  "kernelspec": {
   "display_name": "Python 3",
   "language": "python",
   "name": "python3"
  },
  "language_info": {
   "codemirror_mode": {
    "name": "ipython",
    "version": 3
   },
   "file_extension": ".py",
   "mimetype": "text/x-python",
   "name": "python",
   "nbconvert_exporter": "python",
   "pygments_lexer": "ipython3",
   "version": "3.8.5"
  }
 },
 "nbformat": 4,
 "nbformat_minor": 4
}
