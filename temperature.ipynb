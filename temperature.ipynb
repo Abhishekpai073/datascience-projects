{
 "cells": [
  {
   "cell_type": "markdown",
   "metadata": {},
   "source": [
    "# Temperature Forecast Project using ML"
   ]
  },
  {
   "cell_type": "markdown",
   "metadata": {},
   "source": [
    "Problem Statement:\n",
    "Data Set Information:\n",
    "\n",
    "This data is for the purpose of bias correction of next-day maximum and minimum air temperatures forecast of the LDAPS model operated by the Korea Meteorological Administration over Seoul, South Korea. This data consists of summer data from 2013 to 2017. The input data is largely composed of the LDAPS model's next-day forecast data, in-situ maximum and minimum temperatures of present-day, and geographic auxiliary variables. There are two outputs (i.e. next-day maximum and minimum air temperatures) in this data. Hindcast validation was conducted for the period from 2015 to 2017.\n",
    "\n",
    "\n",
    "Attribute Information:\n",
    "\n",
    "For more information, read [Cho et al, 2020].\n",
    "1. station - used weather station number: 1 to 25\n",
    "2. Date - Present day: yyyy-mm-dd ('2013-06-30' to '2017-08-30')\n",
    "3. Present_Tmax - Maximum air temperature between 0 and 21 h on the present day (Â°C): 20 to 37.6\n",
    "4. Present_Tmin - Minimum air temperature between 0 and 21 h on the present day (Â°C): 11.3 to 29.9\n",
    "5. LDAPS_RHmin - LDAPS model forecast of next-day minimum relative humidity (%): 19.8 to 98.5\n",
    "6. LDAPS_RHmax - LDAPS model forecast of next-day maximum relative humidity (%): 58.9 to 100\n",
    "7. LDAPS_Tmax_lapse - LDAPS model forecast of next-day maximum air temperature applied lapse rate (Â°C): 17.6 to 38.5\n",
    "8. LDAPS_Tmin_lapse - LDAPS model forecast of next-day minimum air temperature applied lapse rate (Â°C): 14.3 to 29.6\n",
    "9. LDAPS_WS - LDAPS model forecast of next-day average wind speed (m/s): 2.9 to 21.9\n",
    "10. LDAPS_LH - LDAPS model forecast of next-day average latent heat flux (W/m2): -13.6 to 213.4\n",
    "11. LDAPS_CC1 - LDAPS model forecast of next-day 1st 6-hour split average cloud cover (0-5 h) (%): 0 to 0.97\n",
    "12. LDAPS_CC2 - LDAPS model forecast of next-day 2nd 6-hour split average cloud cover (6-11 h) (%): 0 to 0.97\n",
    "13. LDAPS_CC3 - LDAPS model forecast of next-day 3rd 6-hour split average cloud cover (12-17 h) (%): 0 to 0.98\n",
    "14. LDAPS_CC4 - LDAPS model forecast of next-day 4th 6-hour split average cloud cover (18-23 h) (%): 0 to 0.97\n",
    "15. LDAPS_PPT1 - LDAPS model forecast of next-day 1st 6-hour split average precipitation (0-5 h) (%): 0 to 23.7\n",
    "16. LDAPS_PPT2 - LDAPS model forecast of next-day 2nd 6-hour split average precipitation (6-11 h) (%): 0 to 21.6\n",
    "17. LDAPS_PPT3 - LDAPS model forecast of next-day 3rd 6-hour split average precipitation (12-17 h) (%): 0 to 15.8\n",
    "18. LDAPS_PPT4 - LDAPS model forecast of next-day 4th 6-hour split average precipitation (18-23 h) (%): 0 to 16.7\n",
    "19. lat - Latitude (Â°): 37.456 to 37.645\n",
    "20. lon - Longitude (Â°): 126.826 to 127.135\n",
    "21. DEM - Elevation (m): 12.4 to 212.3\n",
    "22. Slope - Slope (Â°): 0.1 to 5.2\n",
    "23. Solar radiation - Daily incoming solar radiation (wh/m2): 4329.5 to 5992.9\n",
    "24. Next_Tmax - The next-day maximum air temperature (Â°C): 17.4 to 38.9\n",
    "25. Next_Tmin - The next-day minimum air temperature (Â°C): 11.3 to 29.8T"
   ]
  },
  {
   "cell_type": "markdown",
   "metadata": {},
   "source": [
    "# Target"
   ]
  },
  {
   "cell_type": "markdown",
   "metadata": {},
   "source": [
    "1) Next_Tmax: Next day maximum temperature\n",
    "\n",
    "2) Next_Tmin: Next day  minimum temperature"
   ]
  },
  {
   "cell_type": "markdown",
   "metadata": {},
   "source": [
    "# Importing Libraries"
   ]
  },
  {
   "cell_type": "code",
   "execution_count": 519,
   "metadata": {},
   "outputs": [],
   "source": [
    "import numpy as np\n",
    "import pandas as pd\n",
    "import seaborn as sns\n",
    "import matplotlib\n",
    "import matplotlib.pyplot as plt\n",
    "import plotly.express as px\n",
    "from sklearn.metrics import classification_report\n",
    "from scipy.stats import skew\n",
    "from sklearn.preprocessing import power_transform\n",
    "from sklearn import metrics\n",
    "from sklearn.impute import SimpleImputer\n",
    "import xgboost as xgb\n",
    "from xgboost.sklearn import XGBRegressor\n",
    "from sklearn.preprocessing import LabelEncoder,StandardScaler,OneHotEncoder,MinMaxScaler\n",
    "from sklearn.model_selection import train_test_split,cross_val_score,cross_val_predict,GridSearchCV\n",
    "from sklearn.metrics import accuracy_score,confusion_matrix,f1_score,mean_squared_error,roc_curve,precision_recall_curve\n",
    "from sklearn.linear_model import LinearRegression,Ridge,Lasso\n",
    "from sklearn.tree import DecisionTreeRegressor\n",
    "from sklearn.svm import SVR\n",
    "from sklearn.ensemble import RandomForestRegressor,AdaBoostRegressor,ExtraTreesRegressor,GradientBoostingRegressor\n",
    "from sklearn.metrics import r2_score\n",
    "\n",
    "import warnings\n",
    "warnings.filterwarnings(\"ignore\")"
   ]
  },
  {
   "cell_type": "markdown",
   "metadata": {},
   "source": [
    "Importing Data"
   ]
  },
  {
   "cell_type": "code",
   "execution_count": 520,
   "metadata": {},
   "outputs": [],
   "source": [
    "tr=pd.read_csv(\"temperature.csv\")"
   ]
  },
  {
   "cell_type": "code",
   "execution_count": 521,
   "metadata": {},
   "outputs": [
    {
     "data": {
      "text/html": [
       "<div>\n",
       "<style scoped>\n",
       "    .dataframe tbody tr th:only-of-type {\n",
       "        vertical-align: middle;\n",
       "    }\n",
       "\n",
       "    .dataframe tbody tr th {\n",
       "        vertical-align: top;\n",
       "    }\n",
       "\n",
       "    .dataframe thead th {\n",
       "        text-align: right;\n",
       "    }\n",
       "</style>\n",
       "<table border=\"1\" class=\"dataframe\">\n",
       "  <thead>\n",
       "    <tr style=\"text-align: right;\">\n",
       "      <th></th>\n",
       "      <th>station</th>\n",
       "      <th>Date</th>\n",
       "      <th>Present_Tmax</th>\n",
       "      <th>Present_Tmin</th>\n",
       "      <th>LDAPS_RHmin</th>\n",
       "      <th>LDAPS_RHmax</th>\n",
       "      <th>LDAPS_Tmax_lapse</th>\n",
       "      <th>LDAPS_Tmin_lapse</th>\n",
       "      <th>LDAPS_WS</th>\n",
       "      <th>LDAPS_LH</th>\n",
       "      <th>LDAPS_CC1</th>\n",
       "      <th>LDAPS_CC2</th>\n",
       "      <th>LDAPS_CC3</th>\n",
       "      <th>LDAPS_CC4</th>\n",
       "      <th>LDAPS_PPT1</th>\n",
       "      <th>LDAPS_PPT2</th>\n",
       "      <th>LDAPS_PPT3</th>\n",
       "      <th>LDAPS_PPT4</th>\n",
       "      <th>lat</th>\n",
       "      <th>lon</th>\n",
       "      <th>DEM</th>\n",
       "      <th>Slope</th>\n",
       "      <th>Solar radiation</th>\n",
       "      <th>Next_Tmax</th>\n",
       "      <th>Next_Tmin</th>\n",
       "    </tr>\n",
       "  </thead>\n",
       "  <tbody>\n",
       "    <tr>\n",
       "      <th>0</th>\n",
       "      <td>1.0</td>\n",
       "      <td>30-06-2013</td>\n",
       "      <td>28.7</td>\n",
       "      <td>21.4</td>\n",
       "      <td>58.255688</td>\n",
       "      <td>91.116364</td>\n",
       "      <td>28.074101</td>\n",
       "      <td>23.006936</td>\n",
       "      <td>6.818887</td>\n",
       "      <td>69.451805</td>\n",
       "      <td>0.233947</td>\n",
       "      <td>0.203896</td>\n",
       "      <td>0.161697</td>\n",
       "      <td>0.130928</td>\n",
       "      <td>0.0</td>\n",
       "      <td>0.0</td>\n",
       "      <td>0.0</td>\n",
       "      <td>0.0</td>\n",
       "      <td>37.6046</td>\n",
       "      <td>126.991</td>\n",
       "      <td>212.3350</td>\n",
       "      <td>2.7850</td>\n",
       "      <td>5992.895996</td>\n",
       "      <td>29.1</td>\n",
       "      <td>21.2</td>\n",
       "    </tr>\n",
       "    <tr>\n",
       "      <th>1</th>\n",
       "      <td>2.0</td>\n",
       "      <td>30-06-2013</td>\n",
       "      <td>31.9</td>\n",
       "      <td>21.6</td>\n",
       "      <td>52.263397</td>\n",
       "      <td>90.604721</td>\n",
       "      <td>29.850689</td>\n",
       "      <td>24.035009</td>\n",
       "      <td>5.691890</td>\n",
       "      <td>51.937448</td>\n",
       "      <td>0.225508</td>\n",
       "      <td>0.251771</td>\n",
       "      <td>0.159444</td>\n",
       "      <td>0.127727</td>\n",
       "      <td>0.0</td>\n",
       "      <td>0.0</td>\n",
       "      <td>0.0</td>\n",
       "      <td>0.0</td>\n",
       "      <td>37.6046</td>\n",
       "      <td>127.032</td>\n",
       "      <td>44.7624</td>\n",
       "      <td>0.5141</td>\n",
       "      <td>5869.312500</td>\n",
       "      <td>30.5</td>\n",
       "      <td>22.5</td>\n",
       "    </tr>\n",
       "    <tr>\n",
       "      <th>2</th>\n",
       "      <td>3.0</td>\n",
       "      <td>30-06-2013</td>\n",
       "      <td>31.6</td>\n",
       "      <td>23.3</td>\n",
       "      <td>48.690479</td>\n",
       "      <td>83.973587</td>\n",
       "      <td>30.091292</td>\n",
       "      <td>24.565633</td>\n",
       "      <td>6.138224</td>\n",
       "      <td>20.573050</td>\n",
       "      <td>0.209344</td>\n",
       "      <td>0.257469</td>\n",
       "      <td>0.204091</td>\n",
       "      <td>0.142125</td>\n",
       "      <td>0.0</td>\n",
       "      <td>0.0</td>\n",
       "      <td>0.0</td>\n",
       "      <td>0.0</td>\n",
       "      <td>37.5776</td>\n",
       "      <td>127.058</td>\n",
       "      <td>33.3068</td>\n",
       "      <td>0.2661</td>\n",
       "      <td>5863.555664</td>\n",
       "      <td>31.1</td>\n",
       "      <td>23.9</td>\n",
       "    </tr>\n",
       "    <tr>\n",
       "      <th>3</th>\n",
       "      <td>4.0</td>\n",
       "      <td>30-06-2013</td>\n",
       "      <td>32.0</td>\n",
       "      <td>23.4</td>\n",
       "      <td>58.239788</td>\n",
       "      <td>96.483688</td>\n",
       "      <td>29.704629</td>\n",
       "      <td>23.326177</td>\n",
       "      <td>5.650050</td>\n",
       "      <td>65.727144</td>\n",
       "      <td>0.216372</td>\n",
       "      <td>0.226002</td>\n",
       "      <td>0.161157</td>\n",
       "      <td>0.134249</td>\n",
       "      <td>0.0</td>\n",
       "      <td>0.0</td>\n",
       "      <td>0.0</td>\n",
       "      <td>0.0</td>\n",
       "      <td>37.6450</td>\n",
       "      <td>127.022</td>\n",
       "      <td>45.7160</td>\n",
       "      <td>2.5348</td>\n",
       "      <td>5856.964844</td>\n",
       "      <td>31.7</td>\n",
       "      <td>24.3</td>\n",
       "    </tr>\n",
       "    <tr>\n",
       "      <th>4</th>\n",
       "      <td>5.0</td>\n",
       "      <td>30-06-2013</td>\n",
       "      <td>31.4</td>\n",
       "      <td>21.9</td>\n",
       "      <td>56.174095</td>\n",
       "      <td>90.155128</td>\n",
       "      <td>29.113934</td>\n",
       "      <td>23.486480</td>\n",
       "      <td>5.735004</td>\n",
       "      <td>107.965535</td>\n",
       "      <td>0.151407</td>\n",
       "      <td>0.249995</td>\n",
       "      <td>0.178892</td>\n",
       "      <td>0.170021</td>\n",
       "      <td>0.0</td>\n",
       "      <td>0.0</td>\n",
       "      <td>0.0</td>\n",
       "      <td>0.0</td>\n",
       "      <td>37.5507</td>\n",
       "      <td>127.135</td>\n",
       "      <td>35.0380</td>\n",
       "      <td>0.5055</td>\n",
       "      <td>5859.552246</td>\n",
       "      <td>31.2</td>\n",
       "      <td>22.5</td>\n",
       "    </tr>\n",
       "  </tbody>\n",
       "</table>\n",
       "</div>"
      ],
      "text/plain": [
       "   station        Date  Present_Tmax  Present_Tmin  LDAPS_RHmin  LDAPS_RHmax  \\\n",
       "0      1.0  30-06-2013          28.7          21.4    58.255688    91.116364   \n",
       "1      2.0  30-06-2013          31.9          21.6    52.263397    90.604721   \n",
       "2      3.0  30-06-2013          31.6          23.3    48.690479    83.973587   \n",
       "3      4.0  30-06-2013          32.0          23.4    58.239788    96.483688   \n",
       "4      5.0  30-06-2013          31.4          21.9    56.174095    90.155128   \n",
       "\n",
       "   LDAPS_Tmax_lapse  LDAPS_Tmin_lapse  LDAPS_WS    LDAPS_LH  LDAPS_CC1  \\\n",
       "0         28.074101         23.006936  6.818887   69.451805   0.233947   \n",
       "1         29.850689         24.035009  5.691890   51.937448   0.225508   \n",
       "2         30.091292         24.565633  6.138224   20.573050   0.209344   \n",
       "3         29.704629         23.326177  5.650050   65.727144   0.216372   \n",
       "4         29.113934         23.486480  5.735004  107.965535   0.151407   \n",
       "\n",
       "   LDAPS_CC2  LDAPS_CC3  LDAPS_CC4  LDAPS_PPT1  LDAPS_PPT2  LDAPS_PPT3  \\\n",
       "0   0.203896   0.161697   0.130928         0.0         0.0         0.0   \n",
       "1   0.251771   0.159444   0.127727         0.0         0.0         0.0   \n",
       "2   0.257469   0.204091   0.142125         0.0         0.0         0.0   \n",
       "3   0.226002   0.161157   0.134249         0.0         0.0         0.0   \n",
       "4   0.249995   0.178892   0.170021         0.0         0.0         0.0   \n",
       "\n",
       "   LDAPS_PPT4      lat      lon       DEM   Slope  Solar radiation  Next_Tmax  \\\n",
       "0         0.0  37.6046  126.991  212.3350  2.7850      5992.895996       29.1   \n",
       "1         0.0  37.6046  127.032   44.7624  0.5141      5869.312500       30.5   \n",
       "2         0.0  37.5776  127.058   33.3068  0.2661      5863.555664       31.1   \n",
       "3         0.0  37.6450  127.022   45.7160  2.5348      5856.964844       31.7   \n",
       "4         0.0  37.5507  127.135   35.0380  0.5055      5859.552246       31.2   \n",
       "\n",
       "   Next_Tmin  \n",
       "0       21.2  \n",
       "1       22.5  \n",
       "2       23.9  \n",
       "3       24.3  \n",
       "4       22.5  "
      ]
     },
     "execution_count": 521,
     "metadata": {},
     "output_type": "execute_result"
    }
   ],
   "source": [
    "tr.head()"
   ]
  },
  {
   "cell_type": "markdown",
   "metadata": {},
   "source": [
    "A per the datasheet , only one column is object type and  rest all are numeric"
   ]
  },
  {
   "cell_type": "code",
   "execution_count": 522,
   "metadata": {},
   "outputs": [
    {
     "name": "stdout",
     "output_type": "stream",
     "text": [
      "<class 'pandas.core.frame.DataFrame'>\n",
      "RangeIndex: 7752 entries, 0 to 7751\n",
      "Data columns (total 25 columns):\n",
      " #   Column            Non-Null Count  Dtype  \n",
      "---  ------            --------------  -----  \n",
      " 0   station           7750 non-null   float64\n",
      " 1   Date              7750 non-null   object \n",
      " 2   Present_Tmax      7682 non-null   float64\n",
      " 3   Present_Tmin      7682 non-null   float64\n",
      " 4   LDAPS_RHmin       7677 non-null   float64\n",
      " 5   LDAPS_RHmax       7677 non-null   float64\n",
      " 6   LDAPS_Tmax_lapse  7677 non-null   float64\n",
      " 7   LDAPS_Tmin_lapse  7677 non-null   float64\n",
      " 8   LDAPS_WS          7677 non-null   float64\n",
      " 9   LDAPS_LH          7677 non-null   float64\n",
      " 10  LDAPS_CC1         7677 non-null   float64\n",
      " 11  LDAPS_CC2         7677 non-null   float64\n",
      " 12  LDAPS_CC3         7677 non-null   float64\n",
      " 13  LDAPS_CC4         7677 non-null   float64\n",
      " 14  LDAPS_PPT1        7677 non-null   float64\n",
      " 15  LDAPS_PPT2        7677 non-null   float64\n",
      " 16  LDAPS_PPT3        7677 non-null   float64\n",
      " 17  LDAPS_PPT4        7677 non-null   float64\n",
      " 18  lat               7752 non-null   float64\n",
      " 19  lon               7752 non-null   float64\n",
      " 20  DEM               7752 non-null   float64\n",
      " 21  Slope             7752 non-null   float64\n",
      " 22  Solar radiation   7752 non-null   float64\n",
      " 23  Next_Tmax         7725 non-null   float64\n",
      " 24  Next_Tmin         7725 non-null   float64\n",
      "dtypes: float64(24), object(1)\n",
      "memory usage: 1.5+ MB\n"
     ]
    }
   ],
   "source": [
    "tr.info()"
   ]
  },
  {
   "cell_type": "markdown",
   "metadata": {},
   "source": [
    "Nan values are present in some columns"
   ]
  },
  {
   "cell_type": "code",
   "execution_count": 523,
   "metadata": {
    "scrolled": false
   },
   "outputs": [
    {
     "data": {
      "text/plain": [
       "0      01-07-2013\n",
       "1      01-07-2014\n",
       "2      01-07-2015\n",
       "3      01-07-2016\n",
       "4      01-07-2017\n",
       "          ...    \n",
       "305    31-07-2013\n",
       "306    31-07-2014\n",
       "307    31-07-2015\n",
       "308    31-07-2016\n",
       "309    31-07-2017\n",
       "Length: 310, dtype: object"
      ]
     },
     "execution_count": 523,
     "metadata": {},
     "output_type": "execute_result"
    }
   ],
   "source": [
    "tr['Date'].mode(dropna=True)"
   ]
  },
  {
   "cell_type": "markdown",
   "metadata": {},
   "source": [
    "Dropping nan values from Date column "
   ]
  },
  {
   "cell_type": "code",
   "execution_count": null,
   "metadata": {},
   "outputs": [],
   "source": []
  },
  {
   "cell_type": "code",
   "execution_count": 524,
   "metadata": {},
   "outputs": [
    {
     "data": {
      "image/png": "[encoded data removed]",
      "text/plain": [
       "<Figure size 720x360 with 1 Axes>"
      ]
     },
     "metadata": {},
     "output_type": "display_data"
    }
   ],
   "source": [
    "fig = plt.figure(figsize = (10, 5))\n",
    " \n",
    "# creating the bar plot\n",
    "plt.bar(tr['station'], tr['Next_Tmax'], color ='orange',\n",
    "        width = 0.4)\n",
    " \n",
    "plt.xlabel(\"Station\")\n",
    "plt.ylabel(\"Next_Tmax\")\n",
    "plt.title(\"Next_Tmax based on station\")\n",
    "plt.show()"
   ]
  },
  {
   "cell_type": "markdown",
   "metadata": {},
   "source": [
    "The above Visualization shows the relation between station and Next_Tmax column"
   ]
  },
  {
   "cell_type": "code",
   "execution_count": null,
   "metadata": {},
   "outputs": [],
   "source": []
  },
  {
   "cell_type": "code",
   "execution_count": 525,
   "metadata": {},
   "outputs": [
    {
     "data": {
      "image/png": "[encoded data removed]",
      "text/plain": [
       "<Figure size 720x360 with 1 Axes>"
      ]
     },
     "metadata": {},
     "output_type": "display_data"
    }
   ],
   "source": [
    "fig = plt.figure(figsize = (10, 5))\n",
    " \n",
    "# creating the bar plot\n",
    "plt.bar(tr['station'], tr['Next_Tmin'], color ='blue',\n",
    "        width = 0.4)\n",
    " \n",
    "plt.xlabel(\"Station\")\n",
    "plt.ylabel(\"Next_Tmin\")\n",
    "plt.title(\"Next_Tmin based on station\")\n",
    "plt.show()"
   ]
  },
  {
   "cell_type": "markdown",
   "metadata": {},
   "source": [
    "The above Visualization shows the relation between station and Next_Tmin column"
   ]
  },
  {
   "cell_type": "code",
   "execution_count": 526,
   "metadata": {},
   "outputs": [
    {
     "data": {
      "image/png": "[encoded data removed]",
      "text/plain": [
       "<Figure size 720x360 with 1 Axes>"
      ]
     },
     "metadata": {},
     "output_type": "display_data"
    }
   ],
   "source": [
    "fig = plt.figure(figsize = (10, 5))\n",
    " \n",
    "# creating the bar plot\n",
    "plt.bar(tr['station'], tr['Present_Tmax'], color ='gold',\n",
    "        width = 0.4)\n",
    " \n",
    "plt.xlabel(\"Station\")\n",
    "plt.ylabel(\"Present_Tmax\")\n",
    "plt.title(\"Present_Tmax based on station\")\n",
    "plt.show()"
   ]
  },
  {
   "cell_type": "markdown",
   "metadata": {},
   "source": [
    "The above Visualization shows the relation between station and Present_Tmax column"
   ]
  },
  {
   "cell_type": "code",
   "execution_count": 527,
   "metadata": {},
   "outputs": [
    {
     "data": {
      "image/png": "[encoded data removed]",
      "text/plain": [
       "<Figure size 720x360 with 1 Axes>"
      ]
     },
     "metadata": {},
     "output_type": "display_data"
    }
   ],
   "source": [
    "fig = plt.figure(figsize = (10, 5))\n",
    " \n",
    "# creating the bar plot\n",
    "plt.bar(tr['station'], tr['Present_Tmin'], color ='purple',\n",
    "        width = 0.4)\n",
    " \n",
    "plt.xlabel(\"Station\")\n",
    "plt.ylabel(\"Present_Tmin\")\n",
    "plt.title(\"Present_Tmin based on station\")\n",
    "plt.show()"
   ]
  },
  {
   "cell_type": "code",
   "execution_count": 528,
   "metadata": {},
   "outputs": [
    {
     "data": {
      "image/png": "[encoded data removed]",
      "text/plain": [
       "<Figure size 720x360 with 1 Axes>"
      ]
     },
     "metadata": {},
     "output_type": "display_data"
    }
   ],
   "source": [
    "ig = plt.figure(figsize = (10, 5))\n",
    " \n",
    "# creating the bar plot\n",
    "plt.bar(tr['station'], tr['Present_Tmin'], color ='red',\n",
    "        width = 0.4)\n",
    " \n",
    "plt.xlabel(\"Station\")\n",
    "plt.ylabel(\"Solar radiation\")\n",
    "plt.title(\"Solar radiation based on station\")\n",
    "plt.show()"
   ]
  },
  {
   "cell_type": "markdown",
   "metadata": {},
   "source": [
    "The above Visualization shows the relation between station and Present_Tmin column"
   ]
  },
  {
   "cell_type": "code",
   "execution_count": null,
   "metadata": {},
   "outputs": [],
   "source": []
  },
  {
   "cell_type": "code",
   "execution_count": 529,
   "metadata": {},
   "outputs": [
    {
     "data": {
      "image/png": "[encoded data removed]",
      "text/plain": [
       "<Figure size 432x288 with 2 Axes>"
      ]
     },
     "metadata": {},
     "output_type": "display_data"
    }
   ],
   "source": [
    "sns.heatmap(tr.corr());"
   ]
  },
  {
   "cell_type": "markdown",
   "metadata": {},
   "source": [
    "The above Visualization shows the correlation between different columns"
   ]
  },
  {
   "cell_type": "code",
   "execution_count": 530,
   "metadata": {
    "scrolled": true
   },
   "outputs": [
    {
     "data": {
      "image/png": "[encoded data removed]",
      "text/plain": [
       "<Figure size 432x288 with 1 Axes>"
      ]
     },
     "metadata": {},
     "output_type": "display_data"
    }
   ],
   "source": [
    "Date = pd.to_datetime(tr['Date'],\n",
    "                                 format='%d-%m-%Y')\n",
    "plt.plot(Date.dt.dayofyear,\n",
    "         tr.Next_Tmax, 'C2')\n",
    "plt.plot(Date.dt.dayofyear,\n",
    "         tr.Next_Tmin, 'C1')\n",
    "plt.legend(['Max', 'Min'])\n",
    "plt.xlabel('Day of year')\n",
    "plt.ylabel('Temperature (degrees F)')\n",
    "plt.title('Daily temperatures')\n",
    "plt.show()"
   ]
  },
  {
   "cell_type": "markdown",
   "metadata": {},
   "source": [
    "The above Visualization shows  Next_Tmax  and Next_Tmin  based on day of the year"
   ]
  },
  {
   "cell_type": "code",
   "execution_count": null,
   "metadata": {},
   "outputs": [],
   "source": []
  },
  {
   "cell_type": "code",
   "execution_count": 531,
   "metadata": {},
   "outputs": [
    {
     "data": {
      "image/png": "[encoded data removed]",
      "text/plain": [
       "<Figure size 432x288 with 1 Axes>"
      ]
     },
     "metadata": {},
     "output_type": "display_data"
    }
   ],
   "source": [
    "Date = pd.to_datetime(tr['Date'],\n",
    "                                 format='%d-%m-%Y')\n",
    "plt.plot(Date.dt.dayofyear,\n",
    "         tr.Present_Tmax, 'C2')\n",
    "plt.plot(Date.dt.dayofyear,\n",
    "         tr.Present_Tmin, 'C1')\n",
    "plt.legend(['Max', 'Min'])\n",
    "plt.xlabel('Day of year')\n",
    "plt.ylabel('Temperature (degrees F)')\n",
    "plt.title('Daily temperatures')\n",
    "plt.show()"
   ]
  },
  {
   "cell_type": "markdown",
   "metadata": {},
   "source": [
    "The above Visualization shows  Present_Tmax  and Present_Tmin  based on day of the year"
   ]
  },
  {
   "cell_type": "code",
   "execution_count": 532,
   "metadata": {},
   "outputs": [],
   "source": [
    "tr['Date'].fillna('01-07-2013',inplace=True)\n",
    "tr['station'].fillna('1.0',inplace=True)\n",
    "tr['station'] = tr['station'].astype(float)\n",
    "tr['Present_Tmax'].fillna('31.4',inplace=True)\n",
    "tr['Present_Tmax'] = tr['Present_Tmax'].astype(float)\n",
    "\n",
    "tr['Present_Tmin'].fillna('24.0',inplace=True)\n",
    "tr['Present_Tmin'] = tr['Present_Tmin'].astype(float)\n",
    "tr['LDAPS_RHmin'].fillna('19.794666',inplace=True)\n",
    "tr['LDAPS_RHmin'] = tr['LDAPS_RHmin'].astype(float)\n",
    "\n",
    "tr['LDAPS_RHmax'].fillna('58.936283',inplace=True)\n",
    "tr['LDAPS_RHmax'] = tr['LDAPS_RHmax'].astype(float)\n",
    "\n",
    "tr['LDAPS_Tmax_lapse'].fillna('17.624954',inplace=True)\n",
    "tr['LDAPS_Tmax_lapse'] = tr['LDAPS_Tmax_lapse'].astype(float)\n",
    "\n",
    "tr['LDAPS_Tmin_lapse'].fillna('14.272646',inplace=True)\n",
    "tr['LDAPS_Tmin_lapse'] = tr['LDAPS_Tmin_lapse'].astype(float)\n",
    "\n",
    "tr['LDAPS_WS'].fillna('2.882580',inplace=True)\n",
    "tr['LDAPS_WS'] = tr['LDAPS_WS'].astype(float)\n",
    "\n",
    "tr['LDAPS_LH'].fillna('-13.603212',inplace=True)\n",
    "tr['LDAPS_LH'] = tr['LDAPS_LH'].astype(float)\n",
    "\n",
    "tr['LDAPS_CC1'].fillna('0.0',inplace=True)\n",
    "tr['LDAPS_CC1'] = tr['LDAPS_CC1'].astype(float)\n",
    "\n",
    "tr['LDAPS_CC2'].fillna('0.0',inplace=True)\n",
    "tr['LDAPS_CC2'] = tr['LDAPS_CC2'].astype(float)\n",
    "\n",
    "tr['LDAPS_CC3'].fillna('0.0',inplace=True)\n",
    "tr['LDAPS_CC3'] = tr['LDAPS_CC3'].astype(float)\n",
    "\n",
    "tr['LDAPS_CC4'].fillna('0.0',inplace=True)\n",
    "tr['LDAPS_CC4'] = tr['LDAPS_CC4'].astype(float)\n",
    "\n",
    "tr['LDAPS_PPT1'].fillna('0.0',inplace=True)\n",
    "tr['LDAPS_PPT1'] = tr['LDAPS_PPT1'].astype(float)\n",
    "\n",
    "tr['LDAPS_PPT2'].fillna('0.0',inplace=True)\n",
    "tr['LDAPS_PPT2'] = tr['LDAPS_PPT2'].astype(float)\n",
    "\n",
    "tr['LDAPS_PPT3'].fillna('0.0',inplace=True)\n",
    "tr['LDAPS_PPT3'] = tr['LDAPS_PPT3'].astype(float)\n",
    "\n",
    "tr['LDAPS_PPT4'].fillna('0.0',inplace=True)\n",
    "tr['LDAPS_PPT4'] = tr['LDAPS_PPT4'].astype(float)\n",
    "\n",
    "tr['Next_Tmax'].fillna('29.3',inplace=True)\n",
    "tr['Next_Tmax'] = tr['Next_Tmax'].astype(float)\n",
    "\n",
    "tr['Next_Tmin'].fillna('23.5',inplace=True)\n",
    "tr['Next_Tmin'] = tr['Next_Tmin'].astype(float)\n",
    "\n",
    "\n"
   ]
  },
  {
   "cell_type": "markdown",
   "metadata": {},
   "source": [
    "Removing null values form dataset based on mode on the columns"
   ]
  },
  {
   "cell_type": "markdown",
   "metadata": {},
   "source": [
    "# Finding outliers"
   ]
  },
  {
   "cell_type": "code",
   "execution_count": 533,
   "metadata": {},
   "outputs": [
    {
     "data": {
      "text/plain": [
       "<AxesSubplot:>"
      ]
     },
     "execution_count": 533,
     "metadata": {},
     "output_type": "execute_result"
    },
    {
     "data": {
      "image/png": "[encoded data removed]",
      "text/plain": [
       "<Figure size 1440x576 with 1 Axes>"
      ]
     },
     "metadata": {},
     "output_type": "display_data"
    }
   ],
   "source": [
    "tr.boxplot( rot = 90, figsize=(20,8))"
   ]
  },
  {
   "cell_type": "code",
   "execution_count": 534,
   "metadata": {},
   "outputs": [],
   "source": [
    "pd.set_option('display.max_columns',100)"
   ]
  },
  {
   "cell_type": "code",
   "execution_count": 535,
   "metadata": {},
   "outputs": [
    {
     "data": {
      "text/html": [
       "<div>\n",
       "<style scoped>\n",
       "    .dataframe tbody tr th:only-of-type {\n",
       "        vertical-align: middle;\n",
       "    }\n",
       "\n",
       "    .dataframe tbody tr th {\n",
       "        vertical-align: top;\n",
       "    }\n",
       "\n",
       "    .dataframe thead th {\n",
       "        text-align: right;\n",
       "    }\n",
       "</style>\n",
       "<table border=\"1\" class=\"dataframe\">\n",
       "  <thead>\n",
       "    <tr style=\"text-align: right;\">\n",
       "      <th></th>\n",
       "      <th>station</th>\n",
       "      <th>Date</th>\n",
       "      <th>Present_Tmax</th>\n",
       "      <th>Present_Tmin</th>\n",
       "      <th>LDAPS_RHmin</th>\n",
       "      <th>LDAPS_RHmax</th>\n",
       "      <th>LDAPS_Tmax_lapse</th>\n",
       "      <th>LDAPS_Tmin_lapse</th>\n",
       "      <th>LDAPS_WS</th>\n",
       "      <th>LDAPS_LH</th>\n",
       "      <th>LDAPS_CC1</th>\n",
       "      <th>LDAPS_CC2</th>\n",
       "      <th>LDAPS_CC3</th>\n",
       "      <th>LDAPS_CC4</th>\n",
       "      <th>LDAPS_PPT1</th>\n",
       "      <th>LDAPS_PPT2</th>\n",
       "      <th>LDAPS_PPT3</th>\n",
       "      <th>LDAPS_PPT4</th>\n",
       "      <th>lat</th>\n",
       "      <th>lon</th>\n",
       "      <th>DEM</th>\n",
       "      <th>Slope</th>\n",
       "      <th>Solar radiation</th>\n",
       "      <th>Next_Tmax</th>\n",
       "      <th>Next_Tmin</th>\n",
       "    </tr>\n",
       "  </thead>\n",
       "  <tbody>\n",
       "    <tr>\n",
       "      <th>0</th>\n",
       "      <td>1.0</td>\n",
       "      <td>01-07-2013</td>\n",
       "      <td>31.4</td>\n",
       "      <td>24.0</td>\n",
       "      <td>19.794666</td>\n",
       "      <td>58.936283</td>\n",
       "      <td>17.624954</td>\n",
       "      <td>14.272646</td>\n",
       "      <td>2.88258</td>\n",
       "      <td>-13.603212</td>\n",
       "      <td>0.0</td>\n",
       "      <td>0.0</td>\n",
       "      <td>0.0</td>\n",
       "      <td>0.0</td>\n",
       "      <td>0.0</td>\n",
       "      <td>0.0</td>\n",
       "      <td>0.0</td>\n",
       "      <td>0.0</td>\n",
       "      <td>37.5507</td>\n",
       "      <td>126.826</td>\n",
       "      <td>12.370</td>\n",
       "      <td>0.0985</td>\n",
       "      <td>4371.684570</td>\n",
       "      <td>29.3</td>\n",
       "      <td>23.5</td>\n",
       "    </tr>\n",
       "    <tr>\n",
       "      <th>1</th>\n",
       "      <td>NaN</td>\n",
       "      <td>NaN</td>\n",
       "      <td>NaN</td>\n",
       "      <td>NaN</td>\n",
       "      <td>NaN</td>\n",
       "      <td>NaN</td>\n",
       "      <td>NaN</td>\n",
       "      <td>NaN</td>\n",
       "      <td>NaN</td>\n",
       "      <td>NaN</td>\n",
       "      <td>NaN</td>\n",
       "      <td>NaN</td>\n",
       "      <td>NaN</td>\n",
       "      <td>NaN</td>\n",
       "      <td>NaN</td>\n",
       "      <td>NaN</td>\n",
       "      <td>NaN</td>\n",
       "      <td>NaN</td>\n",
       "      <td>37.5776</td>\n",
       "      <td>127.135</td>\n",
       "      <td>212.335</td>\n",
       "      <td>0.1332</td>\n",
       "      <td>4406.334473</td>\n",
       "      <td>NaN</td>\n",
       "      <td>NaN</td>\n",
       "    </tr>\n",
       "    <tr>\n",
       "      <th>2</th>\n",
       "      <td>NaN</td>\n",
       "      <td>NaN</td>\n",
       "      <td>NaN</td>\n",
       "      <td>NaN</td>\n",
       "      <td>NaN</td>\n",
       "      <td>NaN</td>\n",
       "      <td>NaN</td>\n",
       "      <td>NaN</td>\n",
       "      <td>NaN</td>\n",
       "      <td>NaN</td>\n",
       "      <td>NaN</td>\n",
       "      <td>NaN</td>\n",
       "      <td>NaN</td>\n",
       "      <td>NaN</td>\n",
       "      <td>NaN</td>\n",
       "      <td>NaN</td>\n",
       "      <td>NaN</td>\n",
       "      <td>NaN</td>\n",
       "      <td>NaN</td>\n",
       "      <td>NaN</td>\n",
       "      <td>NaN</td>\n",
       "      <td>0.1457</td>\n",
       "      <td>4413.500000</td>\n",
       "      <td>NaN</td>\n",
       "      <td>NaN</td>\n",
       "    </tr>\n",
       "    <tr>\n",
       "      <th>3</th>\n",
       "      <td>NaN</td>\n",
       "      <td>NaN</td>\n",
       "      <td>NaN</td>\n",
       "      <td>NaN</td>\n",
       "      <td>NaN</td>\n",
       "      <td>NaN</td>\n",
       "      <td>NaN</td>\n",
       "      <td>NaN</td>\n",
       "      <td>NaN</td>\n",
       "      <td>NaN</td>\n",
       "      <td>NaN</td>\n",
       "      <td>NaN</td>\n",
       "      <td>NaN</td>\n",
       "      <td>NaN</td>\n",
       "      <td>NaN</td>\n",
       "      <td>NaN</td>\n",
       "      <td>NaN</td>\n",
       "      <td>NaN</td>\n",
       "      <td>NaN</td>\n",
       "      <td>NaN</td>\n",
       "      <td>NaN</td>\n",
       "      <td>0.1554</td>\n",
       "      <td>4434.277832</td>\n",
       "      <td>NaN</td>\n",
       "      <td>NaN</td>\n",
       "    </tr>\n",
       "    <tr>\n",
       "      <th>4</th>\n",
       "      <td>NaN</td>\n",
       "      <td>NaN</td>\n",
       "      <td>NaN</td>\n",
       "      <td>NaN</td>\n",
       "      <td>NaN</td>\n",
       "      <td>NaN</td>\n",
       "      <td>NaN</td>\n",
       "      <td>NaN</td>\n",
       "      <td>NaN</td>\n",
       "      <td>NaN</td>\n",
       "      <td>NaN</td>\n",
       "      <td>NaN</td>\n",
       "      <td>NaN</td>\n",
       "      <td>NaN</td>\n",
       "      <td>NaN</td>\n",
       "      <td>NaN</td>\n",
       "      <td>NaN</td>\n",
       "      <td>NaN</td>\n",
       "      <td>NaN</td>\n",
       "      <td>NaN</td>\n",
       "      <td>NaN</td>\n",
       "      <td>0.2223</td>\n",
       "      <td>4435.611816</td>\n",
       "      <td>NaN</td>\n",
       "      <td>NaN</td>\n",
       "    </tr>\n",
       "    <tr>\n",
       "      <th>...</th>\n",
       "      <td>...</td>\n",
       "      <td>...</td>\n",
       "      <td>...</td>\n",
       "      <td>...</td>\n",
       "      <td>...</td>\n",
       "      <td>...</td>\n",
       "      <td>...</td>\n",
       "      <td>...</td>\n",
       "      <td>...</td>\n",
       "      <td>...</td>\n",
       "      <td>...</td>\n",
       "      <td>...</td>\n",
       "      <td>...</td>\n",
       "      <td>...</td>\n",
       "      <td>...</td>\n",
       "      <td>...</td>\n",
       "      <td>...</td>\n",
       "      <td>...</td>\n",
       "      <td>...</td>\n",
       "      <td>...</td>\n",
       "      <td>...</td>\n",
       "      <td>...</td>\n",
       "      <td>...</td>\n",
       "      <td>...</td>\n",
       "      <td>...</td>\n",
       "    </tr>\n",
       "    <tr>\n",
       "      <th>1521</th>\n",
       "      <td>NaN</td>\n",
       "      <td>NaN</td>\n",
       "      <td>NaN</td>\n",
       "      <td>NaN</td>\n",
       "      <td>NaN</td>\n",
       "      <td>NaN</td>\n",
       "      <td>NaN</td>\n",
       "      <td>NaN</td>\n",
       "      <td>NaN</td>\n",
       "      <td>NaN</td>\n",
       "      <td>NaN</td>\n",
       "      <td>NaN</td>\n",
       "      <td>NaN</td>\n",
       "      <td>NaN</td>\n",
       "      <td>NaN</td>\n",
       "      <td>NaN</td>\n",
       "      <td>NaN</td>\n",
       "      <td>NaN</td>\n",
       "      <td>NaN</td>\n",
       "      <td>NaN</td>\n",
       "      <td>NaN</td>\n",
       "      <td>NaN</td>\n",
       "      <td>5968.809082</td>\n",
       "      <td>NaN</td>\n",
       "      <td>NaN</td>\n",
       "    </tr>\n",
       "    <tr>\n",
       "      <th>1522</th>\n",
       "      <td>NaN</td>\n",
       "      <td>NaN</td>\n",
       "      <td>NaN</td>\n",
       "      <td>NaN</td>\n",
       "      <td>NaN</td>\n",
       "      <td>NaN</td>\n",
       "      <td>NaN</td>\n",
       "      <td>NaN</td>\n",
       "      <td>NaN</td>\n",
       "      <td>NaN</td>\n",
       "      <td>NaN</td>\n",
       "      <td>NaN</td>\n",
       "      <td>NaN</td>\n",
       "      <td>NaN</td>\n",
       "      <td>NaN</td>\n",
       "      <td>NaN</td>\n",
       "      <td>NaN</td>\n",
       "      <td>NaN</td>\n",
       "      <td>NaN</td>\n",
       "      <td>NaN</td>\n",
       "      <td>NaN</td>\n",
       "      <td>NaN</td>\n",
       "      <td>5975.676270</td>\n",
       "      <td>NaN</td>\n",
       "      <td>NaN</td>\n",
       "    </tr>\n",
       "    <tr>\n",
       "      <th>1523</th>\n",
       "      <td>NaN</td>\n",
       "      <td>NaN</td>\n",
       "      <td>NaN</td>\n",
       "      <td>NaN</td>\n",
       "      <td>NaN</td>\n",
       "      <td>NaN</td>\n",
       "      <td>NaN</td>\n",
       "      <td>NaN</td>\n",
       "      <td>NaN</td>\n",
       "      <td>NaN</td>\n",
       "      <td>NaN</td>\n",
       "      <td>NaN</td>\n",
       "      <td>NaN</td>\n",
       "      <td>NaN</td>\n",
       "      <td>NaN</td>\n",
       "      <td>NaN</td>\n",
       "      <td>NaN</td>\n",
       "      <td>NaN</td>\n",
       "      <td>NaN</td>\n",
       "      <td>NaN</td>\n",
       "      <td>NaN</td>\n",
       "      <td>NaN</td>\n",
       "      <td>5981.979492</td>\n",
       "      <td>NaN</td>\n",
       "      <td>NaN</td>\n",
       "    </tr>\n",
       "    <tr>\n",
       "      <th>1524</th>\n",
       "      <td>NaN</td>\n",
       "      <td>NaN</td>\n",
       "      <td>NaN</td>\n",
       "      <td>NaN</td>\n",
       "      <td>NaN</td>\n",
       "      <td>NaN</td>\n",
       "      <td>NaN</td>\n",
       "      <td>NaN</td>\n",
       "      <td>NaN</td>\n",
       "      <td>NaN</td>\n",
       "      <td>NaN</td>\n",
       "      <td>NaN</td>\n",
       "      <td>NaN</td>\n",
       "      <td>NaN</td>\n",
       "      <td>NaN</td>\n",
       "      <td>NaN</td>\n",
       "      <td>NaN</td>\n",
       "      <td>NaN</td>\n",
       "      <td>NaN</td>\n",
       "      <td>NaN</td>\n",
       "      <td>NaN</td>\n",
       "      <td>NaN</td>\n",
       "      <td>5987.718750</td>\n",
       "      <td>NaN</td>\n",
       "      <td>NaN</td>\n",
       "    </tr>\n",
       "    <tr>\n",
       "      <th>1525</th>\n",
       "      <td>NaN</td>\n",
       "      <td>NaN</td>\n",
       "      <td>NaN</td>\n",
       "      <td>NaN</td>\n",
       "      <td>NaN</td>\n",
       "      <td>NaN</td>\n",
       "      <td>NaN</td>\n",
       "      <td>NaN</td>\n",
       "      <td>NaN</td>\n",
       "      <td>NaN</td>\n",
       "      <td>NaN</td>\n",
       "      <td>NaN</td>\n",
       "      <td>NaN</td>\n",
       "      <td>NaN</td>\n",
       "      <td>NaN</td>\n",
       "      <td>NaN</td>\n",
       "      <td>NaN</td>\n",
       "      <td>NaN</td>\n",
       "      <td>NaN</td>\n",
       "      <td>NaN</td>\n",
       "      <td>NaN</td>\n",
       "      <td>NaN</td>\n",
       "      <td>5992.895996</td>\n",
       "      <td>NaN</td>\n",
       "      <td>NaN</td>\n",
       "    </tr>\n",
       "  </tbody>\n",
       "</table>\n",
       "<p>1526 rows × 25 columns</p>\n",
       "</div>"
      ],
      "text/plain": [
       "      station        Date  Present_Tmax  Present_Tmin  LDAPS_RHmin  \\\n",
       "0         1.0  01-07-2013          31.4          24.0    19.794666   \n",
       "1         NaN         NaN           NaN           NaN          NaN   \n",
       "2         NaN         NaN           NaN           NaN          NaN   \n",
       "3         NaN         NaN           NaN           NaN          NaN   \n",
       "4         NaN         NaN           NaN           NaN          NaN   \n",
       "...       ...         ...           ...           ...          ...   \n",
       "1521      NaN         NaN           NaN           NaN          NaN   \n",
       "1522      NaN         NaN           NaN           NaN          NaN   \n",
       "1523      NaN         NaN           NaN           NaN          NaN   \n",
       "1524      NaN         NaN           NaN           NaN          NaN   \n",
       "1525      NaN         NaN           NaN           NaN          NaN   \n",
       "\n",
       "      LDAPS_RHmax  LDAPS_Tmax_lapse  LDAPS_Tmin_lapse  LDAPS_WS   LDAPS_LH  \\\n",
       "0       58.936283         17.624954         14.272646   2.88258 -13.603212   \n",
       "1             NaN               NaN               NaN       NaN        NaN   \n",
       "2             NaN               NaN               NaN       NaN        NaN   \n",
       "3             NaN               NaN               NaN       NaN        NaN   \n",
       "4             NaN               NaN               NaN       NaN        NaN   \n",
       "...           ...               ...               ...       ...        ...   \n",
       "1521          NaN               NaN               NaN       NaN        NaN   \n",
       "1522          NaN               NaN               NaN       NaN        NaN   \n",
       "1523          NaN               NaN               NaN       NaN        NaN   \n",
       "1524          NaN               NaN               NaN       NaN        NaN   \n",
       "1525          NaN               NaN               NaN       NaN        NaN   \n",
       "\n",
       "      LDAPS_CC1  LDAPS_CC2  LDAPS_CC3  LDAPS_CC4  LDAPS_PPT1  LDAPS_PPT2  \\\n",
       "0           0.0        0.0        0.0        0.0         0.0         0.0   \n",
       "1           NaN        NaN        NaN        NaN         NaN         NaN   \n",
       "2           NaN        NaN        NaN        NaN         NaN         NaN   \n",
       "3           NaN        NaN        NaN        NaN         NaN         NaN   \n",
       "4           NaN        NaN        NaN        NaN         NaN         NaN   \n",
       "...         ...        ...        ...        ...         ...         ...   \n",
       "1521        NaN        NaN        NaN        NaN         NaN         NaN   \n",
       "1522        NaN        NaN        NaN        NaN         NaN         NaN   \n",
       "1523        NaN        NaN        NaN        NaN         NaN         NaN   \n",
       "1524        NaN        NaN        NaN        NaN         NaN         NaN   \n",
       "1525        NaN        NaN        NaN        NaN         NaN         NaN   \n",
       "\n",
       "      LDAPS_PPT3  LDAPS_PPT4      lat      lon      DEM   Slope  \\\n",
       "0            0.0         0.0  37.5507  126.826   12.370  0.0985   \n",
       "1            NaN         NaN  37.5776  127.135  212.335  0.1332   \n",
       "2            NaN         NaN      NaN      NaN      NaN  0.1457   \n",
       "3            NaN         NaN      NaN      NaN      NaN  0.1554   \n",
       "4            NaN         NaN      NaN      NaN      NaN  0.2223   \n",
       "...          ...         ...      ...      ...      ...     ...   \n",
       "1521         NaN         NaN      NaN      NaN      NaN     NaN   \n",
       "1522         NaN         NaN      NaN      NaN      NaN     NaN   \n",
       "1523         NaN         NaN      NaN      NaN      NaN     NaN   \n",
       "1524         NaN         NaN      NaN      NaN      NaN     NaN   \n",
       "1525         NaN         NaN      NaN      NaN      NaN     NaN   \n",
       "\n",
       "      Solar radiation  Next_Tmax  Next_Tmin  \n",
       "0         4371.684570       29.3       23.5  \n",
       "1         4406.334473        NaN        NaN  \n",
       "2         4413.500000        NaN        NaN  \n",
       "3         4434.277832        NaN        NaN  \n",
       "4         4435.611816        NaN        NaN  \n",
       "...               ...        ...        ...  \n",
       "1521      5968.809082        NaN        NaN  \n",
       "1522      5975.676270        NaN        NaN  \n",
       "1523      5981.979492        NaN        NaN  \n",
       "1524      5987.718750        NaN        NaN  \n",
       "1525      5992.895996        NaN        NaN  \n",
       "\n",
       "[1526 rows x 25 columns]"
      ]
     },
     "execution_count": 535,
     "metadata": {},
     "output_type": "execute_result"
    }
   ],
   "source": [
    "tr.mode(axis=0,dropna=True)"
   ]
  },
  {
   "cell_type": "code",
   "execution_count": 536,
   "metadata": {},
   "outputs": [
    {
     "data": {
      "text/plain": [
       "Index(['station', 'Date', 'Present_Tmax', 'Present_Tmin', 'LDAPS_RHmin',\n",
       "       'LDAPS_RHmax', 'LDAPS_Tmax_lapse', 'LDAPS_Tmin_lapse', 'LDAPS_WS',\n",
       "       'LDAPS_LH', 'LDAPS_CC1', 'LDAPS_CC2', 'LDAPS_CC3', 'LDAPS_CC4',\n",
       "       'LDAPS_PPT1', 'LDAPS_PPT2', 'LDAPS_PPT3', 'LDAPS_PPT4', 'lat', 'lon',\n",
       "       'DEM', 'Slope', 'Solar radiation', 'Next_Tmax', 'Next_Tmin'],\n",
       "      dtype='object')"
      ]
     },
     "execution_count": 536,
     "metadata": {},
     "output_type": "execute_result"
    }
   ],
   "source": [
    "tr.columns"
   ]
  },
  {
   "cell_type": "code",
   "execution_count": null,
   "metadata": {},
   "outputs": [],
   "source": []
  },
  {
   "cell_type": "code",
   "execution_count": 537,
   "metadata": {},
   "outputs": [
    {
     "name": "stdout",
     "output_type": "stream",
     "text": [
      "\n",
      " Train (7752, 25)\n",
      "\n",
      " Train new (6886, 25)\n"
     ]
    }
   ],
   "source": [
    "temp=['station', 'Present_Tmax', 'Present_Tmin', 'LDAPS_RHmin',\n",
    "       'LDAPS_RHmax', 'LDAPS_Tmax_lapse', 'LDAPS_Tmin_lapse', 'LDAPS_WS',\n",
    "       'LDAPS_LH', 'LDAPS_CC1', 'LDAPS_CC2', 'LDAPS_CC3', 'LDAPS_CC4',\n",
    "       'LDAPS_PPT1', 'LDAPS_PPT2', 'LDAPS_PPT3', 'LDAPS_PPT4', 'lat', 'lon',\n",
    "       'DEM', 'Slope', 'Solar radiation']\n",
    "from scipy.stats import zscore\n",
    "z=np.abs(zscore(tr[temp]))\n",
    "\n",
    "tr_new=tr[(z<3).all(axis=1)]\n",
    "\n",
    "print('\\n Train',tr.shape)\n",
    "\n",
    "print('\\n Train new',tr_new.shape)\n",
    "tr=tr_new\n"
   ]
  },
  {
   "cell_type": "markdown",
   "metadata": {},
   "source": [
    "Outliers removed"
   ]
  },
  {
   "cell_type": "code",
   "execution_count": 538,
   "metadata": {},
   "outputs": [
    {
     "data": {
      "text/plain": [
       "station             0.000178\n",
       "Present_Tmax       -0.290759\n",
       "Present_Tmin       -0.242630\n",
       "LDAPS_RHmin         0.314152\n",
       "LDAPS_RHmax        -0.731006\n",
       "LDAPS_Tmax_lapse   -0.122113\n",
       "LDAPS_Tmin_lapse   -0.440602\n",
       "LDAPS_WS            1.091957\n",
       "LDAPS_LH            0.571581\n",
       "LDAPS_CC1           0.592111\n",
       "LDAPS_CC2           0.501652\n",
       "LDAPS_CC3           0.697336\n",
       "LDAPS_CC4           0.712070\n",
       "LDAPS_PPT1          3.744481\n",
       "LDAPS_PPT2          4.865935\n",
       "LDAPS_PPT3          5.493061\n",
       "LDAPS_PPT4          5.956806\n",
       "lat                 0.107443\n",
       "lon                -0.273089\n",
       "DEM                 1.763667\n",
       "Slope               1.597559\n",
       "Solar radiation    -0.515331\n",
       "Next_Tmax          -0.270899\n",
       "Next_Tmin          -0.318795\n",
       "dtype: float64"
      ]
     },
     "execution_count": 538,
     "metadata": {},
     "output_type": "execute_result"
    }
   ],
   "source": [
    "tr.skew()"
   ]
  },
  {
   "cell_type": "code",
   "execution_count": 539,
   "metadata": {},
   "outputs": [
    {
     "name": "stdout",
     "output_type": "stream",
     "text": [
      "-0.10620831725007171\n"
     ]
    },
    {
     "data": {
      "image/png": "[encoded data removed]",
      "text/plain": [
       "<Figure size 432x288 with 1 Axes>"
      ]
     },
     "metadata": {},
     "output_type": "display_data"
    }
   ],
   "source": [
    "tr['LDAPS_RHmax']=power_transform(tr[['LDAPS_RHmax']], method='yeo-johnson')\n",
    "tr['LDAPS_RHmax'].plot.hist()\n",
    "print(skew(tr['LDAPS_RHmax']))\n",
    "\n",
    "\n",
    "\n",
    "\n",
    "\n"
   ]
  },
  {
   "cell_type": "code",
   "execution_count": 540,
   "metadata": {},
   "outputs": [
    {
     "name": "stdout",
     "output_type": "stream",
     "text": [
      "0.008127018589932887\n"
     ]
    },
    {
     "data": {
      "image/png": "[encoded data removed]",
      "text/plain": [
       "<Figure size 432x288 with 1 Axes>"
      ]
     },
     "metadata": {},
     "output_type": "display_data"
    }
   ],
   "source": [
    "tr['LDAPS_WS']=power_transform(tr[['LDAPS_WS']], method='yeo-johnson')\n",
    "tr['LDAPS_WS'].plot.hist()\n",
    "print(skew(tr['LDAPS_WS']))\n"
   ]
  },
  {
   "cell_type": "code",
   "execution_count": 541,
   "metadata": {},
   "outputs": [
    {
     "name": "stdout",
     "output_type": "stream",
     "text": [
      "-0.031062192334102554\n"
     ]
    },
    {
     "data": {
      "image/png": "[encoded data removed]",
      "text/plain": [
       "<Figure size 432x288 with 1 Axes>"
      ]
     },
     "metadata": {},
     "output_type": "display_data"
    }
   ],
   "source": [
    "tr['LDAPS_LH']=power_transform(tr[['LDAPS_LH']], method='yeo-johnson')\n",
    "tr['LDAPS_LH'].plot.hist()\n",
    "print(skew(tr['LDAPS_LH']))\n"
   ]
  },
  {
   "cell_type": "code",
   "execution_count": 542,
   "metadata": {},
   "outputs": [
    {
     "name": "stdout",
     "output_type": "stream",
     "text": [
      "0.06526452421193199\n"
     ]
    },
    {
     "data": {
      "image/png": "[encoded data removed]",
      "text/plain": [
       "<Figure size 432x288 with 1 Axes>"
      ]
     },
     "metadata": {},
     "output_type": "display_data"
    }
   ],
   "source": [
    "\n",
    "tr['LDAPS_CC1']=power_transform(tr[['LDAPS_CC1']], method='yeo-johnson')\n",
    "tr['LDAPS_CC1'].plot.hist()\n",
    "print(skew(tr['LDAPS_CC1']))\n"
   ]
  },
  {
   "cell_type": "code",
   "execution_count": 543,
   "metadata": {},
   "outputs": [
    {
     "name": "stdout",
     "output_type": "stream",
     "text": [
      "0.05001367822592266\n"
     ]
    },
    {
     "data": {
      "image/png": "[encoded data removed]",
      "text/plain": [
       "<Figure size 432x288 with 1 Axes>"
      ]
     },
     "metadata": {},
     "output_type": "display_data"
    }
   ],
   "source": [
    "\n",
    "tr['LDAPS_CC2']=power_transform(tr[['LDAPS_CC2']], method='yeo-johnson')\n",
    "tr['LDAPS_CC2'].plot.hist()\n",
    "print(skew(tr['LDAPS_CC2']))\n"
   ]
  },
  {
   "cell_type": "code",
   "execution_count": 544,
   "metadata": {},
   "outputs": [
    {
     "name": "stdout",
     "output_type": "stream",
     "text": [
      "0.09413810306563188\n"
     ]
    },
    {
     "data": {
      "image/png": "[encoded data removed]",
      "text/plain": [
       "<Figure size 432x288 with 1 Axes>"
      ]
     },
     "metadata": {},
     "output_type": "display_data"
    }
   ],
   "source": [
    "\n",
    "tr['LDAPS_CC3']=power_transform(tr[['LDAPS_CC3']], method='yeo-johnson')\n",
    "tr['LDAPS_CC3'].plot.hist()\n",
    "print(skew(tr['LDAPS_CC3']))\n",
    "\n"
   ]
  },
  {
   "cell_type": "code",
   "execution_count": 545,
   "metadata": {},
   "outputs": [
    {
     "name": "stdout",
     "output_type": "stream",
     "text": [
      "0.14293459659949584\n"
     ]
    },
    {
     "data": {
      "image/png": "[encoded data removed]",
      "text/plain": [
       "<Figure size 432x288 with 1 Axes>"
      ]
     },
     "metadata": {},
     "output_type": "display_data"
    }
   ],
   "source": [
    "tr['LDAPS_CC4']=power_transform(tr[['LDAPS_CC4']], method='yeo-johnson')\n",
    "tr['LDAPS_CC4'].plot.hist()\n",
    "print(skew(tr['LDAPS_CC4']))\n"
   ]
  },
  {
   "cell_type": "code",
   "execution_count": 546,
   "metadata": {},
   "outputs": [
    {
     "name": "stdout",
     "output_type": "stream",
     "text": [
      "1.6195633920649244\n"
     ]
    },
    {
     "data": {
      "image/png": "[encoded data removed]",
      "text/plain": [
       "<Figure size 432x288 with 1 Axes>"
      ]
     },
     "metadata": {},
     "output_type": "display_data"
    }
   ],
   "source": [
    "\n",
    "tr['LDAPS_PPT1']=power_transform(tr[['LDAPS_PPT1']], method='yeo-johnson')\n",
    "tr['LDAPS_PPT1'].plot.hist()\n",
    "print(skew(tr['LDAPS_PPT1']))\n"
   ]
  },
  {
   "cell_type": "code",
   "execution_count": 547,
   "metadata": {},
   "outputs": [
    {
     "name": "stdout",
     "output_type": "stream",
     "text": [
      "1.8229588977391138\n"
     ]
    },
    {
     "data": {
      "image/png": "[encoded data removed]",
      "text/plain": [
       "<Figure size 432x288 with 1 Axes>"
      ]
     },
     "metadata": {},
     "output_type": "display_data"
    }
   ],
   "source": [
    "\n",
    "tr['LDAPS_PPT2']=power_transform(tr[['LDAPS_PPT2']], method='yeo-johnson')\n",
    "tr['LDAPS_PPT2'].plot.hist()\n",
    "print(skew(tr['LDAPS_PPT2']))\n"
   ]
  },
  {
   "cell_type": "code",
   "execution_count": 548,
   "metadata": {},
   "outputs": [
    {
     "name": "stdout",
     "output_type": "stream",
     "text": [
      "1.997839678358057\n"
     ]
    },
    {
     "data": {
      "image/png": "[encoded data removed]",
      "text/plain": [
       "<Figure size 432x288 with 1 Axes>"
      ]
     },
     "metadata": {},
     "output_type": "display_data"
    }
   ],
   "source": [
    "\n",
    "tr['LDAPS_PPT3']=power_transform(tr[['LDAPS_PPT3']], method='yeo-johnson')\n",
    "tr['LDAPS_PPT3'].plot.hist()\n",
    "print(skew(tr['LDAPS_PPT3']))\n"
   ]
  },
  {
   "cell_type": "code",
   "execution_count": 549,
   "metadata": {},
   "outputs": [
    {
     "name": "stdout",
     "output_type": "stream",
     "text": [
      "2.2697159057911547\n"
     ]
    },
    {
     "data": {
      "image/png": "[encoded data removed]",
      "text/plain": [
       "<Figure size 432x288 with 1 Axes>"
      ]
     },
     "metadata": {},
     "output_type": "display_data"
    }
   ],
   "source": [
    "\n",
    "tr['LDAPS_PPT4']=power_transform(tr[['LDAPS_PPT4']], method='yeo-johnson')\n",
    "tr['LDAPS_PPT4'].plot.hist()\n",
    "print(skew(tr['LDAPS_PPT4']))\n"
   ]
  },
  {
   "cell_type": "code",
   "execution_count": 550,
   "metadata": {},
   "outputs": [
    {
     "name": "stdout",
     "output_type": "stream",
     "text": [
      "0.03907074223982485\n"
     ]
    },
    {
     "data": {
      "image/png": "[encoded data removed]",
      "text/plain": [
       "<Figure size 432x288 with 1 Axes>"
      ]
     },
     "metadata": {},
     "output_type": "display_data"
    }
   ],
   "source": [
    "\n",
    "tr['DEM']=power_transform(tr[['DEM']], method='yeo-johnson')\n",
    "tr['DEM'].plot.hist()\n",
    "print(skew(tr['DEM']))\n",
    "\n"
   ]
  },
  {
   "cell_type": "code",
   "execution_count": 551,
   "metadata": {},
   "outputs": [
    {
     "name": "stdout",
     "output_type": "stream",
     "text": [
      "0.2341720193177845\n"
     ]
    },
    {
     "data": {
      "image/png": "[encoded data removed]",
      "text/plain": [
       "<Figure size 432x288 with 1 Axes>"
      ]
     },
     "metadata": {},
     "output_type": "display_data"
    }
   ],
   "source": [
    "tr['Slope']=power_transform(tr[['Slope']], method='yeo-johnson')\n",
    "tr['Slope'].plot.hist()\n",
    "print(skew(tr['Slope']))\n"
   ]
  },
  {
   "cell_type": "code",
   "execution_count": 552,
   "metadata": {},
   "outputs": [
    {
     "name": "stdout",
     "output_type": "stream",
     "text": [
      "-0.17253491912151547\n"
     ]
    },
    {
     "data": {
      "image/png": "[encoded data removed]",
      "text/plain": [
       "<Figure size 432x288 with 1 Axes>"
      ]
     },
     "metadata": {},
     "output_type": "display_data"
    }
   ],
   "source": [
    "\n",
    "tr['Solar radiation']=power_transform(tr[['Solar radiation']], method='yeo-johnson')\n",
    "tr['Solar radiation'].plot.hist()\n",
    "print(skew(tr['Solar radiation']))"
   ]
  },
  {
   "cell_type": "markdown",
   "metadata": {},
   "source": [
    "Skewness has been removed for colmuns qith threshold greater than +-0.5\n"
   ]
  },
  {
   "cell_type": "code",
   "execution_count": 553,
   "metadata": {},
   "outputs": [],
   "source": [
    "tr[\"Day\"] = tr['Date'].str.split('-').str[0].astype(int)\n",
    "tr[\"Month\"] = tr['Date'].str.split('-').str[1].astype(int)\n",
    "tr[\"Year\"] = tr['Date'].str.split('-').str[2].astype(int)"
   ]
  },
  {
   "cell_type": "markdown",
   "metadata": {},
   "source": [
    "Splitting date column and creating new feature"
   ]
  },
  {
   "cell_type": "code",
   "execution_count": 554,
   "metadata": {},
   "outputs": [
    {
     "data": {
      "text/html": [
       "<div>\n",
       "<style scoped>\n",
       "    .dataframe tbody tr th:only-of-type {\n",
       "        vertical-align: middle;\n",
       "    }\n",
       "\n",
       "    .dataframe tbody tr th {\n",
       "        vertical-align: top;\n",
       "    }\n",
       "\n",
       "    .dataframe thead th {\n",
       "        text-align: right;\n",
       "    }\n",
       "</style>\n",
       "<table border=\"1\" class=\"dataframe\">\n",
       "  <thead>\n",
       "    <tr style=\"text-align: right;\">\n",
       "      <th></th>\n",
       "      <th>station</th>\n",
       "      <th>Date</th>\n",
       "      <th>Present_Tmax</th>\n",
       "      <th>Present_Tmin</th>\n",
       "      <th>LDAPS_RHmin</th>\n",
       "      <th>LDAPS_RHmax</th>\n",
       "      <th>LDAPS_Tmax_lapse</th>\n",
       "      <th>LDAPS_Tmin_lapse</th>\n",
       "      <th>LDAPS_WS</th>\n",
       "      <th>LDAPS_LH</th>\n",
       "      <th>LDAPS_CC1</th>\n",
       "      <th>LDAPS_CC2</th>\n",
       "      <th>LDAPS_CC3</th>\n",
       "      <th>LDAPS_CC4</th>\n",
       "      <th>LDAPS_PPT1</th>\n",
       "      <th>LDAPS_PPT2</th>\n",
       "      <th>LDAPS_PPT3</th>\n",
       "      <th>LDAPS_PPT4</th>\n",
       "      <th>lat</th>\n",
       "      <th>lon</th>\n",
       "      <th>DEM</th>\n",
       "      <th>Slope</th>\n",
       "      <th>Solar radiation</th>\n",
       "      <th>Next_Tmax</th>\n",
       "      <th>Next_Tmin</th>\n",
       "      <th>Day</th>\n",
       "      <th>Month</th>\n",
       "      <th>Year</th>\n",
       "    </tr>\n",
       "  </thead>\n",
       "  <tbody>\n",
       "    <tr>\n",
       "      <th>0</th>\n",
       "      <td>1.0</td>\n",
       "      <td>30-06-2013</td>\n",
       "      <td>28.7</td>\n",
       "      <td>21.4</td>\n",
       "      <td>58.255688</td>\n",
       "      <td>0.352834</td>\n",
       "      <td>28.074101</td>\n",
       "      <td>23.006936</td>\n",
       "      <td>0.172256</td>\n",
       "      <td>0.350250</td>\n",
       "      <td>-0.306390</td>\n",
       "      <td>-0.424936</td>\n",
       "      <td>-0.464612</td>\n",
       "      <td>-0.513158</td>\n",
       "      <td>-0.524792</td>\n",
       "      <td>-0.483988</td>\n",
       "      <td>-0.461333</td>\n",
       "      <td>-0.414339</td>\n",
       "      <td>37.6046</td>\n",
       "      <td>126.991</td>\n",
       "      <td>1.853469</td>\n",
       "      <td>1.330711</td>\n",
       "      <td>1.880923</td>\n",
       "      <td>29.1</td>\n",
       "      <td>21.2</td>\n",
       "      <td>30</td>\n",
       "      <td>6</td>\n",
       "      <td>2013</td>\n",
       "    </tr>\n",
       "    <tr>\n",
       "      <th>1</th>\n",
       "      <td>2.0</td>\n",
       "      <td>30-06-2013</td>\n",
       "      <td>31.9</td>\n",
       "      <td>21.6</td>\n",
       "      <td>52.263397</td>\n",
       "      <td>0.266190</td>\n",
       "      <td>29.850689</td>\n",
       "      <td>24.035009</td>\n",
       "      <td>-0.577588</td>\n",
       "      <td>-0.165036</td>\n",
       "      <td>-0.347526</td>\n",
       "      <td>-0.191991</td>\n",
       "      <td>-0.477841</td>\n",
       "      <td>-0.533329</td>\n",
       "      <td>-0.524792</td>\n",
       "      <td>-0.483988</td>\n",
       "      <td>-0.461333</td>\n",
       "      <td>-0.414339</td>\n",
       "      <td>37.6046</td>\n",
       "      <td>127.032</td>\n",
       "      <td>0.070385</td>\n",
       "      <td>-0.373723</td>\n",
       "      <td>1.424840</td>\n",
       "      <td>30.5</td>\n",
       "      <td>22.5</td>\n",
       "      <td>30</td>\n",
       "      <td>6</td>\n",
       "      <td>2013</td>\n",
       "    </tr>\n",
       "    <tr>\n",
       "      <th>2</th>\n",
       "      <td>3.0</td>\n",
       "      <td>30-06-2013</td>\n",
       "      <td>31.6</td>\n",
       "      <td>23.3</td>\n",
       "      <td>48.690479</td>\n",
       "      <td>-0.703953</td>\n",
       "      <td>30.091292</td>\n",
       "      <td>24.565633</td>\n",
       "      <td>-0.255633</td>\n",
       "      <td>-1.375003</td>\n",
       "      <td>-0.427927</td>\n",
       "      <td>-0.165320</td>\n",
       "      <td>-0.226881</td>\n",
       "      <td>-0.443850</td>\n",
       "      <td>-0.524792</td>\n",
       "      <td>-0.483988</td>\n",
       "      <td>-0.461333</td>\n",
       "      <td>-0.414339</td>\n",
       "      <td>37.5776</td>\n",
       "      <td>127.058</td>\n",
       "      <td>-0.352737</td>\n",
       "      <td>-0.943719</td>\n",
       "      <td>1.404465</td>\n",
       "      <td>31.1</td>\n",
       "      <td>23.9</td>\n",
       "      <td>30</td>\n",
       "      <td>6</td>\n",
       "      <td>2013</td>\n",
       "    </tr>\n",
       "    <tr>\n",
       "      <th>3</th>\n",
       "      <td>4.0</td>\n",
       "      <td>30-06-2013</td>\n",
       "      <td>32.0</td>\n",
       "      <td>23.4</td>\n",
       "      <td>58.239788</td>\n",
       "      <td>1.377092</td>\n",
       "      <td>29.704629</td>\n",
       "      <td>23.326177</td>\n",
       "      <td>-0.609720</td>\n",
       "      <td>0.246524</td>\n",
       "      <td>-0.392705</td>\n",
       "      <td>-0.315362</td>\n",
       "      <td>-0.467774</td>\n",
       "      <td>-0.492403</td>\n",
       "      <td>-0.524792</td>\n",
       "      <td>-0.483988</td>\n",
       "      <td>-0.461333</td>\n",
       "      <td>-0.414339</td>\n",
       "      <td>37.6450</td>\n",
       "      <td>127.022</td>\n",
       "      <td>0.099442</td>\n",
       "      <td>1.252241</td>\n",
       "      <td>1.381233</td>\n",
       "      <td>31.7</td>\n",
       "      <td>24.3</td>\n",
       "      <td>30</td>\n",
       "      <td>6</td>\n",
       "      <td>2013</td>\n",
       "    </tr>\n",
       "    <tr>\n",
       "      <th>4</th>\n",
       "      <td>5.0</td>\n",
       "      <td>30-06-2013</td>\n",
       "      <td>31.4</td>\n",
       "      <td>21.9</td>\n",
       "      <td>56.174095</td>\n",
       "      <td>0.191537</td>\n",
       "      <td>29.113934</td>\n",
       "      <td>23.486480</td>\n",
       "      <td>-0.544847</td>\n",
       "      <td>1.294571</td>\n",
       "      <td>-0.734707</td>\n",
       "      <td>-0.200349</td>\n",
       "      <td>-0.365667</td>\n",
       "      <td>-0.279269</td>\n",
       "      <td>-0.524792</td>\n",
       "      <td>-0.483988</td>\n",
       "      <td>-0.461333</td>\n",
       "      <td>-0.414339</td>\n",
       "      <td>37.5507</td>\n",
       "      <td>127.135</td>\n",
       "      <td>-0.278112</td>\n",
       "      <td>-0.390272</td>\n",
       "      <td>1.390341</td>\n",
       "      <td>31.2</td>\n",
       "      <td>22.5</td>\n",
       "      <td>30</td>\n",
       "      <td>6</td>\n",
       "      <td>2013</td>\n",
       "    </tr>\n",
       "  </tbody>\n",
       "</table>\n",
       "</div>"
      ],
      "text/plain": [
       "   station        Date  Present_Tmax  Present_Tmin  LDAPS_RHmin  LDAPS_RHmax  \\\n",
       "0      1.0  30-06-2013          28.7          21.4    58.255688     0.352834   \n",
       "1      2.0  30-06-2013          31.9          21.6    52.263397     0.266190   \n",
       "2      3.0  30-06-2013          31.6          23.3    48.690479    -0.703953   \n",
       "3      4.0  30-06-2013          32.0          23.4    58.239788     1.377092   \n",
       "4      5.0  30-06-2013          31.4          21.9    56.174095     0.191537   \n",
       "\n",
       "   LDAPS_Tmax_lapse  LDAPS_Tmin_lapse  LDAPS_WS  LDAPS_LH  LDAPS_CC1  \\\n",
       "0         28.074101         23.006936  0.172256  0.350250  -0.306390   \n",
       "1         29.850689         24.035009 -0.577588 -0.165036  -0.347526   \n",
       "2         30.091292         24.565633 -0.255633 -1.375003  -0.427927   \n",
       "3         29.704629         23.326177 -0.609720  0.246524  -0.392705   \n",
       "4         29.113934         23.486480 -0.544847  1.294571  -0.734707   \n",
       "\n",
       "   LDAPS_CC2  LDAPS_CC3  LDAPS_CC4  LDAPS_PPT1  LDAPS_PPT2  LDAPS_PPT3  \\\n",
       "0  -0.424936  -0.464612  -0.513158   -0.524792   -0.483988   -0.461333   \n",
       "1  -0.191991  -0.477841  -0.533329   -0.524792   -0.483988   -0.461333   \n",
       "2  -0.165320  -0.226881  -0.443850   -0.524792   -0.483988   -0.461333   \n",
       "3  -0.315362  -0.467774  -0.492403   -0.524792   -0.483988   -0.461333   \n",
       "4  -0.200349  -0.365667  -0.279269   -0.524792   -0.483988   -0.461333   \n",
       "\n",
       "   LDAPS_PPT4      lat      lon       DEM     Slope  Solar radiation  \\\n",
       "0   -0.414339  37.6046  126.991  1.853469  1.330711         1.880923   \n",
       "1   -0.414339  37.6046  127.032  0.070385 -0.373723         1.424840   \n",
       "2   -0.414339  37.5776  127.058 -0.352737 -0.943719         1.404465   \n",
       "3   -0.414339  37.6450  127.022  0.099442  1.252241         1.381233   \n",
       "4   -0.414339  37.5507  127.135 -0.278112 -0.390272         1.390341   \n",
       "\n",
       "   Next_Tmax  Next_Tmin  Day  Month  Year  \n",
       "0       29.1       21.2   30      6  2013  \n",
       "1       30.5       22.5   30      6  2013  \n",
       "2       31.1       23.9   30      6  2013  \n",
       "3       31.7       24.3   30      6  2013  \n",
       "4       31.2       22.5   30      6  2013  "
      ]
     },
     "execution_count": 554,
     "metadata": {},
     "output_type": "execute_result"
    }
   ],
   "source": [
    "tr.head()"
   ]
  },
  {
   "cell_type": "code",
   "execution_count": null,
   "metadata": {},
   "outputs": [],
   "source": []
  },
  {
   "cell_type": "code",
   "execution_count": 555,
   "metadata": {},
   "outputs": [],
   "source": [
    "tr.drop([\"Date\"], axis = 1, inplace = True)"
   ]
  },
  {
   "cell_type": "markdown",
   "metadata": {},
   "source": [
    "Dropping date column form the dataset"
   ]
  },
  {
   "cell_type": "code",
   "execution_count": 556,
   "metadata": {},
   "outputs": [],
   "source": [
    "y=tr['Next_Tmax']\n",
    "y2=tr['Next_Tmin']\n",
    "y_y = pd.concat([y,y2],axis=1)\n",
    "x=tr.drop(columns=['Next_Tmax','Next_Tmin'])"
   ]
  },
  {
   "cell_type": "markdown",
   "metadata": {},
   "source": [
    "dividing data into x and y for performing ML"
   ]
  },
  {
   "cell_type": "code",
   "execution_count": 557,
   "metadata": {},
   "outputs": [
    {
     "data": {
      "text/html": [
       "<div>\n",
       "<style scoped>\n",
       "    .dataframe tbody tr th:only-of-type {\n",
       "        vertical-align: middle;\n",
       "    }\n",
       "\n",
       "    .dataframe tbody tr th {\n",
       "        vertical-align: top;\n",
       "    }\n",
       "\n",
       "    .dataframe thead th {\n",
       "        text-align: right;\n",
       "    }\n",
       "</style>\n",
       "<table border=\"1\" class=\"dataframe\">\n",
       "  <thead>\n",
       "    <tr style=\"text-align: right;\">\n",
       "      <th></th>\n",
       "      <th>station</th>\n",
       "      <th>Present_Tmax</th>\n",
       "      <th>Present_Tmin</th>\n",
       "      <th>LDAPS_RHmin</th>\n",
       "      <th>LDAPS_RHmax</th>\n",
       "      <th>LDAPS_Tmax_lapse</th>\n",
       "      <th>LDAPS_Tmin_lapse</th>\n",
       "      <th>LDAPS_WS</th>\n",
       "      <th>LDAPS_LH</th>\n",
       "      <th>LDAPS_CC1</th>\n",
       "      <th>LDAPS_CC2</th>\n",
       "      <th>LDAPS_CC3</th>\n",
       "      <th>LDAPS_CC4</th>\n",
       "      <th>LDAPS_PPT1</th>\n",
       "      <th>LDAPS_PPT2</th>\n",
       "      <th>LDAPS_PPT3</th>\n",
       "      <th>LDAPS_PPT4</th>\n",
       "      <th>lat</th>\n",
       "      <th>lon</th>\n",
       "      <th>DEM</th>\n",
       "      <th>Slope</th>\n",
       "      <th>Solar radiation</th>\n",
       "      <th>Day</th>\n",
       "      <th>Month</th>\n",
       "      <th>Year</th>\n",
       "    </tr>\n",
       "  </thead>\n",
       "  <tbody>\n",
       "    <tr>\n",
       "      <th>0</th>\n",
       "      <td>1.0</td>\n",
       "      <td>28.7</td>\n",
       "      <td>21.4</td>\n",
       "      <td>58.255688</td>\n",
       "      <td>0.352834</td>\n",
       "      <td>28.074101</td>\n",
       "      <td>23.006936</td>\n",
       "      <td>0.172256</td>\n",
       "      <td>0.350250</td>\n",
       "      <td>-0.306390</td>\n",
       "      <td>-0.424936</td>\n",
       "      <td>-0.464612</td>\n",
       "      <td>-0.513158</td>\n",
       "      <td>-0.524792</td>\n",
       "      <td>-0.483988</td>\n",
       "      <td>-0.461333</td>\n",
       "      <td>-0.414339</td>\n",
       "      <td>37.6046</td>\n",
       "      <td>126.991</td>\n",
       "      <td>1.853469</td>\n",
       "      <td>1.330711</td>\n",
       "      <td>1.880923</td>\n",
       "      <td>30</td>\n",
       "      <td>6</td>\n",
       "      <td>2013</td>\n",
       "    </tr>\n",
       "    <tr>\n",
       "      <th>1</th>\n",
       "      <td>2.0</td>\n",
       "      <td>31.9</td>\n",
       "      <td>21.6</td>\n",
       "      <td>52.263397</td>\n",
       "      <td>0.266190</td>\n",
       "      <td>29.850689</td>\n",
       "      <td>24.035009</td>\n",
       "      <td>-0.577588</td>\n",
       "      <td>-0.165036</td>\n",
       "      <td>-0.347526</td>\n",
       "      <td>-0.191991</td>\n",
       "      <td>-0.477841</td>\n",
       "      <td>-0.533329</td>\n",
       "      <td>-0.524792</td>\n",
       "      <td>-0.483988</td>\n",
       "      <td>-0.461333</td>\n",
       "      <td>-0.414339</td>\n",
       "      <td>37.6046</td>\n",
       "      <td>127.032</td>\n",
       "      <td>0.070385</td>\n",
       "      <td>-0.373723</td>\n",
       "      <td>1.424840</td>\n",
       "      <td>30</td>\n",
       "      <td>6</td>\n",
       "      <td>2013</td>\n",
       "    </tr>\n",
       "    <tr>\n",
       "      <th>2</th>\n",
       "      <td>3.0</td>\n",
       "      <td>31.6</td>\n",
       "      <td>23.3</td>\n",
       "      <td>48.690479</td>\n",
       "      <td>-0.703953</td>\n",
       "      <td>30.091292</td>\n",
       "      <td>24.565633</td>\n",
       "      <td>-0.255633</td>\n",
       "      <td>-1.375003</td>\n",
       "      <td>-0.427927</td>\n",
       "      <td>-0.165320</td>\n",
       "      <td>-0.226881</td>\n",
       "      <td>-0.443850</td>\n",
       "      <td>-0.524792</td>\n",
       "      <td>-0.483988</td>\n",
       "      <td>-0.461333</td>\n",
       "      <td>-0.414339</td>\n",
       "      <td>37.5776</td>\n",
       "      <td>127.058</td>\n",
       "      <td>-0.352737</td>\n",
       "      <td>-0.943719</td>\n",
       "      <td>1.404465</td>\n",
       "      <td>30</td>\n",
       "      <td>6</td>\n",
       "      <td>2013</td>\n",
       "    </tr>\n",
       "    <tr>\n",
       "      <th>3</th>\n",
       "      <td>4.0</td>\n",
       "      <td>32.0</td>\n",
       "      <td>23.4</td>\n",
       "      <td>58.239788</td>\n",
       "      <td>1.377092</td>\n",
       "      <td>29.704629</td>\n",
       "      <td>23.326177</td>\n",
       "      <td>-0.609720</td>\n",
       "      <td>0.246524</td>\n",
       "      <td>-0.392705</td>\n",
       "      <td>-0.315362</td>\n",
       "      <td>-0.467774</td>\n",
       "      <td>-0.492403</td>\n",
       "      <td>-0.524792</td>\n",
       "      <td>-0.483988</td>\n",
       "      <td>-0.461333</td>\n",
       "      <td>-0.414339</td>\n",
       "      <td>37.6450</td>\n",
       "      <td>127.022</td>\n",
       "      <td>0.099442</td>\n",
       "      <td>1.252241</td>\n",
       "      <td>1.381233</td>\n",
       "      <td>30</td>\n",
       "      <td>6</td>\n",
       "      <td>2013</td>\n",
       "    </tr>\n",
       "    <tr>\n",
       "      <th>4</th>\n",
       "      <td>5.0</td>\n",
       "      <td>31.4</td>\n",
       "      <td>21.9</td>\n",
       "      <td>56.174095</td>\n",
       "      <td>0.191537</td>\n",
       "      <td>29.113934</td>\n",
       "      <td>23.486480</td>\n",
       "      <td>-0.544847</td>\n",
       "      <td>1.294571</td>\n",
       "      <td>-0.734707</td>\n",
       "      <td>-0.200349</td>\n",
       "      <td>-0.365667</td>\n",
       "      <td>-0.279269</td>\n",
       "      <td>-0.524792</td>\n",
       "      <td>-0.483988</td>\n",
       "      <td>-0.461333</td>\n",
       "      <td>-0.414339</td>\n",
       "      <td>37.5507</td>\n",
       "      <td>127.135</td>\n",
       "      <td>-0.278112</td>\n",
       "      <td>-0.390272</td>\n",
       "      <td>1.390341</td>\n",
       "      <td>30</td>\n",
       "      <td>6</td>\n",
       "      <td>2013</td>\n",
       "    </tr>\n",
       "  </tbody>\n",
       "</table>\n",
       "</div>"
      ],
      "text/plain": [
       "   station  Present_Tmax  Present_Tmin  LDAPS_RHmin  LDAPS_RHmax  \\\n",
       "0      1.0          28.7          21.4    58.255688     0.352834   \n",
       "1      2.0          31.9          21.6    52.263397     0.266190   \n",
       "2      3.0          31.6          23.3    48.690479    -0.703953   \n",
       "3      4.0          32.0          23.4    58.239788     1.377092   \n",
       "4      5.0          31.4          21.9    56.174095     0.191537   \n",
       "\n",
       "   LDAPS_Tmax_lapse  LDAPS_Tmin_lapse  LDAPS_WS  LDAPS_LH  LDAPS_CC1  \\\n",
       "0         28.074101         23.006936  0.172256  0.350250  -0.306390   \n",
       "1         29.850689         24.035009 -0.577588 -0.165036  -0.347526   \n",
       "2         30.091292         24.565633 -0.255633 -1.375003  -0.427927   \n",
       "3         29.704629         23.326177 -0.609720  0.246524  -0.392705   \n",
       "4         29.113934         23.486480 -0.544847  1.294571  -0.734707   \n",
       "\n",
       "   LDAPS_CC2  LDAPS_CC3  LDAPS_CC4  LDAPS_PPT1  LDAPS_PPT2  LDAPS_PPT3  \\\n",
       "0  -0.424936  -0.464612  -0.513158   -0.524792   -0.483988   -0.461333   \n",
       "1  -0.191991  -0.477841  -0.533329   -0.524792   -0.483988   -0.461333   \n",
       "2  -0.165320  -0.226881  -0.443850   -0.524792   -0.483988   -0.461333   \n",
       "3  -0.315362  -0.467774  -0.492403   -0.524792   -0.483988   -0.461333   \n",
       "4  -0.200349  -0.365667  -0.279269   -0.524792   -0.483988   -0.461333   \n",
       "\n",
       "   LDAPS_PPT4      lat      lon       DEM     Slope  Solar radiation  Day  \\\n",
       "0   -0.414339  37.6046  126.991  1.853469  1.330711         1.880923   30   \n",
       "1   -0.414339  37.6046  127.032  0.070385 -0.373723         1.424840   30   \n",
       "2   -0.414339  37.5776  127.058 -0.352737 -0.943719         1.404465   30   \n",
       "3   -0.414339  37.6450  127.022  0.099442  1.252241         1.381233   30   \n",
       "4   -0.414339  37.5507  127.135 -0.278112 -0.390272         1.390341   30   \n",
       "\n",
       "   Month  Year  \n",
       "0      6  2013  \n",
       "1      6  2013  \n",
       "2      6  2013  \n",
       "3      6  2013  \n",
       "4      6  2013  "
      ]
     },
     "execution_count": 557,
     "metadata": {},
     "output_type": "execute_result"
    }
   ],
   "source": [
    "x.head()\n"
   ]
  },
  {
   "cell_type": "code",
   "execution_count": 558,
   "metadata": {},
   "outputs": [
    {
     "data": {
      "text/html": [
       "<div>\n",
       "<style scoped>\n",
       "    .dataframe tbody tr th:only-of-type {\n",
       "        vertical-align: middle;\n",
       "    }\n",
       "\n",
       "    .dataframe tbody tr th {\n",
       "        vertical-align: top;\n",
       "    }\n",
       "\n",
       "    .dataframe thead th {\n",
       "        text-align: right;\n",
       "    }\n",
       "</style>\n",
       "<table border=\"1\" class=\"dataframe\">\n",
       "  <thead>\n",
       "    <tr style=\"text-align: right;\">\n",
       "      <th></th>\n",
       "      <th>Next_Tmax</th>\n",
       "      <th>Next_Tmin</th>\n",
       "    </tr>\n",
       "  </thead>\n",
       "  <tbody>\n",
       "    <tr>\n",
       "      <th>0</th>\n",
       "      <td>29.1</td>\n",
       "      <td>21.2</td>\n",
       "    </tr>\n",
       "    <tr>\n",
       "      <th>1</th>\n",
       "      <td>30.5</td>\n",
       "      <td>22.5</td>\n",
       "    </tr>\n",
       "    <tr>\n",
       "      <th>2</th>\n",
       "      <td>31.1</td>\n",
       "      <td>23.9</td>\n",
       "    </tr>\n",
       "    <tr>\n",
       "      <th>3</th>\n",
       "      <td>31.7</td>\n",
       "      <td>24.3</td>\n",
       "    </tr>\n",
       "    <tr>\n",
       "      <th>4</th>\n",
       "      <td>31.2</td>\n",
       "      <td>22.5</td>\n",
       "    </tr>\n",
       "  </tbody>\n",
       "</table>\n",
       "</div>"
      ],
      "text/plain": [
       "   Next_Tmax  Next_Tmin\n",
       "0       29.1       21.2\n",
       "1       30.5       22.5\n",
       "2       31.1       23.9\n",
       "3       31.7       24.3\n",
       "4       31.2       22.5"
      ]
     },
     "execution_count": 558,
     "metadata": {},
     "output_type": "execute_result"
    }
   ],
   "source": [
    "y_y.head()"
   ]
  },
  {
   "cell_type": "code",
   "execution_count": null,
   "metadata": {},
   "outputs": [],
   "source": []
  },
  {
   "cell_type": "code",
   "execution_count": 559,
   "metadata": {},
   "outputs": [],
   "source": [
    "from sklearn.preprocessing import StandardScaler \n",
    "\n",
    "x = StandardScaler().fit_transform(x)\n",
    "x_train,x_test,y_train,y_test=train_test_split(x,y_y,test_size=0.2,random_state=45)"
   ]
  },
  {
   "cell_type": "markdown",
   "metadata": {},
   "source": [
    "Scaling and splitting x and y for fitting into model"
   ]
  },
  {
   "cell_type": "code",
   "execution_count": null,
   "metadata": {},
   "outputs": [],
   "source": []
  },
  {
   "cell_type": "code",
   "execution_count": null,
   "metadata": {},
   "outputs": [],
   "source": []
  },
  {
   "cell_type": "code",
   "execution_count": null,
   "metadata": {},
   "outputs": [],
   "source": []
  },
  {
   "cell_type": "code",
   "execution_count": 560,
   "metadata": {},
   "outputs": [
    {
     "name": "stdout",
     "output_type": "stream",
     "text": [
      "forest: \n",
      " Train: 0.984501 \n",
      "Test: 0.894605 \n",
      "MSE: 0.781256 \n",
      "\n",
      "\n",
      "cross val score :  0.8818469807333857\n",
      "\n",
      "-------------------------------------------------------------------------------------------------------------\n",
      "tree: \n",
      " Train: 1.000000 \n",
      "Test: 0.726002 \n",
      "MSE: 2.029038 \n",
      "\n",
      "\n",
      "cross val score :  0.7207807728636089\n",
      "\n",
      "-------------------------------------------------------------------------------------------------------------\n",
      "ridge: \n",
      " Train: 0.794206 \n",
      "Test: 0.795531 \n",
      "MSE: 1.569954 \n",
      "\n",
      "\n",
      "cross val score :  0.7918610588209585\n",
      "\n",
      "-------------------------------------------------------------------------------------------------------------\n",
      "lin: \n",
      " Train: 0.794216 \n",
      "Test: 0.795504 \n",
      "MSE: 1.570184 \n",
      "\n",
      "\n",
      "cross val score :  0.7918692496374704\n",
      "\n",
      "-------------------------------------------------------------------------------------------------------------\n",
      "lasso: \n",
      " Train: 0.387124 \n",
      "Test: 0.387214 \n",
      "MSE: 4.516199 \n",
      "\n",
      "\n",
      "cross val score :  0.38645053059648415\n",
      "\n",
      "-------------------------------------------------------------------------------------------------------------\n",
      "Extra Tree: \n",
      " Train: 1.000000 \n",
      "Test: 0.916663 \n",
      "MSE: 0.610754 \n",
      "\n",
      "\n",
      "cross val score :  0.9056518267973948\n",
      "\n",
      "-------------------------------------------------------------------------------------------------------------\n"
     ]
    }
   ],
   "source": [
    "def met(y_act, y_pred):\n",
    "    return(1-(np.sqrt(np.mean((np.log10(y_act) - np.log10(y_pred))**2))))\n",
    "\n",
    "from sklearn.metrics import make_scorer\n",
    "my_met= make_scorer(met, greater_is_better=False)\n",
    "models = []\n",
    "#models.append(('xgr', XGBRegressor()))\n",
    "#models.append(('gbr', GradientBoostingRegressor()))\n",
    "models.append(('forest', RandomForestRegressor()))\n",
    "models.append(('tree', DecisionTreeRegressor()))\n",
    "models.append(('ridge', Ridge(alpha=1.5)))\n",
    "models.append(('lin', LinearRegression()))\n",
    "models.append(('lasso', Lasso(alpha=1.5)))\n",
    "models.append(('Extra Tree', ExtraTreesRegressor()))\n",
    "#models.append(('Adaboost', AdaBoostRegressor()))\n",
    "#models.append(('Svr', SVR()))\n",
    "\n",
    "\n",
    "# evaluate each model in turn\n",
    "\n",
    "\n",
    "for name, model in models:\n",
    "    model.fit(x_train, y_train)\n",
    "\n",
    "    y_pred = model.predict(x_test)\n",
    "\n",
    "    a=model.score(x_train, y_train)\n",
    "\n",
    "\n",
    "\n",
    "    b=model.score(x_test, y_test)\n",
    "\n",
    "\n",
    "\n",
    "\n",
    "    c=metrics.mean_squared_error(y_test, y_pred)\n",
    "\n",
    "    sc = cross_val_score(model,x_train,y_train,scoring='r2',cv=5).mean()\n",
    "    \n",
    "  \n",
    "\n",
    "    msg = \"%s: \\n Train: %f \\nTest: %f \\nMSE: %f \" % (name,a,b,c)\n",
    "    print(msg)\n",
    "    print('\\n')\n",
    "    print('cross val score : ',sc)\n",
    "    #print('-cval:  ',(-cross_val_score(model,x_train,y_train,scoring=my_met,cv=5)).mean())\n",
    "    print('\\n-------------------------------------------------------------------------------------------------------------')\n",
    "    #print(y_pred)\n",
    "    \n"
   ]
  },
  {
   "cell_type": "markdown",
   "metadata": {},
   "source": [
    "Using for loop for testing various algorithms \n",
    "\n",
    "extra tree performs better compared to other so we will hyperparameter tune it"
   ]
  },
  {
   "cell_type": "markdown",
   "metadata": {},
   "source": [
    "# Hyper parameter tuning"
   ]
  },
  {
   "cell_type": "code",
   "execution_count": 561,
   "metadata": {},
   "outputs": [
    {
     "name": "stdout",
     "output_type": "stream",
     "text": [
      "Best: 0.909267 using {'max_features': 10}\n",
      "Extra Tree: \n",
      " Train: 1.000000 \n",
      "Test: 0.917035 \n",
      "MSE: 0.610754 \n",
      "\n",
      "\n",
      "cross val score :  0.9097561237913478\n",
      "\n",
      "-------------------------------------------------------------------------------------------------------------\n"
     ]
    }
   ],
   "source": [
    "model = ExtraTreesRegressor()\n",
    "                            \n",
    "gsc = GridSearchCV(\n",
    "    estimator=model,\n",
    "    param_grid={\n",
    "        #'n_estimators': range(50,126,25),\n",
    "        'max_features': range(0,100),\n",
    "        #'min_samples_leaf': range(20,50,5),\n",
    "        #'min_samples_split': range(15,36,5),\n",
    "    },\n",
    "    scoring='r2',\n",
    "    cv=5\n",
    ")\n",
    "\n",
    "grid_result = gsc.fit(x_train, y_train)\n",
    "\n",
    "print(\"Best: %f using %s\" % (grid_result.best_score_, grid_result.best_params_))\n",
    "\n",
    "\n",
    "model = ExtraTreesRegressor(**grid_result.best_params_)\n",
    "\n",
    "model.fit(x_train, y_train)\n",
    "\n",
    "a=model.score(x_train, y_train)\n",
    "\n",
    "\n",
    "b=model.score(x_test, y_test)\n",
    "\n",
    "\n",
    "\n",
    "\n",
    "c=metrics.mean_squared_error(y_test, y_pred)\n",
    "\n",
    "sc = cross_val_score(model,x_train,y_train,scoring='r2',cv=5).mean()\n",
    "    \n",
    "  \n",
    "\n",
    "msg = \"%s: \\n Train: %f \\nTest: %f \\nMSE: %f \" % (name,a,b,c)\n",
    "print(msg)\n",
    "print('\\n')\n",
    "print('cross val score : ',sc)\n",
    "#print('-cval:  ',(-cross_val_score(model,x_train,y_train,scoring=my_met,cv=5)).mean())\n",
    "print('\\n-------------------------------------------------------------------------------------------------------------') \n"
   ]
  },
  {
   "cell_type": "markdown",
   "metadata": {},
   "source": [
    "the performance of model is slightly increased after tuning so we can use that for saving model"
   ]
  },
  {
   "cell_type": "markdown",
   "metadata": {},
   "source": [
    "# Saving model"
   ]
  },
  {
   "cell_type": "code",
   "execution_count": 562,
   "metadata": {},
   "outputs": [
    {
     "data": {
      "text/plain": [
       "['temperature.obj']"
      ]
     },
     "execution_count": 562,
     "metadata": {},
     "output_type": "execute_result"
    }
   ],
   "source": [
    "import joblib\n",
    "joblib.dump(gsc.best_estimator_,\"temperature.obj\")"
   ]
  },
  {
   "cell_type": "code",
   "execution_count": null,
   "metadata": {},
   "outputs": [],
   "source": []
  },
  {
   "cell_type": "code",
   "execution_count": null,
   "metadata": {},
   "outputs": [],
   "source": []
  },
  {
   "cell_type": "code",
   "execution_count": null,
   "metadata": {},
   "outputs": [],
   "source": []
  },
  {
   "cell_type": "code",
   "execution_count": null,
   "metadata": {},
   "outputs": [],
   "source": []
  },
  {
   "cell_type": "code",
   "execution_count": null,
   "metadata": {},
   "outputs": [],
   "source": []
  },
  {
   "cell_type": "code",
   "execution_count": null,
   "metadata": {},
   "outputs": [],
   "source": []
  },
  {
   "cell_type": "code",
   "execution_count": null,
   "metadata": {},
   "outputs": [],
   "source": []
  },
  {
   "cell_type": "code",
   "execution_count": null,
   "metadata": {},
   "outputs": [],
   "source": []
  },
  {
   "cell_type": "code",
   "execution_count": null,
   "metadata": {},
   "outputs": [],
   "source": []
  },
  {
   "cell_type": "code",
   "execution_count": null,
   "metadata": {},
   "outputs": [],
   "source": []
  },
  {
   "cell_type": "code",
   "execution_count": null,
   "metadata": {},
   "outputs": [],
   "source": []
  },
  {
   "cell_type": "code",
   "execution_count": null,
   "metadata": {},
   "outputs": [],
   "source": []
  },
  {
   "cell_type": "code",
   "execution_count": null,
   "metadata": {},
   "outputs": [],
   "source": []
  },
  {
   "cell_type": "code",
   "execution_count": null,
   "metadata": {},
   "outputs": [],
   "source": []
  },
  {
   "cell_type": "code",
   "execution_count": null,
   "metadata": {},
   "outputs": [],
   "source": []
  },
  {
   "cell_type": "code",
   "execution_count": null,
   "metadata": {},
   "outputs": [],
   "source": []
  },
  {
   "cell_type": "code",
   "execution_count": null,
   "metadata": {},
   "outputs": [],
   "source": []
  }
 ],
 "metadata": {
  "kernelspec": {
   "display_name": "Python 3",
   "language": "python",
   "name": "python3"
  },
  "language_info": {
   "codemirror_mode": {
    "name": "ipython",
    "version": 3
   },
   "file_extension": ".py",
   "mimetype": "text/x-python",
   "name": "python",
   "nbconvert_exporter": "python",
   "pygments_lexer": "ipython3",
   "version": "3.8.5"
  }
 },
 "nbformat": 4,
 "nbformat_minor": 4
}
