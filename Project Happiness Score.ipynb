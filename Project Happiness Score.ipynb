{
 "cells": [
  {
   "cell_type": "markdown",
   "metadata": {},
   "source": [
    "# Importing and Cleaning"
   ]
  },
  {
   "cell_type": "code",
   "execution_count": 1483,
   "metadata": {},
   "outputs": [],
   "source": [
    "import numpy as np\n",
    "import pandas as pd\n",
    "import seaborn as sns\n",
    "import matplotlib.pyplot as plt\n",
    "\n",
    "from scipy.stats import skew\n",
    "from sklearn.preprocessing import power_transform\n",
    "\n",
    "from sklearn.linear_model import LinearRegression\n",
    "from sklearn.metrics import mean_squared_error,mean_absolute_error\n",
    "from sklearn.model_selection import train_test_split\n",
    "import warnings\n",
    "warnings.filterwarnings(\"ignore\")"
   ]
  },
  {
   "cell_type": "code",
   "execution_count": null,
   "metadata": {},
   "outputs": [],
   "source": []
  },
  {
   "cell_type": "code",
   "execution_count": 1362,
   "metadata": {},
   "outputs": [],
   "source": [
    "hpy=pd.read_csv(\"happiness_score_dataset.csv\")\n"
   ]
  },
  {
   "cell_type": "code",
   "execution_count": 1363,
   "metadata": {},
   "outputs": [
    {
     "data": {
      "text/html": [
       "<div>\n",
       "<style scoped>\n",
       "    .dataframe tbody tr th:only-of-type {\n",
       "        vertical-align: middle;\n",
       "    }\n",
       "\n",
       "    .dataframe tbody tr th {\n",
       "        vertical-align: top;\n",
       "    }\n",
       "\n",
       "    .dataframe thead th {\n",
       "        text-align: right;\n",
       "    }\n",
       "</style>\n",
       "<table border=\"1\" class=\"dataframe\">\n",
       "  <thead>\n",
       "    <tr style=\"text-align: right;\">\n",
       "      <th></th>\n",
       "      <th>Country</th>\n",
       "      <th>Region</th>\n",
       "      <th>Happiness Rank</th>\n",
       "      <th>Happiness Score</th>\n",
       "      <th>Standard Error</th>\n",
       "      <th>Economy (GDP per Capita)</th>\n",
       "      <th>Family</th>\n",
       "      <th>Health (Life Expectancy)</th>\n",
       "      <th>Freedom</th>\n",
       "      <th>Trust (Government Corruption)</th>\n",
       "      <th>Generosity</th>\n",
       "      <th>Dystopia Residual</th>\n",
       "    </tr>\n",
       "  </thead>\n",
       "  <tbody>\n",
       "    <tr>\n",
       "      <th>0</th>\n",
       "      <td>Switzerland</td>\n",
       "      <td>Western Europe</td>\n",
       "      <td>1</td>\n",
       "      <td>7.587</td>\n",
       "      <td>0.03411</td>\n",
       "      <td>1.39651</td>\n",
       "      <td>1.34951</td>\n",
       "      <td>0.94143</td>\n",
       "      <td>0.66557</td>\n",
       "      <td>0.41978</td>\n",
       "      <td>0.29678</td>\n",
       "      <td>2.51738</td>\n",
       "    </tr>\n",
       "    <tr>\n",
       "      <th>1</th>\n",
       "      <td>Iceland</td>\n",
       "      <td>Western Europe</td>\n",
       "      <td>2</td>\n",
       "      <td>7.561</td>\n",
       "      <td>0.04884</td>\n",
       "      <td>1.30232</td>\n",
       "      <td>1.40223</td>\n",
       "      <td>0.94784</td>\n",
       "      <td>0.62877</td>\n",
       "      <td>0.14145</td>\n",
       "      <td>0.43630</td>\n",
       "      <td>2.70201</td>\n",
       "    </tr>\n",
       "    <tr>\n",
       "      <th>2</th>\n",
       "      <td>Denmark</td>\n",
       "      <td>Western Europe</td>\n",
       "      <td>3</td>\n",
       "      <td>7.527</td>\n",
       "      <td>0.03328</td>\n",
       "      <td>1.32548</td>\n",
       "      <td>1.36058</td>\n",
       "      <td>0.87464</td>\n",
       "      <td>0.64938</td>\n",
       "      <td>0.48357</td>\n",
       "      <td>0.34139</td>\n",
       "      <td>2.49204</td>\n",
       "    </tr>\n",
       "    <tr>\n",
       "      <th>3</th>\n",
       "      <td>Norway</td>\n",
       "      <td>Western Europe</td>\n",
       "      <td>4</td>\n",
       "      <td>7.522</td>\n",
       "      <td>0.03880</td>\n",
       "      <td>1.45900</td>\n",
       "      <td>1.33095</td>\n",
       "      <td>0.88521</td>\n",
       "      <td>0.66973</td>\n",
       "      <td>0.36503</td>\n",
       "      <td>0.34699</td>\n",
       "      <td>2.46531</td>\n",
       "    </tr>\n",
       "    <tr>\n",
       "      <th>4</th>\n",
       "      <td>Canada</td>\n",
       "      <td>North America</td>\n",
       "      <td>5</td>\n",
       "      <td>7.427</td>\n",
       "      <td>0.03553</td>\n",
       "      <td>1.32629</td>\n",
       "      <td>1.32261</td>\n",
       "      <td>0.90563</td>\n",
       "      <td>0.63297</td>\n",
       "      <td>0.32957</td>\n",
       "      <td>0.45811</td>\n",
       "      <td>2.45176</td>\n",
       "    </tr>\n",
       "    <tr>\n",
       "      <th>5</th>\n",
       "      <td>Finland</td>\n",
       "      <td>Western Europe</td>\n",
       "      <td>6</td>\n",
       "      <td>7.406</td>\n",
       "      <td>0.03140</td>\n",
       "      <td>1.29025</td>\n",
       "      <td>1.31826</td>\n",
       "      <td>0.88911</td>\n",
       "      <td>0.64169</td>\n",
       "      <td>0.41372</td>\n",
       "      <td>0.23351</td>\n",
       "      <td>2.61955</td>\n",
       "    </tr>\n",
       "    <tr>\n",
       "      <th>6</th>\n",
       "      <td>Netherlands</td>\n",
       "      <td>Western Europe</td>\n",
       "      <td>7</td>\n",
       "      <td>7.378</td>\n",
       "      <td>0.02799</td>\n",
       "      <td>1.32944</td>\n",
       "      <td>1.28017</td>\n",
       "      <td>0.89284</td>\n",
       "      <td>0.61576</td>\n",
       "      <td>0.31814</td>\n",
       "      <td>0.47610</td>\n",
       "      <td>2.46570</td>\n",
       "    </tr>\n",
       "    <tr>\n",
       "      <th>7</th>\n",
       "      <td>Sweden</td>\n",
       "      <td>Western Europe</td>\n",
       "      <td>8</td>\n",
       "      <td>7.364</td>\n",
       "      <td>0.03157</td>\n",
       "      <td>1.33171</td>\n",
       "      <td>1.28907</td>\n",
       "      <td>0.91087</td>\n",
       "      <td>0.65980</td>\n",
       "      <td>0.43844</td>\n",
       "      <td>0.36262</td>\n",
       "      <td>2.37119</td>\n",
       "    </tr>\n",
       "    <tr>\n",
       "      <th>8</th>\n",
       "      <td>New Zealand</td>\n",
       "      <td>Australia and New Zealand</td>\n",
       "      <td>9</td>\n",
       "      <td>7.286</td>\n",
       "      <td>0.03371</td>\n",
       "      <td>1.25018</td>\n",
       "      <td>1.31967</td>\n",
       "      <td>0.90837</td>\n",
       "      <td>0.63938</td>\n",
       "      <td>0.42922</td>\n",
       "      <td>0.47501</td>\n",
       "      <td>2.26425</td>\n",
       "    </tr>\n",
       "    <tr>\n",
       "      <th>9</th>\n",
       "      <td>Australia</td>\n",
       "      <td>Australia and New Zealand</td>\n",
       "      <td>10</td>\n",
       "      <td>7.284</td>\n",
       "      <td>0.04083</td>\n",
       "      <td>1.33358</td>\n",
       "      <td>1.30923</td>\n",
       "      <td>0.93156</td>\n",
       "      <td>0.65124</td>\n",
       "      <td>0.35637</td>\n",
       "      <td>0.43562</td>\n",
       "      <td>2.26646</td>\n",
       "    </tr>\n",
       "  </tbody>\n",
       "</table>\n",
       "</div>"
      ],
      "text/plain": [
       "       Country                     Region  Happiness Rank  Happiness Score  \\\n",
       "0  Switzerland             Western Europe               1            7.587   \n",
       "1      Iceland             Western Europe               2            7.561   \n",
       "2      Denmark             Western Europe               3            7.527   \n",
       "3       Norway             Western Europe               4            7.522   \n",
       "4       Canada              North America               5            7.427   \n",
       "5      Finland             Western Europe               6            7.406   \n",
       "6  Netherlands             Western Europe               7            7.378   \n",
       "7       Sweden             Western Europe               8            7.364   \n",
       "8  New Zealand  Australia and New Zealand               9            7.286   \n",
       "9    Australia  Australia and New Zealand              10            7.284   \n",
       "\n",
       "   Standard Error  Economy (GDP per Capita)   Family  \\\n",
       "0         0.03411                   1.39651  1.34951   \n",
       "1         0.04884                   1.30232  1.40223   \n",
       "2         0.03328                   1.32548  1.36058   \n",
       "3         0.03880                   1.45900  1.33095   \n",
       "4         0.03553                   1.32629  1.32261   \n",
       "5         0.03140                   1.29025  1.31826   \n",
       "6         0.02799                   1.32944  1.28017   \n",
       "7         0.03157                   1.33171  1.28907   \n",
       "8         0.03371                   1.25018  1.31967   \n",
       "9         0.04083                   1.33358  1.30923   \n",
       "\n",
       "   Health (Life Expectancy)  Freedom  Trust (Government Corruption)  \\\n",
       "0                   0.94143  0.66557                        0.41978   \n",
       "1                   0.94784  0.62877                        0.14145   \n",
       "2                   0.87464  0.64938                        0.48357   \n",
       "3                   0.88521  0.66973                        0.36503   \n",
       "4                   0.90563  0.63297                        0.32957   \n",
       "5                   0.88911  0.64169                        0.41372   \n",
       "6                   0.89284  0.61576                        0.31814   \n",
       "7                   0.91087  0.65980                        0.43844   \n",
       "8                   0.90837  0.63938                        0.42922   \n",
       "9                   0.93156  0.65124                        0.35637   \n",
       "\n",
       "   Generosity  Dystopia Residual  \n",
       "0     0.29678            2.51738  \n",
       "1     0.43630            2.70201  \n",
       "2     0.34139            2.49204  \n",
       "3     0.34699            2.46531  \n",
       "4     0.45811            2.45176  \n",
       "5     0.23351            2.61955  \n",
       "6     0.47610            2.46570  \n",
       "7     0.36262            2.37119  \n",
       "8     0.47501            2.26425  \n",
       "9     0.43562            2.26646  "
      ]
     },
     "execution_count": 1363,
     "metadata": {},
     "output_type": "execute_result"
    }
   ],
   "source": [
    "hpy.head(10)"
   ]
  },
  {
   "cell_type": "code",
   "execution_count": 1364,
   "metadata": {},
   "outputs": [
    {
     "data": {
      "text/plain": [
       "(158, 12)"
      ]
     },
     "execution_count": 1364,
     "metadata": {},
     "output_type": "execute_result"
    }
   ],
   "source": [
    "hpy.shape"
   ]
  },
  {
   "cell_type": "code",
   "execution_count": 1365,
   "metadata": {},
   "outputs": [
    {
     "name": "stdout",
     "output_type": "stream",
     "text": [
      "There are 158 rows and 12 columns in our data\n"
     ]
    }
   ],
   "source": [
    "print(\"There are {:,} rows \".format(hpy.shape[0]) + \"and {} columns in our data\".format(hpy.shape[1]))"
   ]
  },
  {
   "cell_type": "code",
   "execution_count": 1366,
   "metadata": {},
   "outputs": [],
   "source": [
    "hpy.set_index('Country', inplace=True)"
   ]
  },
  {
   "cell_type": "code",
   "execution_count": 1367,
   "metadata": {},
   "outputs": [
    {
     "name": "stdout",
     "output_type": "stream",
     "text": [
      "<class 'pandas.core.frame.DataFrame'>\n",
      "Index: 158 entries, Switzerland to Togo\n",
      "Data columns (total 11 columns):\n",
      " #   Column                         Non-Null Count  Dtype  \n",
      "---  ------                         --------------  -----  \n",
      " 0   Region                         158 non-null    object \n",
      " 1   Happiness Rank                 158 non-null    int64  \n",
      " 2   Happiness Score                158 non-null    float64\n",
      " 3   Standard Error                 158 non-null    float64\n",
      " 4   Economy (GDP per Capita)       158 non-null    float64\n",
      " 5   Family                         158 non-null    float64\n",
      " 6   Health (Life Expectancy)       158 non-null    float64\n",
      " 7   Freedom                        158 non-null    float64\n",
      " 8   Trust (Government Corruption)  158 non-null    float64\n",
      " 9   Generosity                     158 non-null    float64\n",
      " 10  Dystopia Residual              158 non-null    float64\n",
      "dtypes: float64(9), int64(1), object(1)\n",
      "memory usage: 14.8+ KB\n"
     ]
    }
   ],
   "source": [
    "hpy.info()"
   ]
  },
  {
   "cell_type": "code",
   "execution_count": 1368,
   "metadata": {},
   "outputs": [
    {
     "data": {
      "text/plain": [
       "Region                           0\n",
       "Happiness Rank                   0\n",
       "Happiness Score                  0\n",
       "Standard Error                   0\n",
       "Economy (GDP per Capita)         0\n",
       "Family                           0\n",
       "Health (Life Expectancy)         0\n",
       "Freedom                          0\n",
       "Trust (Government Corruption)    0\n",
       "Generosity                       0\n",
       "Dystopia Residual                0\n",
       "dtype: int64"
      ]
     },
     "execution_count": 1368,
     "metadata": {},
     "output_type": "execute_result"
    }
   ],
   "source": [
    "hpy.isnull().sum()"
   ]
  },
  {
   "cell_type": "markdown",
   "metadata": {},
   "source": [
    "There are no NULL Values"
   ]
  },
  {
   "cell_type": "code",
   "execution_count": 1369,
   "metadata": {},
   "outputs": [
    {
     "data": {
      "text/plain": [
       "0"
      ]
     },
     "execution_count": 1369,
     "metadata": {},
     "output_type": "execute_result"
    }
   ],
   "source": [
    "hpy.duplicated().sum()"
   ]
  },
  {
   "cell_type": "markdown",
   "metadata": {},
   "source": [
    "There are no Duplicated values"
   ]
  },
  {
   "cell_type": "code",
   "execution_count": 1370,
   "metadata": {},
   "outputs": [
    {
     "data": {
      "text/html": [
       "<div>\n",
       "<style scoped>\n",
       "    .dataframe tbody tr th:only-of-type {\n",
       "        vertical-align: middle;\n",
       "    }\n",
       "\n",
       "    .dataframe tbody tr th {\n",
       "        vertical-align: top;\n",
       "    }\n",
       "\n",
       "    .dataframe thead th {\n",
       "        text-align: right;\n",
       "    }\n",
       "</style>\n",
       "<table border=\"1\" class=\"dataframe\">\n",
       "  <thead>\n",
       "    <tr style=\"text-align: right;\">\n",
       "      <th></th>\n",
       "      <th>Happiness Rank</th>\n",
       "      <th>Happiness Score</th>\n",
       "      <th>Standard Error</th>\n",
       "      <th>Economy (GDP per Capita)</th>\n",
       "      <th>Family</th>\n",
       "      <th>Health (Life Expectancy)</th>\n",
       "      <th>Freedom</th>\n",
       "      <th>Trust (Government Corruption)</th>\n",
       "      <th>Generosity</th>\n",
       "      <th>Dystopia Residual</th>\n",
       "    </tr>\n",
       "  </thead>\n",
       "  <tbody>\n",
       "    <tr>\n",
       "      <th>count</th>\n",
       "      <td>158.000000</td>\n",
       "      <td>158.000000</td>\n",
       "      <td>158.000000</td>\n",
       "      <td>158.000000</td>\n",
       "      <td>158.000000</td>\n",
       "      <td>158.000000</td>\n",
       "      <td>158.000000</td>\n",
       "      <td>158.000000</td>\n",
       "      <td>158.000000</td>\n",
       "      <td>158.000000</td>\n",
       "    </tr>\n",
       "    <tr>\n",
       "      <th>mean</th>\n",
       "      <td>79.493671</td>\n",
       "      <td>5.375734</td>\n",
       "      <td>0.047885</td>\n",
       "      <td>0.846137</td>\n",
       "      <td>0.991046</td>\n",
       "      <td>0.630259</td>\n",
       "      <td>0.428615</td>\n",
       "      <td>0.143422</td>\n",
       "      <td>0.237296</td>\n",
       "      <td>2.098977</td>\n",
       "    </tr>\n",
       "    <tr>\n",
       "      <th>std</th>\n",
       "      <td>45.754363</td>\n",
       "      <td>1.145010</td>\n",
       "      <td>0.017146</td>\n",
       "      <td>0.403121</td>\n",
       "      <td>0.272369</td>\n",
       "      <td>0.247078</td>\n",
       "      <td>0.150693</td>\n",
       "      <td>0.120034</td>\n",
       "      <td>0.126685</td>\n",
       "      <td>0.553550</td>\n",
       "    </tr>\n",
       "    <tr>\n",
       "      <th>min</th>\n",
       "      <td>1.000000</td>\n",
       "      <td>2.839000</td>\n",
       "      <td>0.018480</td>\n",
       "      <td>0.000000</td>\n",
       "      <td>0.000000</td>\n",
       "      <td>0.000000</td>\n",
       "      <td>0.000000</td>\n",
       "      <td>0.000000</td>\n",
       "      <td>0.000000</td>\n",
       "      <td>0.328580</td>\n",
       "    </tr>\n",
       "    <tr>\n",
       "      <th>25%</th>\n",
       "      <td>40.250000</td>\n",
       "      <td>4.526000</td>\n",
       "      <td>0.037268</td>\n",
       "      <td>0.545808</td>\n",
       "      <td>0.856823</td>\n",
       "      <td>0.439185</td>\n",
       "      <td>0.328330</td>\n",
       "      <td>0.061675</td>\n",
       "      <td>0.150553</td>\n",
       "      <td>1.759410</td>\n",
       "    </tr>\n",
       "    <tr>\n",
       "      <th>50%</th>\n",
       "      <td>79.500000</td>\n",
       "      <td>5.232500</td>\n",
       "      <td>0.043940</td>\n",
       "      <td>0.910245</td>\n",
       "      <td>1.029510</td>\n",
       "      <td>0.696705</td>\n",
       "      <td>0.435515</td>\n",
       "      <td>0.107220</td>\n",
       "      <td>0.216130</td>\n",
       "      <td>2.095415</td>\n",
       "    </tr>\n",
       "    <tr>\n",
       "      <th>75%</th>\n",
       "      <td>118.750000</td>\n",
       "      <td>6.243750</td>\n",
       "      <td>0.052300</td>\n",
       "      <td>1.158448</td>\n",
       "      <td>1.214405</td>\n",
       "      <td>0.811013</td>\n",
       "      <td>0.549092</td>\n",
       "      <td>0.180255</td>\n",
       "      <td>0.309883</td>\n",
       "      <td>2.462415</td>\n",
       "    </tr>\n",
       "    <tr>\n",
       "      <th>max</th>\n",
       "      <td>158.000000</td>\n",
       "      <td>7.587000</td>\n",
       "      <td>0.136930</td>\n",
       "      <td>1.690420</td>\n",
       "      <td>1.402230</td>\n",
       "      <td>1.025250</td>\n",
       "      <td>0.669730</td>\n",
       "      <td>0.551910</td>\n",
       "      <td>0.795880</td>\n",
       "      <td>3.602140</td>\n",
       "    </tr>\n",
       "  </tbody>\n",
       "</table>\n",
       "</div>"
      ],
      "text/plain": [
       "       Happiness Rank  Happiness Score  Standard Error  \\\n",
       "count      158.000000       158.000000      158.000000   \n",
       "mean        79.493671         5.375734        0.047885   \n",
       "std         45.754363         1.145010        0.017146   \n",
       "min          1.000000         2.839000        0.018480   \n",
       "25%         40.250000         4.526000        0.037268   \n",
       "50%         79.500000         5.232500        0.043940   \n",
       "75%        118.750000         6.243750        0.052300   \n",
       "max        158.000000         7.587000        0.136930   \n",
       "\n",
       "       Economy (GDP per Capita)      Family  Health (Life Expectancy)  \\\n",
       "count                158.000000  158.000000                158.000000   \n",
       "mean                   0.846137    0.991046                  0.630259   \n",
       "std                    0.403121    0.272369                  0.247078   \n",
       "min                    0.000000    0.000000                  0.000000   \n",
       "25%                    0.545808    0.856823                  0.439185   \n",
       "50%                    0.910245    1.029510                  0.696705   \n",
       "75%                    1.158448    1.214405                  0.811013   \n",
       "max                    1.690420    1.402230                  1.025250   \n",
       "\n",
       "          Freedom  Trust (Government Corruption)  Generosity  \\\n",
       "count  158.000000                     158.000000  158.000000   \n",
       "mean     0.428615                       0.143422    0.237296   \n",
       "std      0.150693                       0.120034    0.126685   \n",
       "min      0.000000                       0.000000    0.000000   \n",
       "25%      0.328330                       0.061675    0.150553   \n",
       "50%      0.435515                       0.107220    0.216130   \n",
       "75%      0.549092                       0.180255    0.309883   \n",
       "max      0.669730                       0.551910    0.795880   \n",
       "\n",
       "       Dystopia Residual  \n",
       "count         158.000000  \n",
       "mean            2.098977  \n",
       "std             0.553550  \n",
       "min             0.328580  \n",
       "25%             1.759410  \n",
       "50%             2.095415  \n",
       "75%             2.462415  \n",
       "max             3.602140  "
      ]
     },
     "execution_count": 1370,
     "metadata": {},
     "output_type": "execute_result"
    }
   ],
   "source": [
    "hpy.describe()"
   ]
  },
  {
   "cell_type": "code",
   "execution_count": 1371,
   "metadata": {},
   "outputs": [
    {
     "data": {
      "text/html": [
       "<div>\n",
       "<style scoped>\n",
       "    .dataframe tbody tr th:only-of-type {\n",
       "        vertical-align: middle;\n",
       "    }\n",
       "\n",
       "    .dataframe tbody tr th {\n",
       "        vertical-align: top;\n",
       "    }\n",
       "\n",
       "    .dataframe thead th {\n",
       "        text-align: right;\n",
       "    }\n",
       "</style>\n",
       "<table border=\"1\" class=\"dataframe\">\n",
       "  <thead>\n",
       "    <tr style=\"text-align: right;\">\n",
       "      <th></th>\n",
       "      <th>Region</th>\n",
       "      <th>Happiness Rank</th>\n",
       "      <th>Happiness Score</th>\n",
       "      <th>Standard Error</th>\n",
       "      <th>Economy (GDP per Capita)</th>\n",
       "      <th>Family</th>\n",
       "      <th>Health (Life Expectancy)</th>\n",
       "      <th>Freedom</th>\n",
       "      <th>Trust (Government Corruption)</th>\n",
       "      <th>Generosity</th>\n",
       "      <th>Dystopia Residual</th>\n",
       "    </tr>\n",
       "    <tr>\n",
       "      <th>Country</th>\n",
       "      <th></th>\n",
       "      <th></th>\n",
       "      <th></th>\n",
       "      <th></th>\n",
       "      <th></th>\n",
       "      <th></th>\n",
       "      <th></th>\n",
       "      <th></th>\n",
       "      <th></th>\n",
       "      <th></th>\n",
       "      <th></th>\n",
       "    </tr>\n",
       "  </thead>\n",
       "  <tbody>\n",
       "    <tr>\n",
       "      <th>Switzerland</th>\n",
       "      <td>Western Europe</td>\n",
       "      <td>1</td>\n",
       "      <td>7.587</td>\n",
       "      <td>0.03411</td>\n",
       "      <td>1.39651</td>\n",
       "      <td>1.34951</td>\n",
       "      <td>0.94143</td>\n",
       "      <td>0.66557</td>\n",
       "      <td>0.41978</td>\n",
       "      <td>0.29678</td>\n",
       "      <td>2.51738</td>\n",
       "    </tr>\n",
       "    <tr>\n",
       "      <th>Iceland</th>\n",
       "      <td>Western Europe</td>\n",
       "      <td>2</td>\n",
       "      <td>7.561</td>\n",
       "      <td>0.04884</td>\n",
       "      <td>1.30232</td>\n",
       "      <td>1.40223</td>\n",
       "      <td>0.94784</td>\n",
       "      <td>0.62877</td>\n",
       "      <td>0.14145</td>\n",
       "      <td>0.43630</td>\n",
       "      <td>2.70201</td>\n",
       "    </tr>\n",
       "    <tr>\n",
       "      <th>Denmark</th>\n",
       "      <td>Western Europe</td>\n",
       "      <td>3</td>\n",
       "      <td>7.527</td>\n",
       "      <td>0.03328</td>\n",
       "      <td>1.32548</td>\n",
       "      <td>1.36058</td>\n",
       "      <td>0.87464</td>\n",
       "      <td>0.64938</td>\n",
       "      <td>0.48357</td>\n",
       "      <td>0.34139</td>\n",
       "      <td>2.49204</td>\n",
       "    </tr>\n",
       "    <tr>\n",
       "      <th>Norway</th>\n",
       "      <td>Western Europe</td>\n",
       "      <td>4</td>\n",
       "      <td>7.522</td>\n",
       "      <td>0.03880</td>\n",
       "      <td>1.45900</td>\n",
       "      <td>1.33095</td>\n",
       "      <td>0.88521</td>\n",
       "      <td>0.66973</td>\n",
       "      <td>0.36503</td>\n",
       "      <td>0.34699</td>\n",
       "      <td>2.46531</td>\n",
       "    </tr>\n",
       "    <tr>\n",
       "      <th>Canada</th>\n",
       "      <td>North America</td>\n",
       "      <td>5</td>\n",
       "      <td>7.427</td>\n",
       "      <td>0.03553</td>\n",
       "      <td>1.32629</td>\n",
       "      <td>1.32261</td>\n",
       "      <td>0.90563</td>\n",
       "      <td>0.63297</td>\n",
       "      <td>0.32957</td>\n",
       "      <td>0.45811</td>\n",
       "      <td>2.45176</td>\n",
       "    </tr>\n",
       "    <tr>\n",
       "      <th>Finland</th>\n",
       "      <td>Western Europe</td>\n",
       "      <td>6</td>\n",
       "      <td>7.406</td>\n",
       "      <td>0.03140</td>\n",
       "      <td>1.29025</td>\n",
       "      <td>1.31826</td>\n",
       "      <td>0.88911</td>\n",
       "      <td>0.64169</td>\n",
       "      <td>0.41372</td>\n",
       "      <td>0.23351</td>\n",
       "      <td>2.61955</td>\n",
       "    </tr>\n",
       "    <tr>\n",
       "      <th>Netherlands</th>\n",
       "      <td>Western Europe</td>\n",
       "      <td>7</td>\n",
       "      <td>7.378</td>\n",
       "      <td>0.02799</td>\n",
       "      <td>1.32944</td>\n",
       "      <td>1.28017</td>\n",
       "      <td>0.89284</td>\n",
       "      <td>0.61576</td>\n",
       "      <td>0.31814</td>\n",
       "      <td>0.47610</td>\n",
       "      <td>2.46570</td>\n",
       "    </tr>\n",
       "    <tr>\n",
       "      <th>Sweden</th>\n",
       "      <td>Western Europe</td>\n",
       "      <td>8</td>\n",
       "      <td>7.364</td>\n",
       "      <td>0.03157</td>\n",
       "      <td>1.33171</td>\n",
       "      <td>1.28907</td>\n",
       "      <td>0.91087</td>\n",
       "      <td>0.65980</td>\n",
       "      <td>0.43844</td>\n",
       "      <td>0.36262</td>\n",
       "      <td>2.37119</td>\n",
       "    </tr>\n",
       "    <tr>\n",
       "      <th>New Zealand</th>\n",
       "      <td>Australia and New Zealand</td>\n",
       "      <td>9</td>\n",
       "      <td>7.286</td>\n",
       "      <td>0.03371</td>\n",
       "      <td>1.25018</td>\n",
       "      <td>1.31967</td>\n",
       "      <td>0.90837</td>\n",
       "      <td>0.63938</td>\n",
       "      <td>0.42922</td>\n",
       "      <td>0.47501</td>\n",
       "      <td>2.26425</td>\n",
       "    </tr>\n",
       "    <tr>\n",
       "      <th>Australia</th>\n",
       "      <td>Australia and New Zealand</td>\n",
       "      <td>10</td>\n",
       "      <td>7.284</td>\n",
       "      <td>0.04083</td>\n",
       "      <td>1.33358</td>\n",
       "      <td>1.30923</td>\n",
       "      <td>0.93156</td>\n",
       "      <td>0.65124</td>\n",
       "      <td>0.35637</td>\n",
       "      <td>0.43562</td>\n",
       "      <td>2.26646</td>\n",
       "    </tr>\n",
       "  </tbody>\n",
       "</table>\n",
       "</div>"
      ],
      "text/plain": [
       "                                Region  Happiness Rank  Happiness Score  \\\n",
       "Country                                                                   \n",
       "Switzerland             Western Europe               1            7.587   \n",
       "Iceland                 Western Europe               2            7.561   \n",
       "Denmark                 Western Europe               3            7.527   \n",
       "Norway                  Western Europe               4            7.522   \n",
       "Canada                   North America               5            7.427   \n",
       "Finland                 Western Europe               6            7.406   \n",
       "Netherlands             Western Europe               7            7.378   \n",
       "Sweden                  Western Europe               8            7.364   \n",
       "New Zealand  Australia and New Zealand               9            7.286   \n",
       "Australia    Australia and New Zealand              10            7.284   \n",
       "\n",
       "             Standard Error  Economy (GDP per Capita)   Family  \\\n",
       "Country                                                          \n",
       "Switzerland         0.03411                   1.39651  1.34951   \n",
       "Iceland             0.04884                   1.30232  1.40223   \n",
       "Denmark             0.03328                   1.32548  1.36058   \n",
       "Norway              0.03880                   1.45900  1.33095   \n",
       "Canada              0.03553                   1.32629  1.32261   \n",
       "Finland             0.03140                   1.29025  1.31826   \n",
       "Netherlands         0.02799                   1.32944  1.28017   \n",
       "Sweden              0.03157                   1.33171  1.28907   \n",
       "New Zealand         0.03371                   1.25018  1.31967   \n",
       "Australia           0.04083                   1.33358  1.30923   \n",
       "\n",
       "             Health (Life Expectancy)  Freedom  Trust (Government Corruption)  \\\n",
       "Country                                                                         \n",
       "Switzerland                   0.94143  0.66557                        0.41978   \n",
       "Iceland                       0.94784  0.62877                        0.14145   \n",
       "Denmark                       0.87464  0.64938                        0.48357   \n",
       "Norway                        0.88521  0.66973                        0.36503   \n",
       "Canada                        0.90563  0.63297                        0.32957   \n",
       "Finland                       0.88911  0.64169                        0.41372   \n",
       "Netherlands                   0.89284  0.61576                        0.31814   \n",
       "Sweden                        0.91087  0.65980                        0.43844   \n",
       "New Zealand                   0.90837  0.63938                        0.42922   \n",
       "Australia                     0.93156  0.65124                        0.35637   \n",
       "\n",
       "             Generosity  Dystopia Residual  \n",
       "Country                                     \n",
       "Switzerland     0.29678            2.51738  \n",
       "Iceland         0.43630            2.70201  \n",
       "Denmark         0.34139            2.49204  \n",
       "Norway          0.34699            2.46531  \n",
       "Canada          0.45811            2.45176  \n",
       "Finland         0.23351            2.61955  \n",
       "Netherlands     0.47610            2.46570  \n",
       "Sweden          0.36262            2.37119  \n",
       "New Zealand     0.47501            2.26425  \n",
       "Australia       0.43562            2.26646  "
      ]
     },
     "execution_count": 1371,
     "metadata": {},
     "output_type": "execute_result"
    }
   ],
   "source": [
    "hpy.sort_values(by=\"Happiness Rank\", ascending=True).head(10)"
   ]
  },
  {
   "cell_type": "code",
   "execution_count": 1372,
   "metadata": {},
   "outputs": [
    {
     "data": {
      "text/html": [
       "<div>\n",
       "<style scoped>\n",
       "    .dataframe tbody tr th:only-of-type {\n",
       "        vertical-align: middle;\n",
       "    }\n",
       "\n",
       "    .dataframe tbody tr th {\n",
       "        vertical-align: top;\n",
       "    }\n",
       "\n",
       "    .dataframe thead th {\n",
       "        text-align: right;\n",
       "    }\n",
       "</style>\n",
       "<table border=\"1\" class=\"dataframe\">\n",
       "  <thead>\n",
       "    <tr style=\"text-align: right;\">\n",
       "      <th></th>\n",
       "      <th>Region</th>\n",
       "      <th>Happiness Rank</th>\n",
       "      <th>Happiness Score</th>\n",
       "      <th>Standard Error</th>\n",
       "      <th>Economy (GDP per Capita)</th>\n",
       "      <th>Family</th>\n",
       "      <th>Health (Life Expectancy)</th>\n",
       "      <th>Freedom</th>\n",
       "      <th>Trust (Government Corruption)</th>\n",
       "      <th>Generosity</th>\n",
       "      <th>Dystopia Residual</th>\n",
       "    </tr>\n",
       "    <tr>\n",
       "      <th>Country</th>\n",
       "      <th></th>\n",
       "      <th></th>\n",
       "      <th></th>\n",
       "      <th></th>\n",
       "      <th></th>\n",
       "      <th></th>\n",
       "      <th></th>\n",
       "      <th></th>\n",
       "      <th></th>\n",
       "      <th></th>\n",
       "      <th></th>\n",
       "    </tr>\n",
       "  </thead>\n",
       "  <tbody>\n",
       "    <tr>\n",
       "      <th>Togo</th>\n",
       "      <td>Sub-Saharan Africa</td>\n",
       "      <td>158</td>\n",
       "      <td>2.839</td>\n",
       "      <td>0.06727</td>\n",
       "      <td>0.20868</td>\n",
       "      <td>0.13995</td>\n",
       "      <td>0.28443</td>\n",
       "      <td>0.36453</td>\n",
       "      <td>0.10731</td>\n",
       "      <td>0.16681</td>\n",
       "      <td>1.56726</td>\n",
       "    </tr>\n",
       "    <tr>\n",
       "      <th>Burundi</th>\n",
       "      <td>Sub-Saharan Africa</td>\n",
       "      <td>157</td>\n",
       "      <td>2.905</td>\n",
       "      <td>0.08658</td>\n",
       "      <td>0.01530</td>\n",
       "      <td>0.41587</td>\n",
       "      <td>0.22396</td>\n",
       "      <td>0.11850</td>\n",
       "      <td>0.10062</td>\n",
       "      <td>0.19727</td>\n",
       "      <td>1.83302</td>\n",
       "    </tr>\n",
       "    <tr>\n",
       "      <th>Syria</th>\n",
       "      <td>Middle East and Northern Africa</td>\n",
       "      <td>156</td>\n",
       "      <td>3.006</td>\n",
       "      <td>0.05015</td>\n",
       "      <td>0.66320</td>\n",
       "      <td>0.47489</td>\n",
       "      <td>0.72193</td>\n",
       "      <td>0.15684</td>\n",
       "      <td>0.18906</td>\n",
       "      <td>0.47179</td>\n",
       "      <td>0.32858</td>\n",
       "    </tr>\n",
       "    <tr>\n",
       "      <th>Benin</th>\n",
       "      <td>Sub-Saharan Africa</td>\n",
       "      <td>155</td>\n",
       "      <td>3.340</td>\n",
       "      <td>0.03656</td>\n",
       "      <td>0.28665</td>\n",
       "      <td>0.35386</td>\n",
       "      <td>0.31910</td>\n",
       "      <td>0.48450</td>\n",
       "      <td>0.08010</td>\n",
       "      <td>0.18260</td>\n",
       "      <td>1.63328</td>\n",
       "    </tr>\n",
       "    <tr>\n",
       "      <th>Rwanda</th>\n",
       "      <td>Sub-Saharan Africa</td>\n",
       "      <td>154</td>\n",
       "      <td>3.465</td>\n",
       "      <td>0.03464</td>\n",
       "      <td>0.22208</td>\n",
       "      <td>0.77370</td>\n",
       "      <td>0.42864</td>\n",
       "      <td>0.59201</td>\n",
       "      <td>0.55191</td>\n",
       "      <td>0.22628</td>\n",
       "      <td>0.67042</td>\n",
       "    </tr>\n",
       "    <tr>\n",
       "      <th>Afghanistan</th>\n",
       "      <td>Southern Asia</td>\n",
       "      <td>153</td>\n",
       "      <td>3.575</td>\n",
       "      <td>0.03084</td>\n",
       "      <td>0.31982</td>\n",
       "      <td>0.30285</td>\n",
       "      <td>0.30335</td>\n",
       "      <td>0.23414</td>\n",
       "      <td>0.09719</td>\n",
       "      <td>0.36510</td>\n",
       "      <td>1.95210</td>\n",
       "    </tr>\n",
       "    <tr>\n",
       "      <th>Burkina Faso</th>\n",
       "      <td>Sub-Saharan Africa</td>\n",
       "      <td>152</td>\n",
       "      <td>3.587</td>\n",
       "      <td>0.04324</td>\n",
       "      <td>0.25812</td>\n",
       "      <td>0.85188</td>\n",
       "      <td>0.27125</td>\n",
       "      <td>0.39493</td>\n",
       "      <td>0.12832</td>\n",
       "      <td>0.21747</td>\n",
       "      <td>1.46494</td>\n",
       "    </tr>\n",
       "    <tr>\n",
       "      <th>Ivory Coast</th>\n",
       "      <td>Sub-Saharan Africa</td>\n",
       "      <td>151</td>\n",
       "      <td>3.655</td>\n",
       "      <td>0.05141</td>\n",
       "      <td>0.46534</td>\n",
       "      <td>0.77115</td>\n",
       "      <td>0.15185</td>\n",
       "      <td>0.46866</td>\n",
       "      <td>0.17922</td>\n",
       "      <td>0.20165</td>\n",
       "      <td>1.41723</td>\n",
       "    </tr>\n",
       "    <tr>\n",
       "      <th>Guinea</th>\n",
       "      <td>Sub-Saharan Africa</td>\n",
       "      <td>150</td>\n",
       "      <td>3.656</td>\n",
       "      <td>0.03590</td>\n",
       "      <td>0.17417</td>\n",
       "      <td>0.46475</td>\n",
       "      <td>0.24009</td>\n",
       "      <td>0.37725</td>\n",
       "      <td>0.12139</td>\n",
       "      <td>0.28657</td>\n",
       "      <td>1.99172</td>\n",
       "    </tr>\n",
       "    <tr>\n",
       "      <th>Chad</th>\n",
       "      <td>Sub-Saharan Africa</td>\n",
       "      <td>149</td>\n",
       "      <td>3.667</td>\n",
       "      <td>0.03830</td>\n",
       "      <td>0.34193</td>\n",
       "      <td>0.76062</td>\n",
       "      <td>0.15010</td>\n",
       "      <td>0.23501</td>\n",
       "      <td>0.05269</td>\n",
       "      <td>0.18386</td>\n",
       "      <td>1.94296</td>\n",
       "    </tr>\n",
       "  </tbody>\n",
       "</table>\n",
       "</div>"
      ],
      "text/plain": [
       "                                       Region  Happiness Rank  \\\n",
       "Country                                                         \n",
       "Togo                       Sub-Saharan Africa             158   \n",
       "Burundi                    Sub-Saharan Africa             157   \n",
       "Syria         Middle East and Northern Africa             156   \n",
       "Benin                      Sub-Saharan Africa             155   \n",
       "Rwanda                     Sub-Saharan Africa             154   \n",
       "Afghanistan                     Southern Asia             153   \n",
       "Burkina Faso               Sub-Saharan Africa             152   \n",
       "Ivory Coast                Sub-Saharan Africa             151   \n",
       "Guinea                     Sub-Saharan Africa             150   \n",
       "Chad                       Sub-Saharan Africa             149   \n",
       "\n",
       "              Happiness Score  Standard Error  Economy (GDP per Capita)  \\\n",
       "Country                                                                   \n",
       "Togo                    2.839         0.06727                   0.20868   \n",
       "Burundi                 2.905         0.08658                   0.01530   \n",
       "Syria                   3.006         0.05015                   0.66320   \n",
       "Benin                   3.340         0.03656                   0.28665   \n",
       "Rwanda                  3.465         0.03464                   0.22208   \n",
       "Afghanistan             3.575         0.03084                   0.31982   \n",
       "Burkina Faso            3.587         0.04324                   0.25812   \n",
       "Ivory Coast             3.655         0.05141                   0.46534   \n",
       "Guinea                  3.656         0.03590                   0.17417   \n",
       "Chad                    3.667         0.03830                   0.34193   \n",
       "\n",
       "               Family  Health (Life Expectancy)  Freedom  \\\n",
       "Country                                                    \n",
       "Togo          0.13995                   0.28443  0.36453   \n",
       "Burundi       0.41587                   0.22396  0.11850   \n",
       "Syria         0.47489                   0.72193  0.15684   \n",
       "Benin         0.35386                   0.31910  0.48450   \n",
       "Rwanda        0.77370                   0.42864  0.59201   \n",
       "Afghanistan   0.30285                   0.30335  0.23414   \n",
       "Burkina Faso  0.85188                   0.27125  0.39493   \n",
       "Ivory Coast   0.77115                   0.15185  0.46866   \n",
       "Guinea        0.46475                   0.24009  0.37725   \n",
       "Chad          0.76062                   0.15010  0.23501   \n",
       "\n",
       "              Trust (Government Corruption)  Generosity  Dystopia Residual  \n",
       "Country                                                                     \n",
       "Togo                                0.10731     0.16681            1.56726  \n",
       "Burundi                             0.10062     0.19727            1.83302  \n",
       "Syria                               0.18906     0.47179            0.32858  \n",
       "Benin                               0.08010     0.18260            1.63328  \n",
       "Rwanda                              0.55191     0.22628            0.67042  \n",
       "Afghanistan                         0.09719     0.36510            1.95210  \n",
       "Burkina Faso                        0.12832     0.21747            1.46494  \n",
       "Ivory Coast                         0.17922     0.20165            1.41723  \n",
       "Guinea                              0.12139     0.28657            1.99172  \n",
       "Chad                                0.05269     0.18386            1.94296  "
      ]
     },
     "execution_count": 1372,
     "metadata": {},
     "output_type": "execute_result"
    }
   ],
   "source": [
    "hpy.sort_values(by=\"Happiness Rank\", ascending=False).head(10)"
   ]
  },
  {
   "cell_type": "markdown",
   "metadata": {},
   "source": [
    "# Removing Outliers"
   ]
  },
  {
   "cell_type": "code",
   "execution_count": 1373,
   "metadata": {},
   "outputs": [],
   "source": [
    "#bos.plot?"
   ]
  },
  {
   "cell_type": "code",
   "execution_count": 1374,
   "metadata": {},
   "outputs": [
    {
     "data": {
      "text/plain": [
       "Happiness Rank                      AxesSubplot(0.125,0.536818;0.133621x0.343182)\n",
       "Happiness Score                  AxesSubplot(0.285345,0.536818;0.133621x0.343182)\n",
       "Standard Error                    AxesSubplot(0.44569,0.536818;0.133621x0.343182)\n",
       "Economy (GDP per Capita)         AxesSubplot(0.606034,0.536818;0.133621x0.343182)\n",
       "Family                           AxesSubplot(0.766379,0.536818;0.133621x0.343182)\n",
       "Health (Life Expectancy)               AxesSubplot(0.125,0.125;0.133621x0.343182)\n",
       "Freedom                             AxesSubplot(0.285345,0.125;0.133621x0.343182)\n",
       "Trust (Government Corruption)        AxesSubplot(0.44569,0.125;0.133621x0.343182)\n",
       "Generosity                          AxesSubplot(0.606034,0.125;0.133621x0.343182)\n",
       "Dystopia Residual                   AxesSubplot(0.766379,0.125;0.133621x0.343182)\n",
       "dtype: object"
      ]
     },
     "execution_count": 1374,
     "metadata": {},
     "output_type": "execute_result"
    },
    {
     "data": {
      "image/png": "[encoded data removed]",
      "text/plain": [
       "<Figure size 432x288 with 10 Axes>"
      ]
     },
     "metadata": {
      "needs_background": "light"
     },
     "output_type": "display_data"
    }
   ],
   "source": [
    "hpy.plot.box(subplots=True,layout=(2,5))"
   ]
  },
  {
   "cell_type": "markdown",
   "metadata": {},
   "source": [
    "outliers are present"
   ]
  },
  {
   "cell_type": "code",
   "execution_count": 1375,
   "metadata": {},
   "outputs": [
    {
     "data": {
      "text/plain": [
       "array([[0.80592569, 1.36962124, 1.32028142, ..., 1.57743784, 2.30965159,\n",
       "        0.47103971],\n",
       "       [0.05588945, 1.13522625, 1.51445776, ..., 1.33245589, 0.01647953,\n",
       "        1.57585637],\n",
       "       [0.8544869 , 1.19286069, 1.36105403, ..., 1.4696591 , 2.8427738 ,\n",
       "        0.8242928 ],\n",
       "       ...,\n",
       "       [0.13253425, 0.45524543, 1.90108634, ..., 1.80923785, 0.38141902,\n",
       "        1.85689094],\n",
       "       [2.26396166, 2.06756644, 2.1184666 , ..., 2.06447176, 0.35771452,\n",
       "        0.31694987],\n",
       "       [1.13418227, 1.58633379, 3.13472485, ..., 0.42662099, 0.30180313,\n",
       "        0.5581534 ]])"
      ]
     },
     "execution_count": 1375,
     "metadata": {},
     "output_type": "execute_result"
    }
   ],
   "source": [
    "from scipy.stats import zscore\n",
    "z=np.abs(zscore(hpy.iloc[:,3:-1]))\n",
    "z"
   ]
  },
  {
   "cell_type": "code",
   "execution_count": 1376,
   "metadata": {},
   "outputs": [],
   "source": [
    "hpy_new=hpy[(z<3).all(axis=1)]"
   ]
  },
  {
   "cell_type": "code",
   "execution_count": 1377,
   "metadata": {},
   "outputs": [
    {
     "data": {
      "text/plain": [
       "(158, 11)"
      ]
     },
     "execution_count": 1377,
     "metadata": {},
     "output_type": "execute_result"
    }
   ],
   "source": [
    "hpy.shape"
   ]
  },
  {
   "cell_type": "code",
   "execution_count": 1378,
   "metadata": {},
   "outputs": [
    {
     "data": {
      "text/plain": [
       "(150, 11)"
      ]
     },
     "execution_count": 1378,
     "metadata": {},
     "output_type": "execute_result"
    }
   ],
   "source": [
    "hpy_new.shape"
   ]
  },
  {
   "cell_type": "code",
   "execution_count": 1379,
   "metadata": {},
   "outputs": [],
   "source": [
    "hpy=hpy_new"
   ]
  },
  {
   "cell_type": "markdown",
   "metadata": {},
   "source": [
    "\n",
    "    outliers are removed"
   ]
  },
  {
   "cell_type": "code",
   "execution_count": null,
   "metadata": {},
   "outputs": [],
   "source": []
  },
  {
   "cell_type": "markdown",
   "metadata": {},
   "source": [
    "# Removing skewness"
   ]
  },
  {
   "cell_type": "code",
   "execution_count": 1380,
   "metadata": {},
   "outputs": [
    {
     "data": {
      "text/plain": [
       "<AxesSubplot:>"
      ]
     },
     "execution_count": 1380,
     "metadata": {},
     "output_type": "execute_result"
    },
    {
     "data": {
      "image/png": "[encoded data removed]",
      "text/plain": [
       "<Figure size 1080x504 with 2 Axes>"
      ]
     },
     "metadata": {
      "needs_background": "light"
     },
     "output_type": "display_data"
    }
   ],
   "source": [
    "\n",
    "\n",
    "plt.figure(figsize=(15,7))\n",
    "sns.heatmap(hpy.corr(),annot=True)"
   ]
  },
  {
   "cell_type": "code",
   "execution_count": 1381,
   "metadata": {},
   "outputs": [
    {
     "data": {
      "text/plain": [
       "<AxesSubplot:ylabel='Frequency'>"
      ]
     },
     "execution_count": 1381,
     "metadata": {},
     "output_type": "execute_result"
    },
    {
     "data": {
      "image/png": "[encoded data removed]",
      "text/plain": [
       "<Figure size 432x288 with 1 Axes>"
      ]
     },
     "metadata": {
      "needs_background": "light"
     },
     "output_type": "display_data"
    }
   ],
   "source": [
    "hpy['Happiness Rank'].plot.hist()"
   ]
  },
  {
   "cell_type": "code",
   "execution_count": 1382,
   "metadata": {},
   "outputs": [
    {
     "name": "stdout",
     "output_type": "stream",
     "text": [
      "0.0035285241420091153\n"
     ]
    }
   ],
   "source": [
    "\n",
    "    print(skew(hpy['Happiness Rank']))"
   ]
  },
  {
   "cell_type": "code",
   "execution_count": null,
   "metadata": {},
   "outputs": [],
   "source": []
  },
  {
   "cell_type": "code",
   "execution_count": null,
   "metadata": {},
   "outputs": [],
   "source": []
  },
  {
   "cell_type": "code",
   "execution_count": 1383,
   "metadata": {},
   "outputs": [
    {
     "data": {
      "text/plain": [
       "<AxesSubplot:ylabel='Frequency'>"
      ]
     },
     "execution_count": 1383,
     "metadata": {},
     "output_type": "execute_result"
    },
    {
     "data": {
      "image/png": "[encoded data removed]",
      "text/plain": [
       "<Figure size 432x288 with 1 Axes>"
      ]
     },
     "metadata": {
      "needs_background": "light"
     },
     "output_type": "display_data"
    }
   ],
   "source": [
    "hpy['Happiness Score'].plot.hist()"
   ]
  },
  {
   "cell_type": "code",
   "execution_count": 1384,
   "metadata": {},
   "outputs": [
    {
     "name": "stdout",
     "output_type": "stream",
     "text": [
      "0.13674021188347132\n"
     ]
    }
   ],
   "source": [
    "\n",
    "    print(skew(hpy['Happiness Score']))"
   ]
  },
  {
   "cell_type": "code",
   "execution_count": null,
   "metadata": {},
   "outputs": [],
   "source": []
  },
  {
   "cell_type": "code",
   "execution_count": null,
   "metadata": {},
   "outputs": [],
   "source": []
  },
  {
   "cell_type": "code",
   "execution_count": 1385,
   "metadata": {},
   "outputs": [
    {
     "data": {
      "text/plain": [
       "<AxesSubplot:ylabel='Frequency'>"
      ]
     },
     "execution_count": 1385,
     "metadata": {},
     "output_type": "execute_result"
    },
    {
     "data": {
      "image/png": "[encoded data removed]",
      "text/plain": [
       "<Figure size 432x288 with 1 Axes>"
      ]
     },
     "metadata": {
      "needs_background": "light"
     },
     "output_type": "display_data"
    }
   ],
   "source": [
    "hpy['Standard Error'].plot.hist()"
   ]
  },
  {
   "cell_type": "code",
   "execution_count": 1386,
   "metadata": {},
   "outputs": [
    {
     "name": "stdout",
     "output_type": "stream",
     "text": [
      "1.2282028547811943\n"
     ]
    }
   ],
   "source": [
    "print(skew(hpy['Standard Error']))"
   ]
  },
  {
   "cell_type": "code",
   "execution_count": 1387,
   "metadata": {},
   "outputs": [
    {
     "name": "stdout",
     "output_type": "stream",
     "text": [
      "-0.03237849913989999\n"
     ]
    },
    {
     "data": {
      "image/png": "[encoded data removed]",
      "text/plain": [
       "<Figure size 432x288 with 1 Axes>"
      ]
     },
     "metadata": {
      "needs_background": "light"
     },
     "output_type": "display_data"
    }
   ],
   "source": [
    "hpy['Standard Error']=power_transform(hpy[['Standard Error']], method='yeo-johnson')\n",
    "hpy['Standard Error'].plot.hist()\n",
    "print(skew(hpy['Standard Error']))"
   ]
  },
  {
   "cell_type": "code",
   "execution_count": null,
   "metadata": {},
   "outputs": [],
   "source": []
  },
  {
   "cell_type": "code",
   "execution_count": 1388,
   "metadata": {},
   "outputs": [
    {
     "data": {
      "text/plain": [
       "<AxesSubplot:ylabel='Frequency'>"
      ]
     },
     "execution_count": 1388,
     "metadata": {},
     "output_type": "execute_result"
    },
    {
     "data": {
      "image/png": "[encoded data removed]",
      "text/plain": [
       "<Figure size 432x288 with 1 Axes>"
      ]
     },
     "metadata": {
      "needs_background": "light"
     },
     "output_type": "display_data"
    }
   ],
   "source": [
    "hpy['Economy (GDP per Capita)'].plot.hist()"
   ]
  },
  {
   "cell_type": "code",
   "execution_count": 1389,
   "metadata": {},
   "outputs": [
    {
     "name": "stdout",
     "output_type": "stream",
     "text": [
      "-0.37758199842810036\n"
     ]
    }
   ],
   "source": [
    "    print(skew(hpy['Economy (GDP per Capita)']))"
   ]
  },
  {
   "cell_type": "code",
   "execution_count": 1390,
   "metadata": {},
   "outputs": [
    {
     "name": "stdout",
     "output_type": "stream",
     "text": [
      "-0.13585818231868482\n"
     ]
    },
    {
     "data": {
      "image/png": "[encoded data removed]",
      "text/plain": [
       "<Figure size 432x288 with 1 Axes>"
      ]
     },
     "metadata": {
      "needs_background": "light"
     },
     "output_type": "display_data"
    }
   ],
   "source": [
    "hpy['Economy (GDP per Capita)']=power_transform(hpy[['Economy (GDP per Capita)']], method='yeo-johnson')\n",
    "hpy['Economy (GDP per Capita)'].plot.hist()\n",
    "print(skew(hpy['Economy (GDP per Capita)']))"
   ]
  },
  {
   "cell_type": "code",
   "execution_count": null,
   "metadata": {},
   "outputs": [],
   "source": []
  },
  {
   "cell_type": "code",
   "execution_count": 1391,
   "metadata": {
    "scrolled": true
   },
   "outputs": [
    {
     "data": {
      "text/plain": [
       "<AxesSubplot:ylabel='Frequency'>"
      ]
     },
     "execution_count": 1391,
     "metadata": {},
     "output_type": "execute_result"
    },
    {
     "data": {
      "image/png": "[encoded data removed]",
      "text/plain": [
       "<Figure size 432x288 with 1 Axes>"
      ]
     },
     "metadata": {
      "needs_background": "light"
     },
     "output_type": "display_data"
    }
   ],
   "source": [
    "hpy['Family'].plot.hist()"
   ]
  },
  {
   "cell_type": "code",
   "execution_count": 1392,
   "metadata": {},
   "outputs": [
    {
     "name": "stdout",
     "output_type": "stream",
     "text": [
      "-0.7905970150344158\n"
     ]
    }
   ],
   "source": [
    "    print(skew(hpy['Family']))"
   ]
  },
  {
   "cell_type": "code",
   "execution_count": 1393,
   "metadata": {},
   "outputs": [
    {
     "name": "stdout",
     "output_type": "stream",
     "text": [
      "-0.15094620653642976\n"
     ]
    },
    {
     "data": {
      "image/png": "[encoded data removed]",
      "text/plain": [
       "<Figure size 432x288 with 1 Axes>"
      ]
     },
     "metadata": {
      "needs_background": "light"
     },
     "output_type": "display_data"
    }
   ],
   "source": [
    "hpy['Family']=power_transform(hpy[['Family']], method='yeo-johnson')\n",
    "hpy['Family'].plot.hist()\n",
    "print(skew(hpy['Family']))"
   ]
  },
  {
   "cell_type": "code",
   "execution_count": null,
   "metadata": {},
   "outputs": [],
   "source": []
  },
  {
   "cell_type": "code",
   "execution_count": 1394,
   "metadata": {
    "scrolled": true
   },
   "outputs": [
    {
     "data": {
      "text/plain": [
       "<AxesSubplot:ylabel='Frequency'>"
      ]
     },
     "execution_count": 1394,
     "metadata": {},
     "output_type": "execute_result"
    },
    {
     "data": {
      "image/png": "[encoded data removed]",
      "text/plain": [
       "<Figure size 432x288 with 1 Axes>"
      ]
     },
     "metadata": {
      "needs_background": "light"
     },
     "output_type": "display_data"
    }
   ],
   "source": [
    "hpy['Health (Life Expectancy)'].plot.hist()"
   ]
  },
  {
   "cell_type": "code",
   "execution_count": 1395,
   "metadata": {},
   "outputs": [
    {
     "name": "stdout",
     "output_type": "stream",
     "text": [
      "-0.7483388441107722\n"
     ]
    }
   ],
   "source": [
    "    print(skew(hpy['Health (Life Expectancy)']))"
   ]
  },
  {
   "cell_type": "code",
   "execution_count": 1396,
   "metadata": {},
   "outputs": [
    {
     "name": "stdout",
     "output_type": "stream",
     "text": [
      "-0.188195711676988\n"
     ]
    },
    {
     "data": {
      "image/png": "[encoded data removed]",
      "text/plain": [
       "<Figure size 432x288 with 1 Axes>"
      ]
     },
     "metadata": {
      "needs_background": "light"
     },
     "output_type": "display_data"
    }
   ],
   "source": [
    "hpy['Health (Life Expectancy)']=power_transform(hpy[['Health (Life Expectancy)']], method='yeo-johnson')\n",
    "hpy['Health (Life Expectancy)'].plot.hist()\n",
    "print(skew(hpy['Health (Life Expectancy)']))"
   ]
  },
  {
   "cell_type": "code",
   "execution_count": null,
   "metadata": {},
   "outputs": [],
   "source": []
  },
  {
   "cell_type": "code",
   "execution_count": 1397,
   "metadata": {
    "scrolled": false
   },
   "outputs": [
    {
     "data": {
      "text/plain": [
       "<AxesSubplot:ylabel='Frequency'>"
      ]
     },
     "execution_count": 1397,
     "metadata": {},
     "output_type": "execute_result"
    },
    {
     "data": {
      "image/png": "[encoded data removed]",
      "text/plain": [
       "<Figure size 432x288 with 1 Axes>"
      ]
     },
     "metadata": {
      "needs_background": "light"
     },
     "output_type": "display_data"
    }
   ],
   "source": [
    "hpy['Freedom'].plot.hist()\n"
   ]
  },
  {
   "cell_type": "code",
   "execution_count": 1398,
   "metadata": {},
   "outputs": [
    {
     "name": "stdout",
     "output_type": "stream",
     "text": [
      "-0.3878772056395361\n"
     ]
    }
   ],
   "source": [
    "    print(skew(hpy['Freedom']))"
   ]
  },
  {
   "cell_type": "code",
   "execution_count": 1399,
   "metadata": {},
   "outputs": [
    {
     "name": "stdout",
     "output_type": "stream",
     "text": [
      "-0.07706651804357524\n"
     ]
    },
    {
     "data": {
      "image/png": "[encoded data removed]",
      "text/plain": [
       "<Figure size 432x288 with 1 Axes>"
      ]
     },
     "metadata": {
      "needs_background": "light"
     },
     "output_type": "display_data"
    }
   ],
   "source": [
    "hpy['Freedom']=power_transform(hpy[['Freedom']], method='yeo-johnson')\n",
    "hpy['Freedom'].plot.hist()\n",
    "print(skew(hpy['Freedom']))"
   ]
  },
  {
   "cell_type": "code",
   "execution_count": null,
   "metadata": {},
   "outputs": [],
   "source": []
  },
  {
   "cell_type": "code",
   "execution_count": 1400,
   "metadata": {
    "scrolled": true
   },
   "outputs": [
    {
     "data": {
      "text/plain": [
       "<AxesSubplot:ylabel='Frequency'>"
      ]
     },
     "execution_count": 1400,
     "metadata": {},
     "output_type": "execute_result"
    },
    {
     "data": {
      "image/png": "[encoded data removed]",
      "text/plain": [
       "<Figure size 432x288 with 1 Axes>"
      ]
     },
     "metadata": {
      "needs_background": "light"
     },
     "output_type": "display_data"
    }
   ],
   "source": [
    "hpy['Trust (Government Corruption)'].plot.hist()"
   ]
  },
  {
   "cell_type": "code",
   "execution_count": 1401,
   "metadata": {},
   "outputs": [
    {
     "name": "stdout",
     "output_type": "stream",
     "text": [
      "1.2534652352680626\n"
     ]
    }
   ],
   "source": [
    "    print(skew(hpy['Trust (Government Corruption)']))"
   ]
  },
  {
   "cell_type": "code",
   "execution_count": 1402,
   "metadata": {},
   "outputs": [
    {
     "name": "stdout",
     "output_type": "stream",
     "text": [
      "0.16921701001835282\n"
     ]
    },
    {
     "data": {
      "image/png": "[encoded data removed]",
      "text/plain": [
       "<Figure size 432x288 with 1 Axes>"
      ]
     },
     "metadata": {
      "needs_background": "light"
     },
     "output_type": "display_data"
    }
   ],
   "source": [
    "hpy['Trust (Government Corruption)']=power_transform(hpy[['Trust (Government Corruption)']], method='yeo-johnson')\n",
    "hpy['Trust (Government Corruption)'].plot.hist()\n",
    "print(skew(hpy['Trust (Government Corruption)']))"
   ]
  },
  {
   "cell_type": "code",
   "execution_count": null,
   "metadata": {},
   "outputs": [],
   "source": []
  },
  {
   "cell_type": "code",
   "execution_count": 1403,
   "metadata": {
    "scrolled": true
   },
   "outputs": [
    {
     "data": {
      "text/plain": [
       "<AxesSubplot:ylabel='Frequency'>"
      ]
     },
     "execution_count": 1403,
     "metadata": {},
     "output_type": "execute_result"
    },
    {
     "data": {
      "image/png": "[encoded data removed]",
      "text/plain": [
       "<Figure size 432x288 with 1 Axes>"
      ]
     },
     "metadata": {
      "needs_background": "light"
     },
     "output_type": "display_data"
    }
   ],
   "source": [
    "hpy['Generosity'].plot.hist()"
   ]
  },
  {
   "cell_type": "code",
   "execution_count": 1404,
   "metadata": {},
   "outputs": [
    {
     "name": "stdout",
     "output_type": "stream",
     "text": [
      "0.6376286718463812\n"
     ]
    }
   ],
   "source": [
    "    print(skew(hpy['Generosity']))"
   ]
  },
  {
   "cell_type": "code",
   "execution_count": 1405,
   "metadata": {},
   "outputs": [
    {
     "name": "stdout",
     "output_type": "stream",
     "text": [
      "0.026791105836055075\n"
     ]
    },
    {
     "data": {
      "image/png": "[encoded data removed]",
      "text/plain": [
       "<Figure size 432x288 with 1 Axes>"
      ]
     },
     "metadata": {
      "needs_background": "light"
     },
     "output_type": "display_data"
    }
   ],
   "source": [
    "hpy['Generosity']=power_transform(hpy[['Generosity']], method='yeo-johnson')\n",
    "hpy['Generosity'].plot.hist()\n",
    "print(skew(hpy['Generosity']))"
   ]
  },
  {
   "cell_type": "code",
   "execution_count": null,
   "metadata": {},
   "outputs": [],
   "source": []
  },
  {
   "cell_type": "code",
   "execution_count": 1406,
   "metadata": {
    "scrolled": true
   },
   "outputs": [
    {
     "data": {
      "text/plain": [
       "<AxesSubplot:ylabel='Frequency'>"
      ]
     },
     "execution_count": 1406,
     "metadata": {},
     "output_type": "execute_result"
    },
    {
     "data": {
      "image/png": "[encoded data removed]",
      "text/plain": [
       "<Figure size 432x288 with 1 Axes>"
      ]
     },
     "metadata": {
      "needs_background": "light"
     },
     "output_type": "display_data"
    }
   ],
   "source": [
    "hpy['Dystopia Residual'].plot.hist()"
   ]
  },
  {
   "cell_type": "code",
   "execution_count": 1407,
   "metadata": {},
   "outputs": [
    {
     "name": "stdout",
     "output_type": "stream",
     "text": [
      "-0.19352614234175322\n"
     ]
    }
   ],
   "source": [
    "    print(skew(hpy['Dystopia Residual']))"
   ]
  },
  {
   "cell_type": "code",
   "execution_count": 1408,
   "metadata": {},
   "outputs": [
    {
     "name": "stdout",
     "output_type": "stream",
     "text": [
      "0.0325018253981517\n"
     ]
    },
    {
     "data": {
      "image/png": "[encoded data removed]",
      "text/plain": [
       "<Figure size 432x288 with 1 Axes>"
      ]
     },
     "metadata": {
      "needs_background": "light"
     },
     "output_type": "display_data"
    }
   ],
   "source": [
    "hpy['Dystopia Residual']=power_transform(hpy[['Dystopia Residual']], method='yeo-johnson')\n",
    "hpy['Dystopia Residual'].plot.hist()\n",
    "print(skew(hpy['Dystopia Residual']))"
   ]
  },
  {
   "cell_type": "markdown",
   "metadata": {},
   "source": [
    "skewness removed"
   ]
  },
  {
   "cell_type": "markdown",
   "metadata": {},
   "source": [
    "# Indexing and grouping"
   ]
  },
  {
   "cell_type": "code",
   "execution_count": null,
   "metadata": {},
   "outputs": [],
   "source": []
  },
  {
   "cell_type": "code",
   "execution_count": 1409,
   "metadata": {},
   "outputs": [],
   "source": [
    "hpy_Region = hpy.groupby('Region')"
   ]
  },
  {
   "cell_type": "code",
   "execution_count": 1410,
   "metadata": {},
   "outputs": [
    {
     "data": {
      "text/html": [
       "<div>\n",
       "<style scoped>\n",
       "    .dataframe tbody tr th:only-of-type {\n",
       "        vertical-align: middle;\n",
       "    }\n",
       "\n",
       "    .dataframe tbody tr th {\n",
       "        vertical-align: top;\n",
       "    }\n",
       "\n",
       "    .dataframe thead th {\n",
       "        text-align: right;\n",
       "    }\n",
       "</style>\n",
       "<table border=\"1\" class=\"dataframe\">\n",
       "  <thead>\n",
       "    <tr style=\"text-align: right;\">\n",
       "      <th></th>\n",
       "      <th>count</th>\n",
       "      <th>mean</th>\n",
       "      <th>std</th>\n",
       "      <th>min</th>\n",
       "      <th>25%</th>\n",
       "      <th>50%</th>\n",
       "      <th>75%</th>\n",
       "      <th>max</th>\n",
       "    </tr>\n",
       "    <tr>\n",
       "      <th>Region</th>\n",
       "      <th></th>\n",
       "      <th></th>\n",
       "      <th></th>\n",
       "      <th></th>\n",
       "      <th></th>\n",
       "      <th></th>\n",
       "      <th></th>\n",
       "      <th></th>\n",
       "    </tr>\n",
       "  </thead>\n",
       "  <tbody>\n",
       "    <tr>\n",
       "      <th>Sub-Saharan Africa</th>\n",
       "      <td>36.0</td>\n",
       "      <td>4.265528</td>\n",
       "      <td>0.574056</td>\n",
       "      <td>2.905</td>\n",
       "      <td>3.88325</td>\n",
       "      <td>4.3120</td>\n",
       "      <td>4.61575</td>\n",
       "      <td>5.477</td>\n",
       "    </tr>\n",
       "    <tr>\n",
       "      <th>Southern Asia</th>\n",
       "      <td>7.0</td>\n",
       "      <td>4.580857</td>\n",
       "      <td>0.570526</td>\n",
       "      <td>3.575</td>\n",
       "      <td>4.39250</td>\n",
       "      <td>4.5650</td>\n",
       "      <td>4.94400</td>\n",
       "      <td>5.253</td>\n",
       "    </tr>\n",
       "    <tr>\n",
       "      <th>Central and Eastern Europe</th>\n",
       "      <td>29.0</td>\n",
       "      <td>5.332931</td>\n",
       "      <td>0.570446</td>\n",
       "      <td>4.218</td>\n",
       "      <td>4.95900</td>\n",
       "      <td>5.2860</td>\n",
       "      <td>5.81300</td>\n",
       "      <td>6.505</td>\n",
       "    </tr>\n",
       "    <tr>\n",
       "      <th>Middle East and Northern Africa</th>\n",
       "      <td>19.0</td>\n",
       "      <td>5.343526</td>\n",
       "      <td>1.093456</td>\n",
       "      <td>3.006</td>\n",
       "      <td>4.70050</td>\n",
       "      <td>5.1920</td>\n",
       "      <td>6.12750</td>\n",
       "      <td>7.278</td>\n",
       "    </tr>\n",
       "    <tr>\n",
       "      <th>Southeastern Asia</th>\n",
       "      <td>8.0</td>\n",
       "      <td>5.443750</td>\n",
       "      <td>0.931334</td>\n",
       "      <td>3.819</td>\n",
       "      <td>5.02375</td>\n",
       "      <td>5.3795</td>\n",
       "      <td>5.94125</td>\n",
       "      <td>6.798</td>\n",
       "    </tr>\n",
       "    <tr>\n",
       "      <th>Eastern Asia</th>\n",
       "      <td>6.0</td>\n",
       "      <td>5.626167</td>\n",
       "      <td>0.554053</td>\n",
       "      <td>4.874</td>\n",
       "      <td>5.22350</td>\n",
       "      <td>5.7290</td>\n",
       "      <td>5.98625</td>\n",
       "      <td>6.298</td>\n",
       "    </tr>\n",
       "    <tr>\n",
       "      <th>Latin America and Caribbean</th>\n",
       "      <td>20.0</td>\n",
       "      <td>6.165300</td>\n",
       "      <td>0.759083</td>\n",
       "      <td>4.518</td>\n",
       "      <td>5.86550</td>\n",
       "      <td>6.1995</td>\n",
       "      <td>6.69900</td>\n",
       "      <td>7.226</td>\n",
       "    </tr>\n",
       "    <tr>\n",
       "      <th>Western Europe</th>\n",
       "      <td>21.0</td>\n",
       "      <td>6.689619</td>\n",
       "      <td>0.824582</td>\n",
       "      <td>4.857</td>\n",
       "      <td>6.30200</td>\n",
       "      <td>6.9370</td>\n",
       "      <td>7.37800</td>\n",
       "      <td>7.587</td>\n",
       "    </tr>\n",
       "    <tr>\n",
       "      <th>North America</th>\n",
       "      <td>2.0</td>\n",
       "      <td>7.273000</td>\n",
       "      <td>0.217789</td>\n",
       "      <td>7.119</td>\n",
       "      <td>7.19600</td>\n",
       "      <td>7.2730</td>\n",
       "      <td>7.35000</td>\n",
       "      <td>7.427</td>\n",
       "    </tr>\n",
       "    <tr>\n",
       "      <th>Australia and New Zealand</th>\n",
       "      <td>2.0</td>\n",
       "      <td>7.285000</td>\n",
       "      <td>0.001414</td>\n",
       "      <td>7.284</td>\n",
       "      <td>7.28450</td>\n",
       "      <td>7.2850</td>\n",
       "      <td>7.28550</td>\n",
       "      <td>7.286</td>\n",
       "    </tr>\n",
       "  </tbody>\n",
       "</table>\n",
       "</div>"
      ],
      "text/plain": [
       "                                 count      mean       std    min      25%  \\\n",
       "Region                                                                       \n",
       "Sub-Saharan Africa                36.0  4.265528  0.574056  2.905  3.88325   \n",
       "Southern Asia                      7.0  4.580857  0.570526  3.575  4.39250   \n",
       "Central and Eastern Europe        29.0  5.332931  0.570446  4.218  4.95900   \n",
       "Middle East and Northern Africa   19.0  5.343526  1.093456  3.006  4.70050   \n",
       "Southeastern Asia                  8.0  5.443750  0.931334  3.819  5.02375   \n",
       "Eastern Asia                       6.0  5.626167  0.554053  4.874  5.22350   \n",
       "Latin America and Caribbean       20.0  6.165300  0.759083  4.518  5.86550   \n",
       "Western Europe                    21.0  6.689619  0.824582  4.857  6.30200   \n",
       "North America                      2.0  7.273000  0.217789  7.119  7.19600   \n",
       "Australia and New Zealand          2.0  7.285000  0.001414  7.284  7.28450   \n",
       "\n",
       "                                    50%      75%    max  \n",
       "Region                                                   \n",
       "Sub-Saharan Africa               4.3120  4.61575  5.477  \n",
       "Southern Asia                    4.5650  4.94400  5.253  \n",
       "Central and Eastern Europe       5.2860  5.81300  6.505  \n",
       "Middle East and Northern Africa  5.1920  6.12750  7.278  \n",
       "Southeastern Asia                5.3795  5.94125  6.798  \n",
       "Eastern Asia                     5.7290  5.98625  6.298  \n",
       "Latin America and Caribbean      6.1995  6.69900  7.226  \n",
       "Western Europe                   6.9370  7.37800  7.587  \n",
       "North America                    7.2730  7.35000  7.427  \n",
       "Australia and New Zealand        7.2850  7.28550  7.286  "
      ]
     },
     "execution_count": 1410,
     "metadata": {},
     "output_type": "execute_result"
    }
   ],
   "source": [
    "hpy_Region['Happiness Score'].describe().sort_values(by=\"mean\",ascending=True).head(50)"
   ]
  },
  {
   "cell_type": "code",
   "execution_count": 1411,
   "metadata": {},
   "outputs": [
    {
     "data": {
      "text/html": [
       "<div>\n",
       "<style scoped>\n",
       "    .dataframe tbody tr th:only-of-type {\n",
       "        vertical-align: middle;\n",
       "    }\n",
       "\n",
       "    .dataframe tbody tr th {\n",
       "        vertical-align: top;\n",
       "    }\n",
       "\n",
       "    .dataframe thead th {\n",
       "        text-align: right;\n",
       "    }\n",
       "</style>\n",
       "<table border=\"1\" class=\"dataframe\">\n",
       "  <thead>\n",
       "    <tr style=\"text-align: right;\">\n",
       "      <th></th>\n",
       "      <th>Region</th>\n",
       "      <th>Happiness Rank</th>\n",
       "      <th>Happiness Score</th>\n",
       "      <th>Standard Error</th>\n",
       "      <th>Economy (GDP per Capita)</th>\n",
       "      <th>Family</th>\n",
       "      <th>Health (Life Expectancy)</th>\n",
       "      <th>Freedom</th>\n",
       "      <th>Trust (Government Corruption)</th>\n",
       "      <th>Generosity</th>\n",
       "      <th>Dystopia Residual</th>\n",
       "    </tr>\n",
       "    <tr>\n",
       "      <th>Country</th>\n",
       "      <th></th>\n",
       "      <th></th>\n",
       "      <th></th>\n",
       "      <th></th>\n",
       "      <th></th>\n",
       "      <th></th>\n",
       "      <th></th>\n",
       "      <th></th>\n",
       "      <th></th>\n",
       "      <th></th>\n",
       "      <th></th>\n",
       "    </tr>\n",
       "  </thead>\n",
       "  <tbody>\n",
       "    <tr>\n",
       "      <th>Mauritius</th>\n",
       "      <td>Sub-Saharan Africa</td>\n",
       "      <td>71</td>\n",
       "      <td>5.477</td>\n",
       "      <td>1.677193</td>\n",
       "      <td>0.325018</td>\n",
       "      <td>-0.249138</td>\n",
       "      <td>0.155006</td>\n",
       "      <td>0.897376</td>\n",
       "      <td>-0.515490</td>\n",
       "      <td>1.193268</td>\n",
       "      <td>-0.663902</td>\n",
       "    </tr>\n",
       "    <tr>\n",
       "      <th>Nigeria</th>\n",
       "      <td>Sub-Saharan Africa</td>\n",
       "      <td>78</td>\n",
       "      <td>5.268</td>\n",
       "      <td>-0.187647</td>\n",
       "      <td>-0.606483</td>\n",
       "      <td>-0.569559</td>\n",
       "      <td>-1.694860</td>\n",
       "      <td>-0.613922</td>\n",
       "      <td>-1.111552</td>\n",
       "      <td>0.456823</td>\n",
       "      <td>1.487460</td>\n",
       "    </tr>\n",
       "    <tr>\n",
       "      <th>Zambia</th>\n",
       "      <td>Sub-Saharan Africa</td>\n",
       "      <td>85</td>\n",
       "      <td>5.129</td>\n",
       "      <td>1.588192</td>\n",
       "      <td>-1.039234</td>\n",
       "      <td>-0.524896</td>\n",
       "      <td>-1.368405</td>\n",
       "      <td>0.355811</td>\n",
       "      <td>0.140024</td>\n",
       "      <td>-0.195999</td>\n",
       "      <td>0.974460</td>\n",
       "    </tr>\n",
       "    <tr>\n",
       "      <th>Somaliland region</th>\n",
       "      <td>Sub-Saharan Africa</td>\n",
       "      <td>91</td>\n",
       "      <td>5.057</td>\n",
       "      <td>1.186509</td>\n",
       "      <td>-1.629336</td>\n",
       "      <td>-0.386682</td>\n",
       "      <td>-0.952264</td>\n",
       "      <td>0.195710</td>\n",
       "      <td>1.767425</td>\n",
       "      <td>1.890424</td>\n",
       "      <td>-0.026847</td>\n",
       "    </tr>\n",
       "    <tr>\n",
       "      <th>Mozambique</th>\n",
       "      <td>Sub-Saharan Africa</td>\n",
       "      <td>94</td>\n",
       "      <td>4.971</td>\n",
       "      <td>1.943303</td>\n",
       "      <td>-1.826328</td>\n",
       "      <td>-0.073399</td>\n",
       "      <td>-1.827025</td>\n",
       "      <td>-0.632239</td>\n",
       "      <td>0.467377</td>\n",
       "      <td>0.045844</td>\n",
       "      <td>1.806513</td>\n",
       "    </tr>\n",
       "    <tr>\n",
       "      <th>Lesotho</th>\n",
       "      <td>Sub-Saharan Africa</td>\n",
       "      <td>97</td>\n",
       "      <td>4.898</td>\n",
       "      <td>2.390298</td>\n",
       "      <td>-1.247996</td>\n",
       "      <td>-0.007928</td>\n",
       "      <td>-1.853826</td>\n",
       "      <td>-0.770216</td>\n",
       "      <td>0.144128</td>\n",
       "      <td>-0.505995</td>\n",
       "      <td>1.298128</td>\n",
       "    </tr>\n",
       "    <tr>\n",
       "      <th>Swaziland</th>\n",
       "      <td>Sub-Saharan Africa</td>\n",
       "      <td>101</td>\n",
       "      <td>4.867</td>\n",
       "      <td>2.209372</td>\n",
       "      <td>-0.463225</td>\n",
       "      <td>0.137189</td>\n",
       "      <td>-1.854625</td>\n",
       "      <td>-0.836331</td>\n",
       "      <td>-1.301517</td>\n",
       "      <td>-0.322051</td>\n",
       "      <td>0.687380</td>\n",
       "    </tr>\n",
       "    <tr>\n",
       "      <th>South Africa</th>\n",
       "      <td>Sub-Saharan Africa</td>\n",
       "      <td>113</td>\n",
       "      <td>4.642</td>\n",
       "      <td>0.144323</td>\n",
       "      <td>0.083302</td>\n",
       "      <td>0.693772</td>\n",
       "      <td>-1.426523</td>\n",
       "      <td>-0.683102</td>\n",
       "      <td>-0.315197</td>\n",
       "      <td>-0.974706</td>\n",
       "      <td>-0.738693</td>\n",
       "    </tr>\n",
       "    <tr>\n",
       "      <th>Ghana</th>\n",
       "      <td>Sub-Saharan Africa</td>\n",
       "      <td>114</td>\n",
       "      <td>4.633</td>\n",
       "      <td>0.267878</td>\n",
       "      <td>-0.866787</td>\n",
       "      <td>-1.295480</td>\n",
       "      <td>-1.073281</td>\n",
       "      <td>-0.096682</td>\n",
       "      <td>-1.050454</td>\n",
       "      <td>0.116783</td>\n",
       "      <td>0.347137</td>\n",
       "    </tr>\n",
       "    <tr>\n",
       "      <th>Zimbabwe</th>\n",
       "      <td>Sub-Saharan Africa</td>\n",
       "      <td>115</td>\n",
       "      <td>4.610</td>\n",
       "      <td>-0.101707</td>\n",
       "      <td>-1.465969</td>\n",
       "      <td>-0.044735</td>\n",
       "      <td>-1.271387</td>\n",
       "      <td>-1.112644</td>\n",
       "      <td>-0.431494</td>\n",
       "      <td>-0.252667</td>\n",
       "      <td>0.600892</td>\n",
       "    </tr>\n",
       "    <tr>\n",
       "      <th>Sudan</th>\n",
       "      <td>Sub-Saharan Africa</td>\n",
       "      <td>118</td>\n",
       "      <td>4.550</td>\n",
       "      <td>1.476363</td>\n",
       "      <td>-0.923674</td>\n",
       "      <td>-0.126665</td>\n",
       "      <td>-1.172818</td>\n",
       "      <td>-1.913991</td>\n",
       "      <td>0.375004</td>\n",
       "      <td>-0.245586</td>\n",
       "      <td>0.156965</td>\n",
       "    </tr>\n",
       "    <tr>\n",
       "      <th>Congo (Kinshasa)</th>\n",
       "      <td>Sub-Saharan Africa</td>\n",
       "      <td>120</td>\n",
       "      <td>4.517</td>\n",
       "      <td>-0.673626</td>\n",
       "      <td>-1.972219</td>\n",
       "      <td>-0.181761</td>\n",
       "      <td>-1.814844</td>\n",
       "      <td>-1.291352</td>\n",
       "      <td>-0.499618</td>\n",
       "      <td>0.263935</td>\n",
       "      <td>1.435280</td>\n",
       "    </tr>\n",
       "    <tr>\n",
       "      <th>Ethiopia</th>\n",
       "      <td>Sub-Saharan Africa</td>\n",
       "      <td>122</td>\n",
       "      <td>4.512</td>\n",
       "      <td>-0.573603</td>\n",
       "      <td>-1.624968</td>\n",
       "      <td>-1.490536</td>\n",
       "      <td>-0.946193</td>\n",
       "      <td>-0.021525</td>\n",
       "      <td>0.413611</td>\n",
       "      <td>0.221661</td>\n",
       "      <td>0.614078</td>\n",
       "    </tr>\n",
       "    <tr>\n",
       "      <th>Sierra Leone</th>\n",
       "      <td>Sub-Saharan Africa</td>\n",
       "      <td>123</td>\n",
       "      <td>4.507</td>\n",
       "      <td>1.622810</td>\n",
       "      <td>-1.343865</td>\n",
       "      <td>-0.369898</td>\n",
       "      <td>-1.975846</td>\n",
       "      <td>-0.197159</td>\n",
       "      <td>-0.329055</td>\n",
       "      <td>-0.023141</td>\n",
       "      <td>0.732514</td>\n",
       "    </tr>\n",
       "    <tr>\n",
       "      <th>Mauritania</th>\n",
       "      <td>Sub-Saharan Africa</td>\n",
       "      <td>124</td>\n",
       "      <td>4.436</td>\n",
       "      <td>-0.412210</td>\n",
       "      <td>-1.075815</td>\n",
       "      <td>-0.698848</td>\n",
       "      <td>-1.202479</td>\n",
       "      <td>-1.202939</td>\n",
       "      <td>0.635627</td>\n",
       "      <td>0.013405</td>\n",
       "      <td>-0.013049</td>\n",
       "    </tr>\n",
       "    <tr>\n",
       "      <th>Kenya</th>\n",
       "      <td>Sub-Saharan Africa</td>\n",
       "      <td>125</td>\n",
       "      <td>4.419</td>\n",
       "      <td>0.261701</td>\n",
       "      <td>-1.270979</td>\n",
       "      <td>-0.192131</td>\n",
       "      <td>-1.031941</td>\n",
       "      <td>-0.105240</td>\n",
       "      <td>-0.786677</td>\n",
       "      <td>1.180589</td>\n",
       "      <td>-0.620704</td>\n",
       "    </tr>\n",
       "    <tr>\n",
       "      <th>Djibouti</th>\n",
       "      <td>Sub-Saharan Africa</td>\n",
       "      <td>126</td>\n",
       "      <td>4.369</td>\n",
       "      <td>2.011317</td>\n",
       "      <td>-1.106580</td>\n",
       "      <td>-1.519471</td>\n",
       "      <td>-1.190219</td>\n",
       "      <td>0.159992</td>\n",
       "      <td>1.331083</td>\n",
       "      <td>-0.338041</td>\n",
       "      <td>-0.136447</td>\n",
       "    </tr>\n",
       "    <tr>\n",
       "      <th>Botswana</th>\n",
       "      <td>Sub-Saharan Africa</td>\n",
       "      <td>128</td>\n",
       "      <td>4.332</td>\n",
       "      <td>0.412391</td>\n",
       "      <td>0.285485</td>\n",
       "      <td>0.287986</td>\n",
       "      <td>-1.901640</td>\n",
       "      <td>0.404161</td>\n",
       "      <td>0.140709</td>\n",
       "      <td>-1.147429</td>\n",
       "      <td>-1.190421</td>\n",
       "    </tr>\n",
       "    <tr>\n",
       "      <th>Malawi</th>\n",
       "      <td>Sub-Saharan Africa</td>\n",
       "      <td>131</td>\n",
       "      <td>4.292</td>\n",
       "      <td>1.169766</td>\n",
       "      <td>-1.944708</td>\n",
       "      <td>-1.893153</td>\n",
       "      <td>-1.551391</td>\n",
       "      <td>-0.048488</td>\n",
       "      <td>-0.600165</td>\n",
       "      <td>0.889930</td>\n",
       "      <td>1.317197</td>\n",
       "    </tr>\n",
       "    <tr>\n",
       "      <th>Cameroon</th>\n",
       "      <td>Sub-Saharan Africa</td>\n",
       "      <td>133</td>\n",
       "      <td>4.252</td>\n",
       "      <td>0.218110</td>\n",
       "      <td>-1.145783</td>\n",
       "      <td>-0.631404</td>\n",
       "      <td>-1.531711</td>\n",
       "      <td>0.390665</td>\n",
       "      <td>-0.795686</td>\n",
       "      <td>-0.101469</td>\n",
       "      <td>-0.321388</td>\n",
       "    </tr>\n",
       "    <tr>\n",
       "      <th>Angola</th>\n",
       "      <td>Sub-Saharan Africa</td>\n",
       "      <td>137</td>\n",
       "      <td>4.033</td>\n",
       "      <td>0.280193</td>\n",
       "      <td>-0.347227</td>\n",
       "      <td>-0.729764</td>\n",
       "      <td>-1.680874</td>\n",
       "      <td>-1.900113</td>\n",
       "      <td>-0.577320</td>\n",
       "      <td>-0.933320</td>\n",
       "      <td>-0.323803</td>\n",
       "    </tr>\n",
       "    <tr>\n",
       "      <th>Mali</th>\n",
       "      <td>Sub-Saharan Africa</td>\n",
       "      <td>138</td>\n",
       "      <td>3.995</td>\n",
       "      <td>0.863510</td>\n",
       "      <td>-1.486708</td>\n",
       "      <td>-0.033648</td>\n",
       "      <td>-1.596576</td>\n",
       "      <td>-0.327350</td>\n",
       "      <td>0.126741</td>\n",
       "      <td>-0.270565</td>\n",
       "      <td>-0.607451</td>\n",
       "    </tr>\n",
       "    <tr>\n",
       "      <th>Congo (Brazzaville)</th>\n",
       "      <td>Sub-Saharan Africa</td>\n",
       "      <td>139</td>\n",
       "      <td>3.989</td>\n",
       "      <td>1.449191</td>\n",
       "      <td>-0.546568</td>\n",
       "      <td>-1.340437</td>\n",
       "      <td>-1.338248</td>\n",
       "      <td>-0.155478</td>\n",
       "      <td>0.048720</td>\n",
       "      <td>-0.928437</td>\n",
       "      <td>-0.806585</td>\n",
       "    </tr>\n",
       "    <tr>\n",
       "      <th>Comoros</th>\n",
       "      <td>Sub-Saharan Africa</td>\n",
       "      <td>140</td>\n",
       "      <td>3.956</td>\n",
       "      <td>0.310001</td>\n",
       "      <td>-1.530131</td>\n",
       "      <td>-0.958589</td>\n",
       "      <td>-1.189511</td>\n",
       "      <td>-1.274534</td>\n",
       "      <td>0.831716</td>\n",
       "      <td>-0.401459</td>\n",
       "      <td>-0.307827</td>\n",
       "    </tr>\n",
       "    <tr>\n",
       "      <th>Uganda</th>\n",
       "      <td>Sub-Saharan Africa</td>\n",
       "      <td>141</td>\n",
       "      <td>3.931</td>\n",
       "      <td>-0.078408</td>\n",
       "      <td>-1.585485</td>\n",
       "      <td>0.427358</td>\n",
       "      <td>-1.260485</td>\n",
       "      <td>0.135702</td>\n",
       "      <td>-0.554677</td>\n",
       "      <td>0.597460</td>\n",
       "      <td>-1.249147</td>\n",
       "    </tr>\n",
       "    <tr>\n",
       "      <th>Senegal</th>\n",
       "      <td>Sub-Saharan Africa</td>\n",
       "      <td>142</td>\n",
       "      <td>3.904</td>\n",
       "      <td>-0.747259</td>\n",
       "      <td>-1.270403</td>\n",
       "      <td>-0.286547</td>\n",
       "      <td>-0.963327</td>\n",
       "      <td>-0.461238</td>\n",
       "      <td>-0.070877</td>\n",
       "      <td>-0.081060</td>\n",
       "      <td>-1.221168</td>\n",
       "    </tr>\n",
       "    <tr>\n",
       "      <th>Gabon</th>\n",
       "      <td>Sub-Saharan Africa</td>\n",
       "      <td>143</td>\n",
       "      <td>3.896</td>\n",
       "      <td>0.113665</td>\n",
       "      <td>0.474770</td>\n",
       "      <td>-0.565952</td>\n",
       "      <td>-0.968887</td>\n",
       "      <td>-0.761389</td>\n",
       "      <td>-0.023601</td>\n",
       "      <td>-1.591594</td>\n",
       "      <td>-1.962432</td>\n",
       "    </tr>\n",
       "    <tr>\n",
       "      <th>Niger</th>\n",
       "      <td>Sub-Saharan Africa</td>\n",
       "      <td>144</td>\n",
       "      <td>3.845</td>\n",
       "      <td>-0.753457</td>\n",
       "      <td>-1.850926</td>\n",
       "      <td>-1.022438</td>\n",
       "      <td>-1.374144</td>\n",
       "      <td>0.274409</td>\n",
       "      <td>0.470807</td>\n",
       "      <td>-0.215048</td>\n",
       "      <td>-0.452459</td>\n",
       "    </tr>\n",
       "    <tr>\n",
       "      <th>Tanzania</th>\n",
       "      <td>Sub-Saharan Africa</td>\n",
       "      <td>146</td>\n",
       "      <td>3.781</td>\n",
       "      <td>0.504163</td>\n",
       "      <td>-1.437066</td>\n",
       "      <td>-0.175455</td>\n",
       "      <td>-1.132555</td>\n",
       "      <td>-0.703132</td>\n",
       "      <td>-0.802333</td>\n",
       "      <td>0.974901</td>\n",
       "      <td>-1.329306</td>\n",
       "    </tr>\n",
       "    <tr>\n",
       "      <th>Madagascar</th>\n",
       "      <td>Sub-Saharan Africa</td>\n",
       "      <td>147</td>\n",
       "      <td>3.681</td>\n",
       "      <td>-0.721536</td>\n",
       "      <td>-1.590923</td>\n",
       "      <td>-1.326751</td>\n",
       "      <td>-0.855274</td>\n",
       "      <td>-1.471535</td>\n",
       "      <td>-0.424843</td>\n",
       "      <td>-0.036981</td>\n",
       "      <td>-0.502769</td>\n",
       "    </tr>\n",
       "    <tr>\n",
       "      <th>Chad</th>\n",
       "      <td>Sub-Saharan Africa</td>\n",
       "      <td>149</td>\n",
       "      <td>3.667</td>\n",
       "      <td>-0.524551</td>\n",
       "      <td>-1.319298</td>\n",
       "      <td>-1.059826</td>\n",
       "      <td>-1.715155</td>\n",
       "      <td>-1.242881</td>\n",
       "      <td>-0.885128</td>\n",
       "      <td>-0.309861</td>\n",
       "      <td>-0.335559</td>\n",
       "    </tr>\n",
       "    <tr>\n",
       "      <th>Guinea</th>\n",
       "      <td>Sub-Saharan Africa</td>\n",
       "      <td>150</td>\n",
       "      <td>3.656</td>\n",
       "      <td>-0.765882</td>\n",
       "      <td>-1.656836</td>\n",
       "      <td>-1.794359</td>\n",
       "      <td>-1.517300</td>\n",
       "      <td>-0.400422</td>\n",
       "      <td>0.102117</td>\n",
       "      <td>0.566567</td>\n",
       "      <td>-0.246197</td>\n",
       "    </tr>\n",
       "    <tr>\n",
       "      <th>Ivory Coast</th>\n",
       "      <td>Sub-Saharan Africa</td>\n",
       "      <td>151</td>\n",
       "      <td>3.655</td>\n",
       "      <td>0.560466</td>\n",
       "      <td>-1.050569</td>\n",
       "      <td>-1.027135</td>\n",
       "      <td>-1.711621</td>\n",
       "      <td>0.215760</td>\n",
       "      <td>0.674740</td>\n",
       "      <td>-0.142886</td>\n",
       "      <td>-1.267029</td>\n",
       "    </tr>\n",
       "    <tr>\n",
       "      <th>Burkina Faso</th>\n",
       "      <td>Sub-Saharan Africa</td>\n",
       "      <td>152</td>\n",
       "      <td>3.587</td>\n",
       "      <td>-0.072393</td>\n",
       "      <td>-1.491984</td>\n",
       "      <td>-0.759759</td>\n",
       "      <td>-1.440802</td>\n",
       "      <td>-0.285899</td>\n",
       "      <td>0.181129</td>\n",
       "      <td>-0.000126</td>\n",
       "      <td>-1.185025</td>\n",
       "    </tr>\n",
       "    <tr>\n",
       "      <th>Benin</th>\n",
       "      <td>Sub-Saharan Africa</td>\n",
       "      <td>155</td>\n",
       "      <td>3.340</td>\n",
       "      <td>-0.698018</td>\n",
       "      <td>-1.434102</td>\n",
       "      <td>-1.989442</td>\n",
       "      <td>-1.314868</td>\n",
       "      <td>0.328668</td>\n",
       "      <td>-0.441727</td>\n",
       "      <td>-0.321955</td>\n",
       "      <td>-0.891545</td>\n",
       "    </tr>\n",
       "    <tr>\n",
       "      <th>Burundi</th>\n",
       "      <td>Sub-Saharan Africa</td>\n",
       "      <td>157</td>\n",
       "      <td>2.905</td>\n",
       "      <td>2.185369</td>\n",
       "      <td>-1.945984</td>\n",
       "      <td>-1.885130</td>\n",
       "      <td>-1.555245</td>\n",
       "      <td>-1.832151</td>\n",
       "      <td>-0.154810</td>\n",
       "      <td>-0.183350</td>\n",
       "      <td>-0.535256</td>\n",
       "    </tr>\n",
       "  </tbody>\n",
       "</table>\n",
       "</div>"
      ],
      "text/plain": [
       "                                 Region  Happiness Rank  Happiness Score  \\\n",
       "Country                                                                    \n",
       "Mauritius            Sub-Saharan Africa              71            5.477   \n",
       "Nigeria              Sub-Saharan Africa              78            5.268   \n",
       "Zambia               Sub-Saharan Africa              85            5.129   \n",
       "Somaliland region    Sub-Saharan Africa              91            5.057   \n",
       "Mozambique           Sub-Saharan Africa              94            4.971   \n",
       "Lesotho              Sub-Saharan Africa              97            4.898   \n",
       "Swaziland            Sub-Saharan Africa             101            4.867   \n",
       "South Africa         Sub-Saharan Africa             113            4.642   \n",
       "Ghana                Sub-Saharan Africa             114            4.633   \n",
       "Zimbabwe             Sub-Saharan Africa             115            4.610   \n",
       "Sudan                Sub-Saharan Africa             118            4.550   \n",
       "Congo (Kinshasa)     Sub-Saharan Africa             120            4.517   \n",
       "Ethiopia             Sub-Saharan Africa             122            4.512   \n",
       "Sierra Leone         Sub-Saharan Africa             123            4.507   \n",
       "Mauritania           Sub-Saharan Africa             124            4.436   \n",
       "Kenya                Sub-Saharan Africa             125            4.419   \n",
       "Djibouti             Sub-Saharan Africa             126            4.369   \n",
       "Botswana             Sub-Saharan Africa             128            4.332   \n",
       "Malawi               Sub-Saharan Africa             131            4.292   \n",
       "Cameroon             Sub-Saharan Africa             133            4.252   \n",
       "Angola               Sub-Saharan Africa             137            4.033   \n",
       "Mali                 Sub-Saharan Africa             138            3.995   \n",
       "Congo (Brazzaville)  Sub-Saharan Africa             139            3.989   \n",
       "Comoros              Sub-Saharan Africa             140            3.956   \n",
       "Uganda               Sub-Saharan Africa             141            3.931   \n",
       "Senegal              Sub-Saharan Africa             142            3.904   \n",
       "Gabon                Sub-Saharan Africa             143            3.896   \n",
       "Niger                Sub-Saharan Africa             144            3.845   \n",
       "Tanzania             Sub-Saharan Africa             146            3.781   \n",
       "Madagascar           Sub-Saharan Africa             147            3.681   \n",
       "Chad                 Sub-Saharan Africa             149            3.667   \n",
       "Guinea               Sub-Saharan Africa             150            3.656   \n",
       "Ivory Coast          Sub-Saharan Africa             151            3.655   \n",
       "Burkina Faso         Sub-Saharan Africa             152            3.587   \n",
       "Benin                Sub-Saharan Africa             155            3.340   \n",
       "Burundi              Sub-Saharan Africa             157            2.905   \n",
       "\n",
       "                     Standard Error  Economy (GDP per Capita)    Family  \\\n",
       "Country                                                                   \n",
       "Mauritius                  1.677193                  0.325018 -0.249138   \n",
       "Nigeria                   -0.187647                 -0.606483 -0.569559   \n",
       "Zambia                     1.588192                 -1.039234 -0.524896   \n",
       "Somaliland region          1.186509                 -1.629336 -0.386682   \n",
       "Mozambique                 1.943303                 -1.826328 -0.073399   \n",
       "Lesotho                    2.390298                 -1.247996 -0.007928   \n",
       "Swaziland                  2.209372                 -0.463225  0.137189   \n",
       "South Africa               0.144323                  0.083302  0.693772   \n",
       "Ghana                      0.267878                 -0.866787 -1.295480   \n",
       "Zimbabwe                  -0.101707                 -1.465969 -0.044735   \n",
       "Sudan                      1.476363                 -0.923674 -0.126665   \n",
       "Congo (Kinshasa)          -0.673626                 -1.972219 -0.181761   \n",
       "Ethiopia                  -0.573603                 -1.624968 -1.490536   \n",
       "Sierra Leone               1.622810                 -1.343865 -0.369898   \n",
       "Mauritania                -0.412210                 -1.075815 -0.698848   \n",
       "Kenya                      0.261701                 -1.270979 -0.192131   \n",
       "Djibouti                   2.011317                 -1.106580 -1.519471   \n",
       "Botswana                   0.412391                  0.285485  0.287986   \n",
       "Malawi                     1.169766                 -1.944708 -1.893153   \n",
       "Cameroon                   0.218110                 -1.145783 -0.631404   \n",
       "Angola                     0.280193                 -0.347227 -0.729764   \n",
       "Mali                       0.863510                 -1.486708 -0.033648   \n",
       "Congo (Brazzaville)        1.449191                 -0.546568 -1.340437   \n",
       "Comoros                    0.310001                 -1.530131 -0.958589   \n",
       "Uganda                    -0.078408                 -1.585485  0.427358   \n",
       "Senegal                   -0.747259                 -1.270403 -0.286547   \n",
       "Gabon                      0.113665                  0.474770 -0.565952   \n",
       "Niger                     -0.753457                 -1.850926 -1.022438   \n",
       "Tanzania                   0.504163                 -1.437066 -0.175455   \n",
       "Madagascar                -0.721536                 -1.590923 -1.326751   \n",
       "Chad                      -0.524551                 -1.319298 -1.059826   \n",
       "Guinea                    -0.765882                 -1.656836 -1.794359   \n",
       "Ivory Coast                0.560466                 -1.050569 -1.027135   \n",
       "Burkina Faso              -0.072393                 -1.491984 -0.759759   \n",
       "Benin                     -0.698018                 -1.434102 -1.989442   \n",
       "Burundi                    2.185369                 -1.945984 -1.885130   \n",
       "\n",
       "                     Health (Life Expectancy)   Freedom  \\\n",
       "Country                                                   \n",
       "Mauritius                            0.155006  0.897376   \n",
       "Nigeria                             -1.694860 -0.613922   \n",
       "Zambia                              -1.368405  0.355811   \n",
       "Somaliland region                   -0.952264  0.195710   \n",
       "Mozambique                          -1.827025 -0.632239   \n",
       "Lesotho                             -1.853826 -0.770216   \n",
       "Swaziland                           -1.854625 -0.836331   \n",
       "South Africa                        -1.426523 -0.683102   \n",
       "Ghana                               -1.073281 -0.096682   \n",
       "Zimbabwe                            -1.271387 -1.112644   \n",
       "Sudan                               -1.172818 -1.913991   \n",
       "Congo (Kinshasa)                    -1.814844 -1.291352   \n",
       "Ethiopia                            -0.946193 -0.021525   \n",
       "Sierra Leone                        -1.975846 -0.197159   \n",
       "Mauritania                          -1.202479 -1.202939   \n",
       "Kenya                               -1.031941 -0.105240   \n",
       "Djibouti                            -1.190219  0.159992   \n",
       "Botswana                            -1.901640  0.404161   \n",
       "Malawi                              -1.551391 -0.048488   \n",
       "Cameroon                            -1.531711  0.390665   \n",
       "Angola                              -1.680874 -1.900113   \n",
       "Mali                                -1.596576 -0.327350   \n",
       "Congo (Brazzaville)                 -1.338248 -0.155478   \n",
       "Comoros                             -1.189511 -1.274534   \n",
       "Uganda                              -1.260485  0.135702   \n",
       "Senegal                             -0.963327 -0.461238   \n",
       "Gabon                               -0.968887 -0.761389   \n",
       "Niger                               -1.374144  0.274409   \n",
       "Tanzania                            -1.132555 -0.703132   \n",
       "Madagascar                          -0.855274 -1.471535   \n",
       "Chad                                -1.715155 -1.242881   \n",
       "Guinea                              -1.517300 -0.400422   \n",
       "Ivory Coast                         -1.711621  0.215760   \n",
       "Burkina Faso                        -1.440802 -0.285899   \n",
       "Benin                               -1.314868  0.328668   \n",
       "Burundi                             -1.555245 -1.832151   \n",
       "\n",
       "                     Trust (Government Corruption)  Generosity  \\\n",
       "Country                                                          \n",
       "Mauritius                                -0.515490    1.193268   \n",
       "Nigeria                                  -1.111552    0.456823   \n",
       "Zambia                                    0.140024   -0.195999   \n",
       "Somaliland region                         1.767425    1.890424   \n",
       "Mozambique                                0.467377    0.045844   \n",
       "Lesotho                                   0.144128   -0.505995   \n",
       "Swaziland                                -1.301517   -0.322051   \n",
       "South Africa                             -0.315197   -0.974706   \n",
       "Ghana                                    -1.050454    0.116783   \n",
       "Zimbabwe                                 -0.431494   -0.252667   \n",
       "Sudan                                     0.375004   -0.245586   \n",
       "Congo (Kinshasa)                         -0.499618    0.263935   \n",
       "Ethiopia                                  0.413611    0.221661   \n",
       "Sierra Leone                             -0.329055   -0.023141   \n",
       "Mauritania                                0.635627    0.013405   \n",
       "Kenya                                    -0.786677    1.180589   \n",
       "Djibouti                                  1.331083   -0.338041   \n",
       "Botswana                                  0.140709   -1.147429   \n",
       "Malawi                                   -0.600165    0.889930   \n",
       "Cameroon                                 -0.795686   -0.101469   \n",
       "Angola                                   -0.577320   -0.933320   \n",
       "Mali                                      0.126741   -0.270565   \n",
       "Congo (Brazzaville)                       0.048720   -0.928437   \n",
       "Comoros                                   0.831716   -0.401459   \n",
       "Uganda                                   -0.554677    0.597460   \n",
       "Senegal                                  -0.070877   -0.081060   \n",
       "Gabon                                    -0.023601   -1.591594   \n",
       "Niger                                     0.470807   -0.215048   \n",
       "Tanzania                                 -0.802333    0.974901   \n",
       "Madagascar                               -0.424843   -0.036981   \n",
       "Chad                                     -0.885128   -0.309861   \n",
       "Guinea                                    0.102117    0.566567   \n",
       "Ivory Coast                               0.674740   -0.142886   \n",
       "Burkina Faso                              0.181129   -0.000126   \n",
       "Benin                                    -0.441727   -0.321955   \n",
       "Burundi                                  -0.154810   -0.183350   \n",
       "\n",
       "                     Dystopia Residual  \n",
       "Country                                 \n",
       "Mauritius                    -0.663902  \n",
       "Nigeria                       1.487460  \n",
       "Zambia                        0.974460  \n",
       "Somaliland region            -0.026847  \n",
       "Mozambique                    1.806513  \n",
       "Lesotho                       1.298128  \n",
       "Swaziland                     0.687380  \n",
       "South Africa                 -0.738693  \n",
       "Ghana                         0.347137  \n",
       "Zimbabwe                      0.600892  \n",
       "Sudan                         0.156965  \n",
       "Congo (Kinshasa)              1.435280  \n",
       "Ethiopia                      0.614078  \n",
       "Sierra Leone                  0.732514  \n",
       "Mauritania                   -0.013049  \n",
       "Kenya                        -0.620704  \n",
       "Djibouti                     -0.136447  \n",
       "Botswana                     -1.190421  \n",
       "Malawi                        1.317197  \n",
       "Cameroon                     -0.321388  \n",
       "Angola                       -0.323803  \n",
       "Mali                         -0.607451  \n",
       "Congo (Brazzaville)          -0.806585  \n",
       "Comoros                      -0.307827  \n",
       "Uganda                       -1.249147  \n",
       "Senegal                      -1.221168  \n",
       "Gabon                        -1.962432  \n",
       "Niger                        -0.452459  \n",
       "Tanzania                     -1.329306  \n",
       "Madagascar                   -0.502769  \n",
       "Chad                         -0.335559  \n",
       "Guinea                       -0.246197  \n",
       "Ivory Coast                  -1.267029  \n",
       "Burkina Faso                 -1.185025  \n",
       "Benin                        -0.891545  \n",
       "Burundi                      -0.535256  "
      ]
     },
     "execution_count": 1411,
     "metadata": {},
     "output_type": "execute_result"
    }
   ],
   "source": [
    "hpy[hpy[\"Region\"]==\"Sub-Saharan Africa\"].head(50)"
   ]
  },
  {
   "cell_type": "code",
   "execution_count": 1412,
   "metadata": {},
   "outputs": [],
   "source": [
    "hpy_ssa = hpy[hpy['Region'] == 'Sub-Saharan Africa']\n",
    "hpy_sa = hpy[hpy['Region'] == 'Southern Asia']\n",
    "hpy_cee = hpy[hpy['Region'] == 'Central and Eastern Europe']\n",
    "hpy_mena = hpy[hpy['Region'] == 'Middle East and Northern Africa']\n",
    "hpy_sea = hpy[hpy['Region'] == 'Southeastern Asia']\n",
    "hpy_ea = hpy[hpy['Region'] == 'Eastern Asia']\n",
    "hpy_lac = hpy[hpy['Region'] == 'Latin America and Caribbean']\n",
    "hpy_we = hpy[hpy['Region'] == 'Western Europe']\n",
    "hpy_na = hpy[hpy['Region'] == 'North America']\n",
    "hpy_anz = hpy[hpy['Region'] == 'Australia and New Zealand']"
   ]
  },
  {
   "cell_type": "code",
   "execution_count": 1413,
   "metadata": {},
   "outputs": [
    {
     "data": {
      "text/plain": [
       "0"
      ]
     },
     "execution_count": 1413,
     "metadata": {},
     "output_type": "execute_result"
    }
   ],
   "source": [
    "len(hpy_ssa[hpy_ssa['Happiness Score'] > 6])"
   ]
  },
  {
   "cell_type": "code",
   "execution_count": 1414,
   "metadata": {},
   "outputs": [
    {
     "name": "stdout",
     "output_type": "stream",
     "text": [
      "There are 0 countries in Sub-Saharan Africa that have a happiness score above 6.0 \n"
     ]
    }
   ],
   "source": [
    "print(\"There are {} countries in Sub-Saharan Africa that have a happiness score above 6.0 \".format(len(hpy_ssa[hpy_ssa['Happiness Score'] > 6])))"
   ]
  },
  {
   "cell_type": "code",
   "execution_count": 1415,
   "metadata": {},
   "outputs": [
    {
     "data": {
      "text/plain": [
       "0"
      ]
     },
     "execution_count": 1415,
     "metadata": {},
     "output_type": "execute_result"
    }
   ],
   "source": [
    "len(hpy_sa[hpy_sa['Happiness Score'] > 6])"
   ]
  },
  {
   "cell_type": "code",
   "execution_count": 1416,
   "metadata": {},
   "outputs": [
    {
     "name": "stdout",
     "output_type": "stream",
     "text": [
      "There are 0 countries in Southern Asia that have a happiness score above 6.0 \n"
     ]
    }
   ],
   "source": [
    "print(\"There are {} countries in Southern Asia that have a happiness score above 6.0 \".format(len(hpy_sa[hpy_sa['Happiness Score'] > 6])))"
   ]
  },
  {
   "cell_type": "code",
   "execution_count": 1417,
   "metadata": {
    "scrolled": false
   },
   "outputs": [
    {
     "data": {
      "text/plain": [
       "2"
      ]
     },
     "execution_count": 1417,
     "metadata": {},
     "output_type": "execute_result"
    }
   ],
   "source": [
    "len(hpy_cee[hpy_cee['Happiness Score'] > 6])"
   ]
  },
  {
   "cell_type": "code",
   "execution_count": 1418,
   "metadata": {},
   "outputs": [
    {
     "name": "stdout",
     "output_type": "stream",
     "text": [
      "There are 2 countries in Central and Eastern Europe that have a happiness score above 6.0 \n"
     ]
    }
   ],
   "source": [
    "print(\"There are {} countries in Central and Eastern Europe that have a happiness score above 6.0 \".format(len(hpy_cee[hpy_cee['Happiness Score'] > 6])))"
   ]
  },
  {
   "cell_type": "code",
   "execution_count": 1419,
   "metadata": {},
   "outputs": [
    {
     "data": {
      "text/plain": [
       "5"
      ]
     },
     "execution_count": 1419,
     "metadata": {},
     "output_type": "execute_result"
    }
   ],
   "source": [
    "len(hpy_mena[hpy_mena['Happiness Score'] > 6])"
   ]
  },
  {
   "cell_type": "code",
   "execution_count": 1420,
   "metadata": {},
   "outputs": [
    {
     "name": "stdout",
     "output_type": "stream",
     "text": [
      "There are 5 countries in Middle East and Northern Africa that have a happiness score above 6.0 \n"
     ]
    }
   ],
   "source": [
    "print(\"There are {} countries in Middle East and Northern Africa that have a happiness score above 6.0 \".format(len(hpy_mena[hpy_mena['Happiness Score'] > 6])))"
   ]
  },
  {
   "cell_type": "code",
   "execution_count": 1421,
   "metadata": {},
   "outputs": [
    {
     "data": {
      "text/plain": [
       "2"
      ]
     },
     "execution_count": 1421,
     "metadata": {},
     "output_type": "execute_result"
    }
   ],
   "source": [
    "len(hpy_sea[hpy_sea['Happiness Score'] > 6])"
   ]
  },
  {
   "cell_type": "code",
   "execution_count": 1422,
   "metadata": {},
   "outputs": [
    {
     "name": "stdout",
     "output_type": "stream",
     "text": [
      "There are 2 countries in Southeastern Asia that have a happiness score above 6.0 \n"
     ]
    }
   ],
   "source": [
    "print(\"There are {} countries in Southeastern Asia that have a happiness score above 6.0 \".format(len(hpy_sea[hpy_sea['Happiness Score'] > 6])))\n"
   ]
  },
  {
   "cell_type": "code",
   "execution_count": 1423,
   "metadata": {
    "scrolled": true
   },
   "outputs": [
    {
     "data": {
      "text/plain": [
       "1"
      ]
     },
     "execution_count": 1423,
     "metadata": {},
     "output_type": "execute_result"
    }
   ],
   "source": [
    "len(hpy_ea[hpy_ea['Happiness Score'] > 6])"
   ]
  },
  {
   "cell_type": "code",
   "execution_count": 1424,
   "metadata": {},
   "outputs": [
    {
     "name": "stdout",
     "output_type": "stream",
     "text": [
      "There are 1 countries in Eastern Asia that have a happiness score above 6.0 \n"
     ]
    }
   ],
   "source": [
    "print(\"There are {} countries in Eastern Asia that have a happiness score above 6.0 \".format(len(hpy_ea[hpy_ea['Happiness Score'] > 6])))\n"
   ]
  },
  {
   "cell_type": "code",
   "execution_count": 1425,
   "metadata": {},
   "outputs": [
    {
     "data": {
      "text/plain": [
       "12"
      ]
     },
     "execution_count": 1425,
     "metadata": {},
     "output_type": "execute_result"
    }
   ],
   "source": [
    "len(hpy_lac[hpy_lac['Happiness Score'] > 6])"
   ]
  },
  {
   "cell_type": "code",
   "execution_count": 1426,
   "metadata": {},
   "outputs": [
    {
     "name": "stdout",
     "output_type": "stream",
     "text": [
      "There are 12 countries in Latin America and Caribbean that have a happiness score above 6.0 \n"
     ]
    }
   ],
   "source": [
    "print(\"There are {} countries in Latin America and Caribbean that have a happiness score above 6.0 \".format(len(hpy_lac[hpy_lac['Happiness Score'] > 6])))"
   ]
  },
  {
   "cell_type": "code",
   "execution_count": 1427,
   "metadata": {},
   "outputs": [
    {
     "data": {
      "text/plain": [
       "16"
      ]
     },
     "execution_count": 1427,
     "metadata": {},
     "output_type": "execute_result"
    }
   ],
   "source": [
    "len(hpy_we[hpy_we['Happiness Score'] > 6])"
   ]
  },
  {
   "cell_type": "code",
   "execution_count": 1428,
   "metadata": {},
   "outputs": [
    {
     "name": "stdout",
     "output_type": "stream",
     "text": [
      "There are 16 countries in Western Europe that have a happiness score above 6.0 \n"
     ]
    }
   ],
   "source": [
    "\n",
    "print(\"There are {} countries in Western Europe that have a happiness score above 6.0 \".format(len(hpy_we[hpy_we['Happiness Score'] > 6])))"
   ]
  },
  {
   "cell_type": "code",
   "execution_count": 1429,
   "metadata": {},
   "outputs": [
    {
     "data": {
      "text/plain": [
       "2"
      ]
     },
     "execution_count": 1429,
     "metadata": {},
     "output_type": "execute_result"
    }
   ],
   "source": [
    "len(hpy_na[hpy_na['Happiness Score'] > 6])"
   ]
  },
  {
   "cell_type": "code",
   "execution_count": 1430,
   "metadata": {},
   "outputs": [
    {
     "name": "stdout",
     "output_type": "stream",
     "text": [
      "There are 2 countries in North America that have a happiness score above 6.0 \n"
     ]
    }
   ],
   "source": [
    "print(\"There are {} countries in North America that have a happiness score above 6.0 \".format(len(hpy_na[hpy_na['Happiness Score'] > 6])))"
   ]
  },
  {
   "cell_type": "code",
   "execution_count": 1431,
   "metadata": {
    "scrolled": true
   },
   "outputs": [
    {
     "data": {
      "text/plain": [
       "2"
      ]
     },
     "execution_count": 1431,
     "metadata": {},
     "output_type": "execute_result"
    }
   ],
   "source": [
    "len(hpy_anz[hpy_anz['Happiness Score'] > 6])"
   ]
  },
  {
   "cell_type": "code",
   "execution_count": 1432,
   "metadata": {},
   "outputs": [
    {
     "name": "stdout",
     "output_type": "stream",
     "text": [
      "There are 2 countries in Australia and New Zealand that have a happiness score above 6.0 \n"
     ]
    }
   ],
   "source": [
    "print(\"There are {} countries in Australia and New Zealand that have a happiness score above 6.0 \".format(len(hpy_anz[hpy_anz['Happiness Score'] > 6])))"
   ]
  },
  {
   "cell_type": "code",
   "execution_count": null,
   "metadata": {},
   "outputs": [],
   "source": []
  },
  {
   "cell_type": "code",
   "execution_count": 1433,
   "metadata": {},
   "outputs": [
    {
     "data": {
      "text/plain": [
       "2.5720000000000005"
      ]
     },
     "execution_count": 1433,
     "metadata": {},
     "output_type": "execute_result"
    }
   ],
   "source": [
    "d_ssa=hpy_ssa.max(axis=0)['Happiness Score'] - hpy_ssa.min(axis=0)['Happiness Score']\n",
    "d_ssa"
   ]
  },
  {
   "cell_type": "code",
   "execution_count": 1434,
   "metadata": {},
   "outputs": [
    {
     "data": {
      "text/plain": [
       "1.677999999999999"
      ]
     },
     "execution_count": 1434,
     "metadata": {},
     "output_type": "execute_result"
    }
   ],
   "source": [
    "d_sa=hpy_sa.max(axis=0)['Happiness Score'] - hpy_sa.min(axis=0)['Happiness Score']\n",
    "d_sa"
   ]
  },
  {
   "cell_type": "code",
   "execution_count": 1435,
   "metadata": {},
   "outputs": [
    {
     "data": {
      "text/plain": [
       "2.287"
      ]
     },
     "execution_count": 1435,
     "metadata": {},
     "output_type": "execute_result"
    }
   ],
   "source": [
    "d_cee=hpy_cee.max(axis=0)['Happiness Score'] - hpy_cee.min(axis=0)['Happiness Score']\n",
    "d_cee\n"
   ]
  },
  {
   "cell_type": "code",
   "execution_count": 1436,
   "metadata": {},
   "outputs": [
    {
     "data": {
      "text/plain": [
       "4.271999999999999"
      ]
     },
     "execution_count": 1436,
     "metadata": {},
     "output_type": "execute_result"
    }
   ],
   "source": [
    "d_mena=hpy_mena.max(axis=0)['Happiness Score'] - hpy_mena.min(axis=0)['Happiness Score']\n",
    "d_mena"
   ]
  },
  {
   "cell_type": "code",
   "execution_count": 1437,
   "metadata": {},
   "outputs": [
    {
     "data": {
      "text/plain": [
       "2.978999999999999"
      ]
     },
     "execution_count": 1437,
     "metadata": {},
     "output_type": "execute_result"
    }
   ],
   "source": [
    "d_sea=hpy_sea.max(axis=0)['Happiness Score'] - hpy_sea.min(axis=0)['Happiness Score']\n",
    "d_sea"
   ]
  },
  {
   "cell_type": "code",
   "execution_count": 1438,
   "metadata": {},
   "outputs": [
    {
     "data": {
      "text/plain": [
       "1.4239999999999995"
      ]
     },
     "execution_count": 1438,
     "metadata": {},
     "output_type": "execute_result"
    }
   ],
   "source": [
    "d_ea=hpy_ea.max(axis=0)['Happiness Score'] - hpy_ea.min(axis=0)['Happiness Score']\n",
    "d_ea\n"
   ]
  },
  {
   "cell_type": "code",
   "execution_count": 1439,
   "metadata": {},
   "outputs": [
    {
     "data": {
      "text/plain": [
       "2.708"
      ]
     },
     "execution_count": 1439,
     "metadata": {},
     "output_type": "execute_result"
    }
   ],
   "source": [
    "d_lac=hpy_lac.max(axis=0)['Happiness Score'] - hpy_lac.min(axis=0)['Happiness Score']\n",
    "d_lac"
   ]
  },
  {
   "cell_type": "code",
   "execution_count": 1440,
   "metadata": {},
   "outputs": [
    {
     "data": {
      "text/plain": [
       "2.7300000000000004"
      ]
     },
     "execution_count": 1440,
     "metadata": {},
     "output_type": "execute_result"
    }
   ],
   "source": [
    "d_we=hpy_we.max(axis=0)['Happiness Score'] - hpy_we.min(axis=0)['Happiness Score']\n",
    "d_we\n"
   ]
  },
  {
   "cell_type": "code",
   "execution_count": 1441,
   "metadata": {},
   "outputs": [
    {
     "data": {
      "text/plain": [
       "0.3080000000000007"
      ]
     },
     "execution_count": 1441,
     "metadata": {},
     "output_type": "execute_result"
    }
   ],
   "source": [
    "d_na=hpy_na.max(axis=0)['Happiness Score'] - hpy_na.min(axis=0)['Happiness Score']\n",
    "d_na"
   ]
  },
  {
   "cell_type": "code",
   "execution_count": 1442,
   "metadata": {},
   "outputs": [
    {
     "data": {
      "text/plain": [
       "0.002000000000000668"
      ]
     },
     "execution_count": 1442,
     "metadata": {},
     "output_type": "execute_result"
    }
   ],
   "source": [
    "d_anz=hpy_anz.max(axis=0)['Happiness Score'] - hpy_anz.min(axis=0)['Happiness Score']\n",
    "d_anz"
   ]
  },
  {
   "cell_type": "code",
   "execution_count": null,
   "metadata": {},
   "outputs": [],
   "source": []
  },
  {
   "cell_type": "code",
   "execution_count": 1443,
   "metadata": {},
   "outputs": [],
   "source": [
    "deltas = {}"
   ]
  },
  {
   "cell_type": "code",
   "execution_count": 1444,
   "metadata": {},
   "outputs": [],
   "source": [
    "deltas[\"Sub-Saharan Africa\"] = d_ssa\n",
    "deltas[\"Southern Asia\"] = d_sa\n",
    "deltas[\"Central and Eastern Europe\"] = d_cee\n",
    "deltas[\"Middle East and Northern Africa\"] = d_mena\n",
    "deltas[\"Southeastern Asia\"] = d_sea\n",
    "deltas[\"Eastern Asia\"] = d_ea\n",
    "deltas[\"Latin America and Caribbean\"] = d_lac\n",
    "deltas[\"Western Europe\"] = d_we\n",
    "deltas[\"North America\"] = d_na\n",
    "deltas[\"Australia and New Zealand\"] = d_anz"
   ]
  },
  {
   "cell_type": "code",
   "execution_count": 1445,
   "metadata": {},
   "outputs": [
    {
     "name": "stdout",
     "output_type": "stream",
     "text": [
      "The Middle East and Northern Africa region seems to have the largest range of happiness scores\n"
     ]
    }
   ],
   "source": [
    "print(\"The {} region seems to have the largest range of happiness scores\".format(max(deltas, key=deltas.get)))"
   ]
  },
  {
   "cell_type": "markdown",
   "metadata": {},
   "source": [
    "# Bar plot of the Happiness Score"
   ]
  },
  {
   "cell_type": "code",
   "execution_count": 1446,
   "metadata": {},
   "outputs": [
    {
     "data": {
      "text/plain": [
       "Text(0.5, 1.0, 'Happiness Score of the top 5 Countries')"
      ]
     },
     "execution_count": 1446,
     "metadata": {},
     "output_type": "execute_result"
    },
    {
     "data": {
      "image/png": "[encoded data removed]",
      "text/plain": [
       "<Figure size 720x720 with 1 Axes>"
      ]
     },
     "metadata": {
      "needs_background": "light"
     },
     "output_type": "display_data"
    }
   ],
   "source": [
    "hpy['Happiness Score'].head().plot(xticks=np.arange(9), kind='barh', figsize= (10, 10))\n",
    "plt.xlabel(\"Happiness Score\")\n",
    "plt.title('Happiness Score of the top 5 Countries')"
   ]
  },
  {
   "cell_type": "code",
   "execution_count": 1447,
   "metadata": {},
   "outputs": [
    {
     "data": {
      "text/plain": [
       "<matplotlib.legend.Legend at 0x25798feb2e0>"
      ]
     },
     "execution_count": 1447,
     "metadata": {},
     "output_type": "execute_result"
    },
    {
     "data": {
      "image/png": "[encoded data removed]",
      "text/plain": [
       "<Figure size 720x720 with 1 Axes>"
      ]
     },
     "metadata": {
      "needs_background": "light"
     },
     "output_type": "display_data"
    }
   ],
   "source": [
    "hpy[['Economy (GDP per Capita)', 'Family','Health (Life Expectancy)', 'Freedom', 'Trust (Government Corruption)', 'Generosity', 'Dystopia Residual']].head().plot(kind='barh',\n",
    "                                                                xticks=np.arange(9), stacked=True, figsize= (10, 10))\n",
    "\n",
    "plt.xlabel(\"Happiness Score\")\n",
    "plt.title('Happiness Score of the top 5 Countries')\n",
    "plt.legend(bbox_to_anchor=(1.05, 1), loc=2, borderaxespad=0.)"
   ]
  },
  {
   "cell_type": "code",
   "execution_count": null,
   "metadata": {},
   "outputs": [],
   "source": []
  },
  {
   "cell_type": "code",
   "execution_count": 1482,
   "metadata": {
    "scrolled": true
   },
   "outputs": [
    {
     "data": {
      "text/plain": [
       "<matplotlib.legend.Legend at 0x257a68d1160>"
      ]
     },
     "execution_count": 1482,
     "metadata": {},
     "output_type": "execute_result"
    },
    {
     "data": {
      "image/png": "[encoded data removed]",
      "text/plain": [
       "<Figure size 720x720 with 1 Axes>"
      ]
     },
     "metadata": {
      "needs_background": "light"
     },
     "output_type": "display_data"
    }
   ],
   "source": [
    "hpy_mena[['Economy (GDP per Capita)', 'Family','Health (Life Expectancy)', 'Freedom', 'Trust (Government Corruption)', 'Generosity', 'Dystopia Residual']].head().plot(kind='barh',\n",
    "                                                                xticks=np.arange(9), stacked=True, figsize= (10, 10))\n",
    "\n",
    "plt.xlabel(\"Happiness Score\")\n",
    "plt.title('Happiness Score of the top 5 Countries in Middle East and Northern Africa region')\n",
    "plt.legend(bbox_to_anchor=(1.05, 1), loc=2, borderaxespad=0.)"
   ]
  },
  {
   "cell_type": "code",
   "execution_count": null,
   "metadata": {},
   "outputs": [],
   "source": []
  },
  {
   "cell_type": "markdown",
   "metadata": {},
   "source": [
    "# Pairwise Scatter plots"
   ]
  },
  {
   "cell_type": "code",
   "execution_count": 1449,
   "metadata": {},
   "outputs": [
    {
     "data": {
      "text/plain": [
       "<seaborn.axisgrid.PairGrid at 0x257a150c340>"
      ]
     },
     "execution_count": 1449,
     "metadata": {},
     "output_type": "execute_result"
    },
    {
     "data": {
      "image/png": "[encoded data removed]",
      "text/plain": [
       "<Figure size 288x2016 with 7 Axes>"
      ]
     },
     "metadata": {
      "needs_background": "light"
     },
     "output_type": "display_data"
    }
   ],
   "source": [
    "sns.pairplot(data=hpy, kind='reg', size = 4,\n",
    "                  x_vars=['Happiness Score'],\n",
    "                  y_vars=['Economy (GDP per Capita)', 'Family','Health (Life Expectancy)', 'Freedom', 'Trust (Government Corruption)', 'Generosity', 'Dystopia Residual'])"
   ]
  },
  {
   "cell_type": "code",
   "execution_count": null,
   "metadata": {},
   "outputs": [],
   "source": []
  },
  {
   "cell_type": "code",
   "execution_count": 1450,
   "metadata": {},
   "outputs": [
    {
     "data": {
      "text/plain": [
       "<seaborn.axisgrid.PairGrid at 0x257a523c100>"
      ]
     },
     "execution_count": 1450,
     "metadata": {},
     "output_type": "execute_result"
    },
    {
     "data": {
      "image/png": "[encoded data removed]",
      "text/plain": [
       "<Figure size 555.25x2520 with 7 Axes>"
      ]
     },
     "metadata": {
      "needs_background": "light"
     },
     "output_type": "display_data"
    }
   ],
   "source": [
    "sns.pairplot(data=hpy, size = 5, hue='Region',\n",
    "                  x_vars=['Happiness Score'],\n",
    "                  y_vars=['Economy (GDP per Capita)', 'Family','Health (Life Expectancy)', 'Freedom', 'Trust (Government Corruption)', 'Generosity', 'Dystopia Residual'])"
   ]
  },
  {
   "cell_type": "code",
   "execution_count": null,
   "metadata": {},
   "outputs": [],
   "source": []
  },
  {
   "cell_type": "markdown",
   "metadata": {},
   "source": [
    "# Correlation"
   ]
  },
  {
   "cell_type": "code",
   "execution_count": null,
   "metadata": {},
   "outputs": [],
   "source": []
  },
  {
   "cell_type": "code",
   "execution_count": 1451,
   "metadata": {
    "scrolled": true
   },
   "outputs": [
    {
     "data": {
      "text/plain": [
       "Happiness Score                  1.000000\n",
       "Economy (GDP per Capita)         0.776888\n",
       "Family                           0.759381\n",
       "Health (Life Expectancy)         0.741547\n",
       "Freedom                          0.612842\n",
       "Dystopia Residual                0.547650\n",
       "Trust (Government Corruption)    0.387637\n",
       "Generosity                       0.200467\n",
       "Standard Error                  -0.242456\n",
       "Happiness Rank                  -0.992503\n",
       "Name: Happiness Score, dtype: float64"
      ]
     },
     "execution_count": 1451,
     "metadata": {},
     "output_type": "execute_result"
    }
   ],
   "source": [
    "hpy.corr(method=\"pearson\", min_periods=20)[\"Happiness Score\"].sort_values(ascending=False)"
   ]
  },
  {
   "cell_type": "markdown",
   "metadata": {},
   "source": [
    "Happiness Score has highest correlation with Economy (GDP per Capita)"
   ]
  },
  {
   "cell_type": "code",
   "execution_count": 1452,
   "metadata": {},
   "outputs": [
    {
     "data": {
      "text/plain": [
       "Happiness Score                  1.000000\n",
       "Happiness Rank                   0.992503\n",
       "Economy (GDP per Capita)         0.776888\n",
       "Family                           0.759381\n",
       "Health (Life Expectancy)         0.741547\n",
       "Freedom                          0.612842\n",
       "Dystopia Residual                0.547650\n",
       "Trust (Government Corruption)    0.387637\n",
       "Standard Error                   0.242456\n",
       "Generosity                       0.200467\n",
       "Name: Happiness Score, dtype: float64"
      ]
     },
     "execution_count": 1452,
     "metadata": {},
     "output_type": "execute_result"
    }
   ],
   "source": [
    "hpy.corr(method=\"pearson\", min_periods=20)[\"Happiness Score\"].abs().sort_values(ascending=False)"
   ]
  },
  {
   "cell_type": "markdown",
   "metadata": {},
   "source": [
    "Happiness Score has highest correlation with Economy (GDP per Capita)"
   ]
  },
  {
   "cell_type": "code",
   "execution_count": 1453,
   "metadata": {},
   "outputs": [
    {
     "data": {
      "text/html": [
       "<div>\n",
       "<style scoped>\n",
       "    .dataframe tbody tr th:only-of-type {\n",
       "        vertical-align: middle;\n",
       "    }\n",
       "\n",
       "    .dataframe tbody tr th {\n",
       "        vertical-align: top;\n",
       "    }\n",
       "\n",
       "    .dataframe thead th {\n",
       "        text-align: right;\n",
       "    }\n",
       "</style>\n",
       "<table border=\"1\" class=\"dataframe\">\n",
       "  <thead>\n",
       "    <tr style=\"text-align: right;\">\n",
       "      <th></th>\n",
       "      <th>Happiness Rank</th>\n",
       "      <th>Happiness Score</th>\n",
       "      <th>Standard Error</th>\n",
       "      <th>Economy (GDP per Capita)</th>\n",
       "      <th>Family</th>\n",
       "      <th>Health (Life Expectancy)</th>\n",
       "      <th>Freedom</th>\n",
       "      <th>Trust (Government Corruption)</th>\n",
       "      <th>Generosity</th>\n",
       "      <th>Dystopia Residual</th>\n",
       "    </tr>\n",
       "  </thead>\n",
       "  <tbody>\n",
       "    <tr>\n",
       "      <th>Happiness Rank</th>\n",
       "      <td>1.000000</td>\n",
       "      <td>-0.992503</td>\n",
       "      <td>0.225466</td>\n",
       "      <td>-0.778015</td>\n",
       "      <td>-0.755514</td>\n",
       "      <td>-0.749755</td>\n",
       "      <td>-0.596251</td>\n",
       "      <td>-0.364854</td>\n",
       "      <td>-0.182046</td>\n",
       "      <td>-0.539933</td>\n",
       "    </tr>\n",
       "    <tr>\n",
       "      <th>Happiness Score</th>\n",
       "      <td>-0.992503</td>\n",
       "      <td>1.000000</td>\n",
       "      <td>-0.242456</td>\n",
       "      <td>0.776888</td>\n",
       "      <td>0.759381</td>\n",
       "      <td>0.741547</td>\n",
       "      <td>0.612842</td>\n",
       "      <td>0.387637</td>\n",
       "      <td>0.200467</td>\n",
       "      <td>0.547650</td>\n",
       "    </tr>\n",
       "    <tr>\n",
       "      <th>Standard Error</th>\n",
       "      <td>0.225466</td>\n",
       "      <td>-0.242456</td>\n",
       "      <td>1.000000</td>\n",
       "      <td>-0.243912</td>\n",
       "      <td>-0.190353</td>\n",
       "      <td>-0.319370</td>\n",
       "      <td>-0.217135</td>\n",
       "      <td>-0.107425</td>\n",
       "      <td>-0.130438</td>\n",
       "      <td>0.008333</td>\n",
       "    </tr>\n",
       "    <tr>\n",
       "      <th>Economy (GDP per Capita)</th>\n",
       "      <td>-0.778015</td>\n",
       "      <td>0.776888</td>\n",
       "      <td>-0.243912</td>\n",
       "      <td>1.000000</td>\n",
       "      <td>0.650297</td>\n",
       "      <td>0.841933</td>\n",
       "      <td>0.412947</td>\n",
       "      <td>0.269698</td>\n",
       "      <td>0.001045</td>\n",
       "      <td>0.041325</td>\n",
       "    </tr>\n",
       "    <tr>\n",
       "      <th>Family</th>\n",
       "      <td>-0.755514</td>\n",
       "      <td>0.759381</td>\n",
       "      <td>-0.190353</td>\n",
       "      <td>0.650297</td>\n",
       "      <td>1.000000</td>\n",
       "      <td>0.557728</td>\n",
       "      <td>0.541681</td>\n",
       "      <td>0.225295</td>\n",
       "      <td>0.154234</td>\n",
       "      <td>0.167973</td>\n",
       "    </tr>\n",
       "    <tr>\n",
       "      <th>Health (Life Expectancy)</th>\n",
       "      <td>-0.749755</td>\n",
       "      <td>0.741547</td>\n",
       "      <td>-0.319370</td>\n",
       "      <td>0.841933</td>\n",
       "      <td>0.557728</td>\n",
       "      <td>1.000000</td>\n",
       "      <td>0.418207</td>\n",
       "      <td>0.201277</td>\n",
       "      <td>0.122306</td>\n",
       "      <td>0.037866</td>\n",
       "    </tr>\n",
       "    <tr>\n",
       "      <th>Freedom</th>\n",
       "      <td>-0.596251</td>\n",
       "      <td>0.612842</td>\n",
       "      <td>-0.217135</td>\n",
       "      <td>0.412947</td>\n",
       "      <td>0.541681</td>\n",
       "      <td>0.418207</td>\n",
       "      <td>1.000000</td>\n",
       "      <td>0.496279</td>\n",
       "      <td>0.419723</td>\n",
       "      <td>0.095612</td>\n",
       "    </tr>\n",
       "    <tr>\n",
       "      <th>Trust (Government Corruption)</th>\n",
       "      <td>-0.364854</td>\n",
       "      <td>0.387637</td>\n",
       "      <td>-0.107425</td>\n",
       "      <td>0.269698</td>\n",
       "      <td>0.225295</td>\n",
       "      <td>0.201277</td>\n",
       "      <td>0.496279</td>\n",
       "      <td>1.000000</td>\n",
       "      <td>0.271053</td>\n",
       "      <td>0.083117</td>\n",
       "    </tr>\n",
       "    <tr>\n",
       "      <th>Generosity</th>\n",
       "      <td>-0.182046</td>\n",
       "      <td>0.200467</td>\n",
       "      <td>-0.130438</td>\n",
       "      <td>0.001045</td>\n",
       "      <td>0.154234</td>\n",
       "      <td>0.122306</td>\n",
       "      <td>0.419723</td>\n",
       "      <td>0.271053</td>\n",
       "      <td>1.000000</td>\n",
       "      <td>-0.053678</td>\n",
       "    </tr>\n",
       "    <tr>\n",
       "      <th>Dystopia Residual</th>\n",
       "      <td>-0.539933</td>\n",
       "      <td>0.547650</td>\n",
       "      <td>0.008333</td>\n",
       "      <td>0.041325</td>\n",
       "      <td>0.167973</td>\n",
       "      <td>0.037866</td>\n",
       "      <td>0.095612</td>\n",
       "      <td>0.083117</td>\n",
       "      <td>-0.053678</td>\n",
       "      <td>1.000000</td>\n",
       "    </tr>\n",
       "  </tbody>\n",
       "</table>\n",
       "</div>"
      ],
      "text/plain": [
       "                               Happiness Rank  Happiness Score  \\\n",
       "Happiness Rank                       1.000000        -0.992503   \n",
       "Happiness Score                     -0.992503         1.000000   \n",
       "Standard Error                       0.225466        -0.242456   \n",
       "Economy (GDP per Capita)            -0.778015         0.776888   \n",
       "Family                              -0.755514         0.759381   \n",
       "Health (Life Expectancy)            -0.749755         0.741547   \n",
       "Freedom                             -0.596251         0.612842   \n",
       "Trust (Government Corruption)       -0.364854         0.387637   \n",
       "Generosity                          -0.182046         0.200467   \n",
       "Dystopia Residual                   -0.539933         0.547650   \n",
       "\n",
       "                               Standard Error  Economy (GDP per Capita)  \\\n",
       "Happiness Rank                       0.225466                 -0.778015   \n",
       "Happiness Score                     -0.242456                  0.776888   \n",
       "Standard Error                       1.000000                 -0.243912   \n",
       "Economy (GDP per Capita)            -0.243912                  1.000000   \n",
       "Family                              -0.190353                  0.650297   \n",
       "Health (Life Expectancy)            -0.319370                  0.841933   \n",
       "Freedom                             -0.217135                  0.412947   \n",
       "Trust (Government Corruption)       -0.107425                  0.269698   \n",
       "Generosity                          -0.130438                  0.001045   \n",
       "Dystopia Residual                    0.008333                  0.041325   \n",
       "\n",
       "                                 Family  Health (Life Expectancy)   Freedom  \\\n",
       "Happiness Rank                -0.755514                 -0.749755 -0.596251   \n",
       "Happiness Score                0.759381                  0.741547  0.612842   \n",
       "Standard Error                -0.190353                 -0.319370 -0.217135   \n",
       "Economy (GDP per Capita)       0.650297                  0.841933  0.412947   \n",
       "Family                         1.000000                  0.557728  0.541681   \n",
       "Health (Life Expectancy)       0.557728                  1.000000  0.418207   \n",
       "Freedom                        0.541681                  0.418207  1.000000   \n",
       "Trust (Government Corruption)  0.225295                  0.201277  0.496279   \n",
       "Generosity                     0.154234                  0.122306  0.419723   \n",
       "Dystopia Residual              0.167973                  0.037866  0.095612   \n",
       "\n",
       "                               Trust (Government Corruption)  Generosity  \\\n",
       "Happiness Rank                                     -0.364854   -0.182046   \n",
       "Happiness Score                                     0.387637    0.200467   \n",
       "Standard Error                                     -0.107425   -0.130438   \n",
       "Economy (GDP per Capita)                            0.269698    0.001045   \n",
       "Family                                              0.225295    0.154234   \n",
       "Health (Life Expectancy)                            0.201277    0.122306   \n",
       "Freedom                                             0.496279    0.419723   \n",
       "Trust (Government Corruption)                       1.000000    0.271053   \n",
       "Generosity                                          0.271053    1.000000   \n",
       "Dystopia Residual                                   0.083117   -0.053678   \n",
       "\n",
       "                               Dystopia Residual  \n",
       "Happiness Rank                         -0.539933  \n",
       "Happiness Score                         0.547650  \n",
       "Standard Error                          0.008333  \n",
       "Economy (GDP per Capita)                0.041325  \n",
       "Family                                  0.167973  \n",
       "Health (Life Expectancy)                0.037866  \n",
       "Freedom                                 0.095612  \n",
       "Trust (Government Corruption)           0.083117  \n",
       "Generosity                             -0.053678  \n",
       "Dystopia Residual                       1.000000  "
      ]
     },
     "execution_count": 1453,
     "metadata": {},
     "output_type": "execute_result"
    }
   ],
   "source": [
    "hpy.corr(method=\"pearson\", min_periods=20)"
   ]
  },
  {
   "cell_type": "code",
   "execution_count": 1454,
   "metadata": {},
   "outputs": [
    {
     "data": {
      "text/plain": [
       "<AxesSubplot:>"
      ]
     },
     "execution_count": 1454,
     "metadata": {},
     "output_type": "execute_result"
    },
    {
     "data": {
      "image/png": "[encoded data removed]",
      "text/plain": [
       "<Figure size 720x720 with 2 Axes>"
      ]
     },
     "metadata": {
      "needs_background": "light"
     },
     "output_type": "display_data"
    }
   ],
   "source": [
    "corr = hpy.corr(method = \"pearson\")\n",
    "\n",
    "f, ax = plt.subplots(figsize=(10, 10))\n",
    "\n",
    "sns.heatmap(corr, mask=np.zeros_like(corr, dtype=np.bool), \n",
    "            cmap=sns.diverging_palette(220, 10, as_cmap=True), square=True, ax=ax)"
   ]
  },
  {
   "cell_type": "code",
   "execution_count": 1455,
   "metadata": {},
   "outputs": [
    {
     "data": {
      "text/html": [
       "<div>\n",
       "<style scoped>\n",
       "    .dataframe tbody tr th:only-of-type {\n",
       "        vertical-align: middle;\n",
       "    }\n",
       "\n",
       "    .dataframe tbody tr th {\n",
       "        vertical-align: top;\n",
       "    }\n",
       "\n",
       "    .dataframe thead th {\n",
       "        text-align: right;\n",
       "    }\n",
       "</style>\n",
       "<table border=\"1\" class=\"dataframe\">\n",
       "  <thead>\n",
       "    <tr style=\"text-align: right;\">\n",
       "      <th></th>\n",
       "      <th>Region</th>\n",
       "      <th>Happiness Rank</th>\n",
       "      <th>Happiness Score</th>\n",
       "      <th>Standard Error</th>\n",
       "      <th>Economy (GDP per Capita)</th>\n",
       "      <th>Family</th>\n",
       "      <th>Health (Life Expectancy)</th>\n",
       "      <th>Freedom</th>\n",
       "      <th>Trust (Government Corruption)</th>\n",
       "      <th>Generosity</th>\n",
       "      <th>Dystopia Residual</th>\n",
       "    </tr>\n",
       "    <tr>\n",
       "      <th>Country</th>\n",
       "      <th></th>\n",
       "      <th></th>\n",
       "      <th></th>\n",
       "      <th></th>\n",
       "      <th></th>\n",
       "      <th></th>\n",
       "      <th></th>\n",
       "      <th></th>\n",
       "      <th></th>\n",
       "      <th></th>\n",
       "      <th></th>\n",
       "    </tr>\n",
       "  </thead>\n",
       "  <tbody>\n",
       "    <tr>\n",
       "      <th>Switzerland</th>\n",
       "      <td>Western Europe</td>\n",
       "      <td>1</td>\n",
       "      <td>7.587</td>\n",
       "      <td>-0.955872</td>\n",
       "      <td>1.496510</td>\n",
       "      <td>1.655648</td>\n",
       "      <td>1.475144</td>\n",
       "      <td>1.752366</td>\n",
       "      <td>1.821002</td>\n",
       "      <td>0.643176</td>\n",
       "      <td>0.746637</td>\n",
       "    </tr>\n",
       "    <tr>\n",
       "      <th>Iceland</th>\n",
       "      <td>Western Europe</td>\n",
       "      <td>2</td>\n",
       "      <td>7.561</td>\n",
       "      <td>0.375437</td>\n",
       "      <td>1.199139</td>\n",
       "      <td>2.001641</td>\n",
       "      <td>1.517110</td>\n",
       "      <td>1.442860</td>\n",
       "      <td>0.322424</td>\n",
       "      <td>1.540959</td>\n",
       "      <td>1.107506</td>\n",
       "    </tr>\n",
       "    <tr>\n",
       "      <th>Denmark</th>\n",
       "      <td>Western Europe</td>\n",
       "      <td>3</td>\n",
       "      <td>7.527</td>\n",
       "      <td>-1.046999</td>\n",
       "      <td>1.271461</td>\n",
       "      <td>1.726698</td>\n",
       "      <td>1.056051</td>\n",
       "      <td>1.614911</td>\n",
       "      <td>1.959024</td>\n",
       "      <td>0.958881</td>\n",
       "      <td>0.697586</td>\n",
       "    </tr>\n",
       "    <tr>\n",
       "      <th>Norway</th>\n",
       "      <td>Western Europe</td>\n",
       "      <td>4</td>\n",
       "      <td>7.522</td>\n",
       "      <td>-0.476127</td>\n",
       "      <td>1.698523</td>\n",
       "      <td>1.538407</td>\n",
       "      <td>1.120195</td>\n",
       "      <td>1.788013</td>\n",
       "      <td>1.665595</td>\n",
       "      <td>0.996449</td>\n",
       "      <td>0.645970</td>\n",
       "    </tr>\n",
       "    <tr>\n",
       "      <th>Canada</th>\n",
       "      <td>North America</td>\n",
       "      <td>5</td>\n",
       "      <td>7.427</td>\n",
       "      <td>-0.804436</td>\n",
       "      <td>1.274000</td>\n",
       "      <td>1.486485</td>\n",
       "      <td>1.246418</td>\n",
       "      <td>1.477656</td>\n",
       "      <td>1.541009</td>\n",
       "      <td>1.659879</td>\n",
       "      <td>0.619855</td>\n",
       "    </tr>\n",
       "  </tbody>\n",
       "</table>\n",
       "</div>"
      ],
      "text/plain": [
       "                     Region  Happiness Rank  Happiness Score  Standard Error  \\\n",
       "Country                                                                        \n",
       "Switzerland  Western Europe               1            7.587       -0.955872   \n",
       "Iceland      Western Europe               2            7.561        0.375437   \n",
       "Denmark      Western Europe               3            7.527       -1.046999   \n",
       "Norway       Western Europe               4            7.522       -0.476127   \n",
       "Canada        North America               5            7.427       -0.804436   \n",
       "\n",
       "             Economy (GDP per Capita)    Family  Health (Life Expectancy)  \\\n",
       "Country                                                                     \n",
       "Switzerland                  1.496510  1.655648                  1.475144   \n",
       "Iceland                      1.199139  2.001641                  1.517110   \n",
       "Denmark                      1.271461  1.726698                  1.056051   \n",
       "Norway                       1.698523  1.538407                  1.120195   \n",
       "Canada                       1.274000  1.486485                  1.246418   \n",
       "\n",
       "              Freedom  Trust (Government Corruption)  Generosity  \\\n",
       "Country                                                            \n",
       "Switzerland  1.752366                       1.821002    0.643176   \n",
       "Iceland      1.442860                       0.322424    1.540959   \n",
       "Denmark      1.614911                       1.959024    0.958881   \n",
       "Norway       1.788013                       1.665595    0.996449   \n",
       "Canada       1.477656                       1.541009    1.659879   \n",
       "\n",
       "             Dystopia Residual  \n",
       "Country                         \n",
       "Switzerland           0.746637  \n",
       "Iceland               1.107506  \n",
       "Denmark               0.697586  \n",
       "Norway                0.645970  \n",
       "Canada                0.619855  "
      ]
     },
     "execution_count": 1455,
     "metadata": {},
     "output_type": "execute_result"
    }
   ],
   "source": [
    "hpy.head()"
   ]
  },
  {
   "cell_type": "markdown",
   "metadata": {},
   "source": [
    "# splitting data for training and testing"
   ]
  },
  {
   "cell_type": "code",
   "execution_count": 1456,
   "metadata": {},
   "outputs": [
    {
     "data": {
      "text/html": [
       "<div>\n",
       "<style scoped>\n",
       "    .dataframe tbody tr th:only-of-type {\n",
       "        vertical-align: middle;\n",
       "    }\n",
       "\n",
       "    .dataframe tbody tr th {\n",
       "        vertical-align: top;\n",
       "    }\n",
       "\n",
       "    .dataframe thead th {\n",
       "        text-align: right;\n",
       "    }\n",
       "</style>\n",
       "<table border=\"1\" class=\"dataframe\">\n",
       "  <thead>\n",
       "    <tr style=\"text-align: right;\">\n",
       "      <th></th>\n",
       "      <th>Economy (GDP per Capita)</th>\n",
       "      <th>Family</th>\n",
       "      <th>Health (Life Expectancy)</th>\n",
       "      <th>Freedom</th>\n",
       "      <th>Trust (Government Corruption)</th>\n",
       "      <th>Generosity</th>\n",
       "    </tr>\n",
       "    <tr>\n",
       "      <th>Country</th>\n",
       "      <th></th>\n",
       "      <th></th>\n",
       "      <th></th>\n",
       "      <th></th>\n",
       "      <th></th>\n",
       "      <th></th>\n",
       "    </tr>\n",
       "  </thead>\n",
       "  <tbody>\n",
       "    <tr>\n",
       "      <th>Switzerland</th>\n",
       "      <td>1.496510</td>\n",
       "      <td>1.655648</td>\n",
       "      <td>1.475144</td>\n",
       "      <td>1.752366</td>\n",
       "      <td>1.821002</td>\n",
       "      <td>0.643176</td>\n",
       "    </tr>\n",
       "    <tr>\n",
       "      <th>Iceland</th>\n",
       "      <td>1.199139</td>\n",
       "      <td>2.001641</td>\n",
       "      <td>1.517110</td>\n",
       "      <td>1.442860</td>\n",
       "      <td>0.322424</td>\n",
       "      <td>1.540959</td>\n",
       "    </tr>\n",
       "    <tr>\n",
       "      <th>Denmark</th>\n",
       "      <td>1.271461</td>\n",
       "      <td>1.726698</td>\n",
       "      <td>1.056051</td>\n",
       "      <td>1.614911</td>\n",
       "      <td>1.959024</td>\n",
       "      <td>0.958881</td>\n",
       "    </tr>\n",
       "    <tr>\n",
       "      <th>Norway</th>\n",
       "      <td>1.698523</td>\n",
       "      <td>1.538407</td>\n",
       "      <td>1.120195</td>\n",
       "      <td>1.788013</td>\n",
       "      <td>1.665595</td>\n",
       "      <td>0.996449</td>\n",
       "    </tr>\n",
       "    <tr>\n",
       "      <th>Canada</th>\n",
       "      <td>1.274000</td>\n",
       "      <td>1.486485</td>\n",
       "      <td>1.246418</td>\n",
       "      <td>1.477656</td>\n",
       "      <td>1.541009</td>\n",
       "      <td>1.659879</td>\n",
       "    </tr>\n",
       "    <tr>\n",
       "      <th>...</th>\n",
       "      <td>...</td>\n",
       "      <td>...</td>\n",
       "      <td>...</td>\n",
       "      <td>...</td>\n",
       "      <td>...</td>\n",
       "      <td>...</td>\n",
       "    </tr>\n",
       "    <tr>\n",
       "      <th>Burkina Faso</th>\n",
       "      <td>-1.491984</td>\n",
       "      <td>-0.759759</td>\n",
       "      <td>-1.440802</td>\n",
       "      <td>-0.285899</td>\n",
       "      <td>0.181129</td>\n",
       "      <td>-0.000126</td>\n",
       "    </tr>\n",
       "    <tr>\n",
       "      <th>Afghanistan</th>\n",
       "      <td>-1.365633</td>\n",
       "      <td>-2.066683</td>\n",
       "      <td>-1.357475</td>\n",
       "      <td>-1.247610</td>\n",
       "      <td>-0.200354</td>\n",
       "      <td>1.114991</td>\n",
       "    </tr>\n",
       "    <tr>\n",
       "      <th>Benin</th>\n",
       "      <td>-1.434102</td>\n",
       "      <td>-1.989442</td>\n",
       "      <td>-1.314868</td>\n",
       "      <td>0.328668</td>\n",
       "      <td>-0.441727</td>\n",
       "      <td>-0.321955</td>\n",
       "    </tr>\n",
       "    <tr>\n",
       "      <th>Syria</th>\n",
       "      <td>-0.584744</td>\n",
       "      <td>-1.774544</td>\n",
       "      <td>0.216458</td>\n",
       "      <td>-1.647953</td>\n",
       "      <td>0.754963</td>\n",
       "      <td>1.731955</td>\n",
       "    </tr>\n",
       "    <tr>\n",
       "      <th>Burundi</th>\n",
       "      <td>-1.945984</td>\n",
       "      <td>-1.885130</td>\n",
       "      <td>-1.555245</td>\n",
       "      <td>-1.832151</td>\n",
       "      <td>-0.154810</td>\n",
       "      <td>-0.183350</td>\n",
       "    </tr>\n",
       "  </tbody>\n",
       "</table>\n",
       "<p>150 rows × 6 columns</p>\n",
       "</div>"
      ],
      "text/plain": [
       "              Economy (GDP per Capita)    Family  Health (Life Expectancy)  \\\n",
       "Country                                                                      \n",
       "Switzerland                   1.496510  1.655648                  1.475144   \n",
       "Iceland                       1.199139  2.001641                  1.517110   \n",
       "Denmark                       1.271461  1.726698                  1.056051   \n",
       "Norway                        1.698523  1.538407                  1.120195   \n",
       "Canada                        1.274000  1.486485                  1.246418   \n",
       "...                                ...       ...                       ...   \n",
       "Burkina Faso                 -1.491984 -0.759759                 -1.440802   \n",
       "Afghanistan                  -1.365633 -2.066683                 -1.357475   \n",
       "Benin                        -1.434102 -1.989442                 -1.314868   \n",
       "Syria                        -0.584744 -1.774544                  0.216458   \n",
       "Burundi                      -1.945984 -1.885130                 -1.555245   \n",
       "\n",
       "               Freedom  Trust (Government Corruption)  Generosity  \n",
       "Country                                                            \n",
       "Switzerland   1.752366                       1.821002    0.643176  \n",
       "Iceland       1.442860                       0.322424    1.540959  \n",
       "Denmark       1.614911                       1.959024    0.958881  \n",
       "Norway        1.788013                       1.665595    0.996449  \n",
       "Canada        1.477656                       1.541009    1.659879  \n",
       "...                ...                            ...         ...  \n",
       "Burkina Faso -0.285899                       0.181129   -0.000126  \n",
       "Afghanistan  -1.247610                      -0.200354    1.114991  \n",
       "Benin         0.328668                      -0.441727   -0.321955  \n",
       "Syria        -1.647953                       0.754963    1.731955  \n",
       "Burundi      -1.832151                      -0.154810   -0.183350  \n",
       "\n",
       "[150 rows x 6 columns]"
      ]
     },
     "execution_count": 1456,
     "metadata": {},
     "output_type": "execute_result"
    }
   ],
   "source": [
    "x=hpy.iloc[:,4:-1]\n",
    "x"
   ]
  },
  {
   "cell_type": "code",
   "execution_count": null,
   "metadata": {},
   "outputs": [],
   "source": []
  },
  {
   "cell_type": "code",
   "execution_count": 1457,
   "metadata": {},
   "outputs": [
    {
     "data": {
      "text/plain": [
       "Country\n",
       "Switzerland    7.587\n",
       "Iceland        7.561\n",
       "Denmark        7.527\n",
       "Norway         7.522\n",
       "Canada         7.427\n",
       "Name: Happiness Score, dtype: float64"
      ]
     },
     "execution_count": 1457,
     "metadata": {},
     "output_type": "execute_result"
    }
   ],
   "source": [
    "y=hpy['Happiness Score']\n",
    "y.head()"
   ]
  },
  {
   "cell_type": "code",
   "execution_count": 1458,
   "metadata": {},
   "outputs": [
    {
     "data": {
      "text/plain": [
       "(150, 6)"
      ]
     },
     "execution_count": 1458,
     "metadata": {},
     "output_type": "execute_result"
    }
   ],
   "source": [
    "x.shape"
   ]
  },
  {
   "cell_type": "code",
   "execution_count": 1459,
   "metadata": {},
   "outputs": [
    {
     "data": {
      "text/plain": [
       "(150,)"
      ]
     },
     "execution_count": 1459,
     "metadata": {},
     "output_type": "execute_result"
    }
   ],
   "source": [
    "y.shape"
   ]
  },
  {
   "cell_type": "code",
   "execution_count": 1460,
   "metadata": {},
   "outputs": [],
   "source": [
    "x_train,x_test,y_train,y_test=train_test_split(x,y,test_size=.39,random_state=33)"
   ]
  },
  {
   "cell_type": "code",
   "execution_count": 1461,
   "metadata": {},
   "outputs": [
    {
     "data": {
      "text/plain": [
       "(91, 6)"
      ]
     },
     "execution_count": 1461,
     "metadata": {},
     "output_type": "execute_result"
    }
   ],
   "source": [
    "x_train.shape"
   ]
  },
  {
   "cell_type": "code",
   "execution_count": 1462,
   "metadata": {},
   "outputs": [
    {
     "data": {
      "text/plain": [
       "(91,)"
      ]
     },
     "execution_count": 1462,
     "metadata": {},
     "output_type": "execute_result"
    }
   ],
   "source": [
    "y_train.shape"
   ]
  },
  {
   "cell_type": "code",
   "execution_count": 1463,
   "metadata": {},
   "outputs": [
    {
     "data": {
      "text/plain": [
       "(59, 6)"
      ]
     },
     "execution_count": 1463,
     "metadata": {},
     "output_type": "execute_result"
    }
   ],
   "source": [
    "x_test.shape"
   ]
  },
  {
   "cell_type": "code",
   "execution_count": 1464,
   "metadata": {},
   "outputs": [
    {
     "data": {
      "text/plain": [
       "(59,)"
      ]
     },
     "execution_count": 1464,
     "metadata": {},
     "output_type": "execute_result"
    }
   ],
   "source": [
    "y_test.shape"
   ]
  },
  {
   "cell_type": "code",
   "execution_count": 1465,
   "metadata": {},
   "outputs": [],
   "source": [
    "lm=LinearRegression()"
   ]
  },
  {
   "cell_type": "code",
   "execution_count": 1466,
   "metadata": {},
   "outputs": [
    {
     "data": {
      "text/plain": [
       "LinearRegression()"
      ]
     },
     "execution_count": 1466,
     "metadata": {},
     "output_type": "execute_result"
    }
   ],
   "source": [
    "lm.fit(x_train,y_train)"
   ]
  },
  {
   "cell_type": "code",
   "execution_count": 1467,
   "metadata": {},
   "outputs": [
    {
     "data": {
      "text/plain": [
       "array([0.20872387, 0.40862247, 0.32399301, 0.15254661, 0.1267958 ,\n",
       "       0.0042115 ])"
      ]
     },
     "execution_count": 1467,
     "metadata": {},
     "output_type": "execute_result"
    }
   ],
   "source": [
    "lm.coef_"
   ]
  },
  {
   "cell_type": "code",
   "execution_count": 1468,
   "metadata": {},
   "outputs": [
    {
     "data": {
      "text/plain": [
       "5.426327287616806"
      ]
     },
     "execution_count": 1468,
     "metadata": {},
     "output_type": "execute_result"
    }
   ],
   "source": [
    "lm.intercept_"
   ]
  },
  {
   "cell_type": "code",
   "execution_count": 1469,
   "metadata": {},
   "outputs": [
    {
     "data": {
      "text/plain": [
       "0.7437535461332592"
      ]
     },
     "execution_count": 1469,
     "metadata": {},
     "output_type": "execute_result"
    }
   ],
   "source": [
    "lm.score(x_train,y_train)"
   ]
  },
  {
   "cell_type": "code",
   "execution_count": 1470,
   "metadata": {},
   "outputs": [
    {
     "name": "stdout",
     "output_type": "stream",
     "text": [
      "predicted result score: [5.66355029 4.64261422 6.06148166 5.79840252 4.23919951 5.72463203\n",
      " 6.12078224 7.19654455 4.85440714 4.63736383 3.80994688 5.47481654\n",
      " 4.65227466 5.68523343 3.99651865 4.28521433 4.27764139 6.83595255\n",
      " 6.02680039 3.66444827 7.19078009 6.87614554 4.88455541 6.92788633\n",
      " 4.42376652 5.48159062 5.0993244  5.34100585 3.88082941 3.44606881\n",
      " 5.87017925 5.40719904 4.38060339 4.09318044 4.48285538 4.31700287\n",
      " 5.02693045 4.95552886 4.46062437 6.65740359 4.88163048 4.82974637\n",
      " 4.49085156 7.23821574 6.97566271 5.21673626 6.39747514 4.14407492\n",
      " 5.2933806  6.34385187 5.36016144 4.56280674 7.10192215 5.95712345\n",
      " 4.20555772 4.28262536 5.24983039 5.20401046 6.44514406]\n",
      "actual score Country\n",
      "Mongolia                   4.874\n",
      "Kosovo                     5.589\n",
      "Czech Republic             6.505\n",
      "Nicaragua                  5.828\n",
      "Comoros                    3.956\n",
      "Hungary                    4.800\n",
      "Panama                     6.786\n",
      "Ireland                    6.940\n",
      "Gabon                      3.896\n",
      "Kenya                      4.419\n",
      "Guinea                     3.656\n",
      "Suriname                   6.269\n",
      "Senegal                    3.904\n",
      "Cyprus                     5.689\n",
      "Madagascar                 3.681\n",
      "Nigeria                    5.268\n",
      "Niger                      3.845\n",
      "France                     6.575\n",
      "Belarus                    5.813\n",
      "Malawi                     4.292\n",
      "Australia                  7.284\n",
      "Belgium                    6.937\n",
      "Palestinian Territories    4.715\n",
      "Austria                    7.200\n",
      "Mauritania                 4.436\n",
      "Sri Lanka                  4.271\n",
      "Albania                    4.959\n",
      "Vietnam                    5.360\n",
      "Benin                      3.340\n",
      "Burundi                    2.905\n",
      "Dominican Republic         4.885\n",
      "Philippines                5.073\n",
      "Djibouti                   4.369\n",
      "Congo (Kinshasa)           4.517\n",
      "Tanzania                   3.781\n",
      "Burkina Faso               3.587\n",
      "Honduras                   4.788\n",
      "Laos                       4.876\n",
      "Lesotho                    4.898\n",
      "Spain                      6.329\n",
      "Somaliland region          5.057\n",
      "Bosnia and Herzegovina     4.949\n",
      "Swaziland                  4.867\n",
      "Denmark                    7.527\n",
      "Netherlands                7.378\n",
      "Greece                     4.857\n",
      "Costa Rica                 7.226\n",
      "Angola                     4.033\n",
      "El Salvador                6.130\n",
      "Oman                       6.853\n",
      "Algeria                    5.605\n",
      "Nepal                      4.514\n",
      "Finland                    7.406\n",
      "Paraguay                   5.878\n",
      "Haiti                      4.518\n",
      "Sierra Leone               4.507\n",
      "Macedonia                  5.007\n",
      "Indonesia                  5.399\n",
      "Kuwait                     6.295\n",
      "Name: Happiness Score, dtype: float64\n"
     ]
    }
   ],
   "source": [
    "pred=lm.predict(x_test)\n",
    "print(\"predicted result score:\",pred)\n",
    "print(\"actual score\",y_test)"
   ]
  },
  {
   "cell_type": "code",
   "execution_count": 1471,
   "metadata": {},
   "outputs": [
    {
     "name": "stdout",
     "output_type": "stream",
     "text": [
      "error:\n",
      "mean absolute error: 0.3930194097880221\n",
      "mean squared error: 0.24720021711471646\n",
      "Root mean squared error: 0.4971923341270624\n"
     ]
    }
   ],
   "source": [
    "print('error:')\n",
    "\n",
    "print('mean absolute error:',mean_absolute_error(y_test,pred))\n",
    "print('mean squared error:',mean_squared_error(y_test,pred))\n",
    "print('Root mean squared error:',np.sqrt(mean_squared_error(y_test,pred)))\n",
    "\n"
   ]
  },
  {
   "cell_type": "markdown",
   "metadata": {},
   "source": [
    "# checking results with R2score"
   ]
  },
  {
   "cell_type": "code",
   "execution_count": 1472,
   "metadata": {},
   "outputs": [
    {
     "name": "stdout",
     "output_type": "stream",
     "text": [
      "0.8212814877353626\n"
     ]
    }
   ],
   "source": [
    "from sklearn.metrics import r2_score\n",
    "print(r2_score(y_test,pred))"
   ]
  },
  {
   "cell_type": "markdown",
   "metadata": {},
   "source": [
    "this model is 82% accurate"
   ]
  },
  {
   "cell_type": "code",
   "execution_count": null,
   "metadata": {},
   "outputs": [],
   "source": []
  },
  {
   "cell_type": "markdown",
   "metadata": {},
   "source": [
    "\n",
    "# saving and testing model"
   ]
  },
  {
   "cell_type": "code",
   "execution_count": 1473,
   "metadata": {},
   "outputs": [
    {
     "data": {
      "text/plain": [
       "['hpyy.pkl']"
      ]
     },
     "execution_count": 1473,
     "metadata": {},
     "output_type": "execute_result"
    }
   ],
   "source": [
    "import joblib\n",
    "joblib.dump(pred,\"hpyy.pkl\")"
   ]
  },
  {
   "cell_type": "code",
   "execution_count": 1474,
   "metadata": {},
   "outputs": [],
   "source": [
    "tst=joblib.load(\"hpyy.pkl\")"
   ]
  },
  {
   "cell_type": "code",
   "execution_count": 1475,
   "metadata": {},
   "outputs": [],
   "source": [
    "pred=lm.predict(x)"
   ]
  },
  {
   "cell_type": "code",
   "execution_count": 1476,
   "metadata": {},
   "outputs": [
    {
     "name": "stdout",
     "output_type": "stream",
     "text": [
      "yes\n"
     ]
    }
   ],
   "source": [
    "if y.all()==pred.all():\n",
    "    print(\"yes\")"
   ]
  },
  {
   "cell_type": "code",
   "execution_count": null,
   "metadata": {},
   "outputs": [],
   "source": []
  }
 ],
 "metadata": {
  "kernelspec": {
   "display_name": "Python 3",
   "language": "python",
   "name": "python3"
  },
  "language_info": {
   "codemirror_mode": {
    "name": "ipython",
    "version": 3
   },
   "file_extension": ".py",
   "mimetype": "text/x-python",
   "name": "python",
   "nbconvert_exporter": "python",
   "pygments_lexer": "ipython3",
   "version": "3.8.5"
  }
 },
 "nbformat": 4,
 "nbformat_minor": 4
}
